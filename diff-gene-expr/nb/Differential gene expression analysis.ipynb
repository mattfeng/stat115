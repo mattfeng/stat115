{
 "cells": [
  {
   "cell_type": "markdown",
   "id": "fc9b6502",
   "metadata": {
    "deletable": false,
    "editable": false,
    "run_control": {
     "frozen": true
    }
   },
   "source": [
    "# Differential Gene Expression (DGE) Analysis"
   ]
  },
  {
   "cell_type": "markdown",
   "id": "3918fe3c",
   "metadata": {
    "deletable": false,
    "editable": false,
    "run_control": {
     "frozen": true
    }
   },
   "source": [
    "## 1. [Setup and overview of gene-level differential expression analysis](https://hbctraining.github.io/DGE_workshop_salmon/lessons/01_DGE_setup_and_overview.html)"
   ]
  },
  {
   "cell_type": "code",
   "execution_count": 16,
   "id": "42b2d415",
   "metadata": {},
   "outputs": [],
   "source": [
    "# install.packages(c(\"BiocManager\", \"pheatmap\"))\n",
    "# BiocManager::install(\"DESeq2\")\n",
    "# BiocManager::install(\"DEGreport\")\n",
    "# BiocManager::install(\"tximport\")"
   ]
  },
  {
   "cell_type": "code",
   "execution_count": 17,
   "id": "1fb8d9eb",
   "metadata": {},
   "outputs": [],
   "source": [
    "library(DESeq2)\n",
    "library(tidyverse)\n",
    "library(RColorBrewer)\n",
    "library(pheatmap)\n",
    "library(DEGreport)\n",
    "library(tximport)\n",
    "library(ggplot2)\n",
    "library(ggrepel)"
   ]
  },
  {
   "cell_type": "markdown",
   "id": "3e3816a7",
   "metadata": {
    "deletable": false,
    "editable": false,
    "run_control": {
     "frozen": true
    }
   },
   "source": [
    "### 1.1 Setup"
   ]
  },
  {
   "cell_type": "markdown",
   "id": "b05d73a2",
   "metadata": {
    "deletable": false,
    "editable": false,
    "run_control": {
     "frozen": true
    }
   },
   "source": [
    "#### Load data"
   ]
  },
  {
   "cell_type": "code",
   "execution_count": 18,
   "id": "91073fa5",
   "metadata": {},
   "outputs": [
    {
     "name": "stdout",
     "output_type": "stream",
     "text": [
      "[1] \"/home/mattfeng\"\n"
     ]
    }
   ],
   "source": [
    "HOME = Sys.getenv(\"HOME\")\n",
    "print(HOME)\n",
    "samples = list.files(path=str_glue(\"{HOME}/scratch/dge\"), full.names=TRUE, pattern=\"salmon$\")\n",
    "files = file.path(samples, \"quant.sf\")\n",
    "names(files) = str_replace(samples, str_glue(\"{HOME}/scratch/dge/\"), \"\") %>% str_replace(\".salmon\", \"\")"
   ]
  },
  {
   "cell_type": "code",
   "execution_count": 19,
   "id": "b30b3a1d",
   "metadata": {},
   "outputs": [
    {
     "name": "stdout",
     "output_type": "stream",
     "text": [
      "                                             Irrel_kd_1 \n",
      "\"/home/mattfeng/scratch/dge/Irrel_kd_1.salmon/quant.sf\" \n",
      "                                             Irrel_kd_2 \n",
      "\"/home/mattfeng/scratch/dge/Irrel_kd_2.salmon/quant.sf\" \n",
      "                                             Irrel_kd_3 \n",
      "\"/home/mattfeng/scratch/dge/Irrel_kd_3.salmon/quant.sf\" \n",
      "                                             Mov10_kd_2 \n",
      "\"/home/mattfeng/scratch/dge/Mov10_kd_2.salmon/quant.sf\" \n",
      "                                             Mov10_kd_3 \n",
      "\"/home/mattfeng/scratch/dge/Mov10_kd_3.salmon/quant.sf\" \n",
      "                                             Mov10_oe_1 \n",
      "\"/home/mattfeng/scratch/dge/Mov10_oe_1.salmon/quant.sf\" \n",
      "                                             Mov10_oe_2 \n",
      "\"/home/mattfeng/scratch/dge/Mov10_oe_2.salmon/quant.sf\" \n",
      "                                             Mov10_oe_3 \n",
      "\"/home/mattfeng/scratch/dge/Mov10_oe_3.salmon/quant.sf\" \n"
     ]
    }
   ],
   "source": [
    "print(files)"
   ]
  },
  {
   "cell_type": "markdown",
   "id": "11ed19b7",
   "metadata": {
    "deletable": false,
    "editable": false,
    "run_control": {
     "frozen": true
    }
   },
   "source": [
    "#### View `quant.sf` file"
   ]
  },
  {
   "cell_type": "code",
   "execution_count": 20,
   "id": "63c51c44",
   "metadata": {},
   "outputs": [
    {
     "data": {
      "text/html": [
       "<table class=\"dataframe\">\n",
       "<caption>A data.frame: 199658 × 5</caption>\n",
       "<thead>\n",
       "\t<tr><th scope=col>Name</th><th scope=col>Length</th><th scope=col>EffectiveLength</th><th scope=col>TPM</th><th scope=col>NumReads</th></tr>\n",
       "\t<tr><th scope=col>&lt;chr&gt;</th><th scope=col>&lt;int&gt;</th><th scope=col>&lt;dbl&gt;</th><th scope=col>&lt;dbl&gt;</th><th scope=col>&lt;dbl&gt;</th></tr>\n",
       "</thead>\n",
       "<tbody>\n",
       "\t<tr><td>ENST00000456328</td><td>1657</td><td>1408.000</td><td> 0.184459</td><td> 10.008349</td></tr>\n",
       "\t<tr><td>ENST00000450305</td><td> 632</td><td> 383.000</td><td> 0.000000</td><td>  0.000000</td></tr>\n",
       "\t<tr><td>ENST00000488147</td><td>1351</td><td>1102.000</td><td> 6.024747</td><td>255.847581</td></tr>\n",
       "\t<tr><td>ENST00000619216</td><td>  68</td><td>   3.848</td><td>16.212236</td><td>  2.404265</td></tr>\n",
       "\t<tr><td>ENST00000473358</td><td> 712</td><td> 463.000</td><td> 0.283619</td><td>  5.060319</td></tr>\n",
       "\t<tr><td>ENST00000469289</td><td> 535</td><td> 286.000</td><td> 0.000000</td><td>  0.000000</td></tr>\n",
       "\t<tr><td>ENST00000607096</td><td> 138</td><td>   5.663</td><td> 0.000000</td><td>  0.000000</td></tr>\n",
       "\t<tr><td>ENST00000417324</td><td>1187</td><td> 938.000</td><td> 0.000000</td><td>  0.000000</td></tr>\n",
       "\t<tr><td>ENST00000461467</td><td> 590</td><td> 341.000</td><td> 0.000000</td><td>  0.000000</td></tr>\n",
       "\t<tr><td>ENST00000606857</td><td> 840</td><td> 591.000</td><td> 0.000000</td><td>  0.000000</td></tr>\n",
       "\t<tr><td>ENST00000642116</td><td>1414</td><td>1165.000</td><td> 0.000000</td><td>  0.000000</td></tr>\n",
       "\t<tr><td>ENST00000492842</td><td> 939</td><td> 690.000</td><td> 0.000000</td><td>  0.000000</td></tr>\n",
       "\t<tr><td>ENST00000641515</td><td>2618</td><td>2369.000</td><td> 0.000000</td><td>  0.000000</td></tr>\n",
       "\t<tr><td>ENST00000335137</td><td>1054</td><td> 805.000</td><td> 0.000000</td><td>  0.000000</td></tr>\n",
       "\t<tr><td>ENST00000466430</td><td>2748</td><td>2499.000</td><td> 0.842622</td><td> 81.144662</td></tr>\n",
       "\t<tr><td>ENST00000495576</td><td>1319</td><td>1070.000</td><td> 0.570724</td><td> 23.532655</td></tr>\n",
       "\t<tr><td>ENST00000477740</td><td> 491</td><td> 242.000</td><td> 0.000000</td><td>  0.000000</td></tr>\n",
       "\t<tr><td>ENST00000471248</td><td> 629</td><td> 380.000</td><td> 0.354528</td><td>  5.191525</td></tr>\n",
       "\t<tr><td>ENST00000610542</td><td> 723</td><td> 474.000</td><td> 0.000000</td><td>  0.000000</td></tr>\n",
       "\t<tr><td>ENST00000453576</td><td> 336</td><td>  87.025</td><td> 0.000000</td><td>  0.000000</td></tr>\n",
       "\t<tr><td>ENST00000442987</td><td>3812</td><td>3563.000</td><td> 0.087095</td><td> 11.958341</td></tr>\n",
       "\t<tr><td>ENST00000494149</td><td> 755</td><td> 506.000</td><td> 4.049344</td><td> 78.958001</td></tr>\n",
       "\t<tr><td>ENST00000595919</td><td> 284</td><td>  39.201</td><td>12.427193</td><td> 18.773013</td></tr>\n",
       "\t<tr><td>ENST00000493797</td><td> 323</td><td>  74.133</td><td>17.598999</td><td> 50.275730</td></tr>\n",
       "\t<tr><td>ENST00000484859</td><td>4860</td><td>4611.000</td><td> 3.216780</td><td>571.580450</td></tr>\n",
       "\t<tr><td>ENST00000490997</td><td> 518</td><td> 269.000</td><td> 0.983513</td><td> 10.195140</td></tr>\n",
       "\t<tr><td>ENST00000466557</td><td>1301</td><td>1052.000</td><td> 1.803278</td><td> 73.103679</td></tr>\n",
       "\t<tr><td>ENST00000410691</td><td> 104</td><td>   4.593</td><td> 0.000000</td><td>  0.000000</td></tr>\n",
       "\t<tr><td>ENST00000496488</td><td> 457</td><td> 208.000</td><td> 0.000000</td><td>  0.000000</td></tr>\n",
       "\t<tr><td>ENST00000491962</td><td> 278</td><td>  34.967</td><td>17.701445</td><td> 23.852217</td></tr>\n",
       "\t<tr><td>⋮</td><td>⋮</td><td>⋮</td><td>⋮</td><td>⋮</td></tr>\n",
       "\t<tr><td>ENST00000447528</td><td>1279</td><td>1030.000</td><td>0</td><td>0</td></tr>\n",
       "\t<tr><td>ENST00000361963</td><td>2177</td><td>1928.000</td><td>0</td><td>0</td></tr>\n",
       "\t<tr><td>ENST00000431179</td><td>1232</td><td> 983.000</td><td>0</td><td>0</td></tr>\n",
       "\t<tr><td>ENST00000426293</td><td> 308</td><td>  59.652</td><td>0</td><td>0</td></tr>\n",
       "\t<tr><td>ENST00000443911</td><td> 597</td><td> 348.000</td><td>0</td><td>0</td></tr>\n",
       "\t<tr><td>ENST00000430729</td><td> 455</td><td> 206.000</td><td>0</td><td>0</td></tr>\n",
       "\t<tr><td>ENST00000429406</td><td> 715</td><td> 466.000</td><td>0</td><td>0</td></tr>\n",
       "\t<tr><td>ENST00000412165</td><td> 485</td><td> 236.000</td><td>0</td><td>0</td></tr>\n",
       "\t<tr><td>ENST00000451423</td><td>1554</td><td>1305.000</td><td>0</td><td>0</td></tr>\n",
       "\t<tr><td>ENST00000414751</td><td> 326</td><td>  77.092</td><td>0</td><td>0</td></tr>\n",
       "\t<tr><td>ENST00000420889</td><td> 959</td><td> 710.000</td><td>0</td><td>0</td></tr>\n",
       "\t<tr><td>ENST00000421750</td><td> 331</td><td>  82.049</td><td>0</td><td>0</td></tr>\n",
       "\t<tr><td>ENST00000419224</td><td> 558</td><td> 309.000</td><td>0</td><td>0</td></tr>\n",
       "\t<tr><td>ENST00000420603</td><td> 432</td><td> 183.000</td><td>0</td><td>0</td></tr>\n",
       "\t<tr><td>ENST00000440468</td><td>1116</td><td> 867.000</td><td>0</td><td>0</td></tr>\n",
       "\t<tr><td>ENST00000421008</td><td> 661</td><td> 412.000</td><td>0</td><td>0</td></tr>\n",
       "\t<tr><td>ENST00000411536</td><td>1392</td><td>1143.000</td><td>0</td><td>0</td></tr>\n",
       "\t<tr><td>ENST00000439103</td><td> 200</td><td>   9.896</td><td>0</td><td>0</td></tr>\n",
       "\t<tr><td>ENST00000426199</td><td> 223</td><td>  13.340</td><td>0</td><td>0</td></tr>\n",
       "\t<tr><td>ENST00000367272</td><td>1671</td><td>1422.000</td><td>0</td><td>0</td></tr>\n",
       "\t<tr><td>ENST00000517139</td><td> 104</td><td>   4.593</td><td>0</td><td>0</td></tr>\n",
       "\t<tr><td>ENST00000417124</td><td> 323</td><td>  74.133</td><td>0</td><td>0</td></tr>\n",
       "\t<tr><td>ENST00000344424</td><td> 659</td><td> 410.000</td><td>0</td><td>0</td></tr>\n",
       "\t<tr><td>ENST00000619329</td><td> 111</td><td>   4.777</td><td>0</td><td>0</td></tr>\n",
       "\t<tr><td>ENST00000258589</td><td>1605</td><td>1356.000</td><td>0</td><td>0</td></tr>\n",
       "\t<tr><td>ENST00000420810</td><td> 319</td><td>  70.210</td><td>0</td><td>0</td></tr>\n",
       "\t<tr><td>ENST00000456738</td><td> 342</td><td>  93.011</td><td>0</td><td>0</td></tr>\n",
       "\t<tr><td>ENST00000435945</td><td>2337</td><td>2088.000</td><td>0</td><td>0</td></tr>\n",
       "\t<tr><td>ENST00000435741</td><td> 640</td><td> 391.000</td><td>0</td><td>0</td></tr>\n",
       "\t<tr><td>ENST00000431853</td><td> 245</td><td>  18.900</td><td>0</td><td>0</td></tr>\n",
       "</tbody>\n",
       "</table>\n"
      ],
      "text/latex": [
       "A data.frame: 199658 × 5\n",
       "\\begin{tabular}{lllll}\n",
       " Name & Length & EffectiveLength & TPM & NumReads\\\\\n",
       " <chr> & <int> & <dbl> & <dbl> & <dbl>\\\\\n",
       "\\hline\n",
       "\t ENST00000456328 & 1657 & 1408.000 &  0.184459 &  10.008349\\\\\n",
       "\t ENST00000450305 &  632 &  383.000 &  0.000000 &   0.000000\\\\\n",
       "\t ENST00000488147 & 1351 & 1102.000 &  6.024747 & 255.847581\\\\\n",
       "\t ENST00000619216 &   68 &    3.848 & 16.212236 &   2.404265\\\\\n",
       "\t ENST00000473358 &  712 &  463.000 &  0.283619 &   5.060319\\\\\n",
       "\t ENST00000469289 &  535 &  286.000 &  0.000000 &   0.000000\\\\\n",
       "\t ENST00000607096 &  138 &    5.663 &  0.000000 &   0.000000\\\\\n",
       "\t ENST00000417324 & 1187 &  938.000 &  0.000000 &   0.000000\\\\\n",
       "\t ENST00000461467 &  590 &  341.000 &  0.000000 &   0.000000\\\\\n",
       "\t ENST00000606857 &  840 &  591.000 &  0.000000 &   0.000000\\\\\n",
       "\t ENST00000642116 & 1414 & 1165.000 &  0.000000 &   0.000000\\\\\n",
       "\t ENST00000492842 &  939 &  690.000 &  0.000000 &   0.000000\\\\\n",
       "\t ENST00000641515 & 2618 & 2369.000 &  0.000000 &   0.000000\\\\\n",
       "\t ENST00000335137 & 1054 &  805.000 &  0.000000 &   0.000000\\\\\n",
       "\t ENST00000466430 & 2748 & 2499.000 &  0.842622 &  81.144662\\\\\n",
       "\t ENST00000495576 & 1319 & 1070.000 &  0.570724 &  23.532655\\\\\n",
       "\t ENST00000477740 &  491 &  242.000 &  0.000000 &   0.000000\\\\\n",
       "\t ENST00000471248 &  629 &  380.000 &  0.354528 &   5.191525\\\\\n",
       "\t ENST00000610542 &  723 &  474.000 &  0.000000 &   0.000000\\\\\n",
       "\t ENST00000453576 &  336 &   87.025 &  0.000000 &   0.000000\\\\\n",
       "\t ENST00000442987 & 3812 & 3563.000 &  0.087095 &  11.958341\\\\\n",
       "\t ENST00000494149 &  755 &  506.000 &  4.049344 &  78.958001\\\\\n",
       "\t ENST00000595919 &  284 &   39.201 & 12.427193 &  18.773013\\\\\n",
       "\t ENST00000493797 &  323 &   74.133 & 17.598999 &  50.275730\\\\\n",
       "\t ENST00000484859 & 4860 & 4611.000 &  3.216780 & 571.580450\\\\\n",
       "\t ENST00000490997 &  518 &  269.000 &  0.983513 &  10.195140\\\\\n",
       "\t ENST00000466557 & 1301 & 1052.000 &  1.803278 &  73.103679\\\\\n",
       "\t ENST00000410691 &  104 &    4.593 &  0.000000 &   0.000000\\\\\n",
       "\t ENST00000496488 &  457 &  208.000 &  0.000000 &   0.000000\\\\\n",
       "\t ENST00000491962 &  278 &   34.967 & 17.701445 &  23.852217\\\\\n",
       "\t ⋮ & ⋮ & ⋮ & ⋮ & ⋮\\\\\n",
       "\t ENST00000447528 & 1279 & 1030.000 & 0 & 0\\\\\n",
       "\t ENST00000361963 & 2177 & 1928.000 & 0 & 0\\\\\n",
       "\t ENST00000431179 & 1232 &  983.000 & 0 & 0\\\\\n",
       "\t ENST00000426293 &  308 &   59.652 & 0 & 0\\\\\n",
       "\t ENST00000443911 &  597 &  348.000 & 0 & 0\\\\\n",
       "\t ENST00000430729 &  455 &  206.000 & 0 & 0\\\\\n",
       "\t ENST00000429406 &  715 &  466.000 & 0 & 0\\\\\n",
       "\t ENST00000412165 &  485 &  236.000 & 0 & 0\\\\\n",
       "\t ENST00000451423 & 1554 & 1305.000 & 0 & 0\\\\\n",
       "\t ENST00000414751 &  326 &   77.092 & 0 & 0\\\\\n",
       "\t ENST00000420889 &  959 &  710.000 & 0 & 0\\\\\n",
       "\t ENST00000421750 &  331 &   82.049 & 0 & 0\\\\\n",
       "\t ENST00000419224 &  558 &  309.000 & 0 & 0\\\\\n",
       "\t ENST00000420603 &  432 &  183.000 & 0 & 0\\\\\n",
       "\t ENST00000440468 & 1116 &  867.000 & 0 & 0\\\\\n",
       "\t ENST00000421008 &  661 &  412.000 & 0 & 0\\\\\n",
       "\t ENST00000411536 & 1392 & 1143.000 & 0 & 0\\\\\n",
       "\t ENST00000439103 &  200 &    9.896 & 0 & 0\\\\\n",
       "\t ENST00000426199 &  223 &   13.340 & 0 & 0\\\\\n",
       "\t ENST00000367272 & 1671 & 1422.000 & 0 & 0\\\\\n",
       "\t ENST00000517139 &  104 &    4.593 & 0 & 0\\\\\n",
       "\t ENST00000417124 &  323 &   74.133 & 0 & 0\\\\\n",
       "\t ENST00000344424 &  659 &  410.000 & 0 & 0\\\\\n",
       "\t ENST00000619329 &  111 &    4.777 & 0 & 0\\\\\n",
       "\t ENST00000258589 & 1605 & 1356.000 & 0 & 0\\\\\n",
       "\t ENST00000420810 &  319 &   70.210 & 0 & 0\\\\\n",
       "\t ENST00000456738 &  342 &   93.011 & 0 & 0\\\\\n",
       "\t ENST00000435945 & 2337 & 2088.000 & 0 & 0\\\\\n",
       "\t ENST00000435741 &  640 &  391.000 & 0 & 0\\\\\n",
       "\t ENST00000431853 &  245 &   18.900 & 0 & 0\\\\\n",
       "\\end{tabular}\n"
      ],
      "text/markdown": [
       "\n",
       "A data.frame: 199658 × 5\n",
       "\n",
       "| Name &lt;chr&gt; | Length &lt;int&gt; | EffectiveLength &lt;dbl&gt; | TPM &lt;dbl&gt; | NumReads &lt;dbl&gt; |\n",
       "|---|---|---|---|---|\n",
       "| ENST00000456328 | 1657 | 1408.000 |  0.184459 |  10.008349 |\n",
       "| ENST00000450305 |  632 |  383.000 |  0.000000 |   0.000000 |\n",
       "| ENST00000488147 | 1351 | 1102.000 |  6.024747 | 255.847581 |\n",
       "| ENST00000619216 |   68 |    3.848 | 16.212236 |   2.404265 |\n",
       "| ENST00000473358 |  712 |  463.000 |  0.283619 |   5.060319 |\n",
       "| ENST00000469289 |  535 |  286.000 |  0.000000 |   0.000000 |\n",
       "| ENST00000607096 |  138 |    5.663 |  0.000000 |   0.000000 |\n",
       "| ENST00000417324 | 1187 |  938.000 |  0.000000 |   0.000000 |\n",
       "| ENST00000461467 |  590 |  341.000 |  0.000000 |   0.000000 |\n",
       "| ENST00000606857 |  840 |  591.000 |  0.000000 |   0.000000 |\n",
       "| ENST00000642116 | 1414 | 1165.000 |  0.000000 |   0.000000 |\n",
       "| ENST00000492842 |  939 |  690.000 |  0.000000 |   0.000000 |\n",
       "| ENST00000641515 | 2618 | 2369.000 |  0.000000 |   0.000000 |\n",
       "| ENST00000335137 | 1054 |  805.000 |  0.000000 |   0.000000 |\n",
       "| ENST00000466430 | 2748 | 2499.000 |  0.842622 |  81.144662 |\n",
       "| ENST00000495576 | 1319 | 1070.000 |  0.570724 |  23.532655 |\n",
       "| ENST00000477740 |  491 |  242.000 |  0.000000 |   0.000000 |\n",
       "| ENST00000471248 |  629 |  380.000 |  0.354528 |   5.191525 |\n",
       "| ENST00000610542 |  723 |  474.000 |  0.000000 |   0.000000 |\n",
       "| ENST00000453576 |  336 |   87.025 |  0.000000 |   0.000000 |\n",
       "| ENST00000442987 | 3812 | 3563.000 |  0.087095 |  11.958341 |\n",
       "| ENST00000494149 |  755 |  506.000 |  4.049344 |  78.958001 |\n",
       "| ENST00000595919 |  284 |   39.201 | 12.427193 |  18.773013 |\n",
       "| ENST00000493797 |  323 |   74.133 | 17.598999 |  50.275730 |\n",
       "| ENST00000484859 | 4860 | 4611.000 |  3.216780 | 571.580450 |\n",
       "| ENST00000490997 |  518 |  269.000 |  0.983513 |  10.195140 |\n",
       "| ENST00000466557 | 1301 | 1052.000 |  1.803278 |  73.103679 |\n",
       "| ENST00000410691 |  104 |    4.593 |  0.000000 |   0.000000 |\n",
       "| ENST00000496488 |  457 |  208.000 |  0.000000 |   0.000000 |\n",
       "| ENST00000491962 |  278 |   34.967 | 17.701445 |  23.852217 |\n",
       "| ⋮ | ⋮ | ⋮ | ⋮ | ⋮ |\n",
       "| ENST00000447528 | 1279 | 1030.000 | 0 | 0 |\n",
       "| ENST00000361963 | 2177 | 1928.000 | 0 | 0 |\n",
       "| ENST00000431179 | 1232 |  983.000 | 0 | 0 |\n",
       "| ENST00000426293 |  308 |   59.652 | 0 | 0 |\n",
       "| ENST00000443911 |  597 |  348.000 | 0 | 0 |\n",
       "| ENST00000430729 |  455 |  206.000 | 0 | 0 |\n",
       "| ENST00000429406 |  715 |  466.000 | 0 | 0 |\n",
       "| ENST00000412165 |  485 |  236.000 | 0 | 0 |\n",
       "| ENST00000451423 | 1554 | 1305.000 | 0 | 0 |\n",
       "| ENST00000414751 |  326 |   77.092 | 0 | 0 |\n",
       "| ENST00000420889 |  959 |  710.000 | 0 | 0 |\n",
       "| ENST00000421750 |  331 |   82.049 | 0 | 0 |\n",
       "| ENST00000419224 |  558 |  309.000 | 0 | 0 |\n",
       "| ENST00000420603 |  432 |  183.000 | 0 | 0 |\n",
       "| ENST00000440468 | 1116 |  867.000 | 0 | 0 |\n",
       "| ENST00000421008 |  661 |  412.000 | 0 | 0 |\n",
       "| ENST00000411536 | 1392 | 1143.000 | 0 | 0 |\n",
       "| ENST00000439103 |  200 |    9.896 | 0 | 0 |\n",
       "| ENST00000426199 |  223 |   13.340 | 0 | 0 |\n",
       "| ENST00000367272 | 1671 | 1422.000 | 0 | 0 |\n",
       "| ENST00000517139 |  104 |    4.593 | 0 | 0 |\n",
       "| ENST00000417124 |  323 |   74.133 | 0 | 0 |\n",
       "| ENST00000344424 |  659 |  410.000 | 0 | 0 |\n",
       "| ENST00000619329 |  111 |    4.777 | 0 | 0 |\n",
       "| ENST00000258589 | 1605 | 1356.000 | 0 | 0 |\n",
       "| ENST00000420810 |  319 |   70.210 | 0 | 0 |\n",
       "| ENST00000456738 |  342 |   93.011 | 0 | 0 |\n",
       "| ENST00000435945 | 2337 | 2088.000 | 0 | 0 |\n",
       "| ENST00000435741 |  640 |  391.000 | 0 | 0 |\n",
       "| ENST00000431853 |  245 |   18.900 | 0 | 0 |\n",
       "\n"
      ],
      "text/plain": [
       "       Name            Length EffectiveLength TPM       NumReads  \n",
       "1      ENST00000456328 1657   1408.000         0.184459  10.008349\n",
       "2      ENST00000450305  632    383.000         0.000000   0.000000\n",
       "3      ENST00000488147 1351   1102.000         6.024747 255.847581\n",
       "4      ENST00000619216   68      3.848        16.212236   2.404265\n",
       "5      ENST00000473358  712    463.000         0.283619   5.060319\n",
       "6      ENST00000469289  535    286.000         0.000000   0.000000\n",
       "7      ENST00000607096  138      5.663         0.000000   0.000000\n",
       "8      ENST00000417324 1187    938.000         0.000000   0.000000\n",
       "9      ENST00000461467  590    341.000         0.000000   0.000000\n",
       "10     ENST00000606857  840    591.000         0.000000   0.000000\n",
       "11     ENST00000642116 1414   1165.000         0.000000   0.000000\n",
       "12     ENST00000492842  939    690.000         0.000000   0.000000\n",
       "13     ENST00000641515 2618   2369.000         0.000000   0.000000\n",
       "14     ENST00000335137 1054    805.000         0.000000   0.000000\n",
       "15     ENST00000466430 2748   2499.000         0.842622  81.144662\n",
       "16     ENST00000495576 1319   1070.000         0.570724  23.532655\n",
       "17     ENST00000477740  491    242.000         0.000000   0.000000\n",
       "18     ENST00000471248  629    380.000         0.354528   5.191525\n",
       "19     ENST00000610542  723    474.000         0.000000   0.000000\n",
       "20     ENST00000453576  336     87.025         0.000000   0.000000\n",
       "21     ENST00000442987 3812   3563.000         0.087095  11.958341\n",
       "22     ENST00000494149  755    506.000         4.049344  78.958001\n",
       "23     ENST00000595919  284     39.201        12.427193  18.773013\n",
       "24     ENST00000493797  323     74.133        17.598999  50.275730\n",
       "25     ENST00000484859 4860   4611.000         3.216780 571.580450\n",
       "26     ENST00000490997  518    269.000         0.983513  10.195140\n",
       "27     ENST00000466557 1301   1052.000         1.803278  73.103679\n",
       "28     ENST00000410691  104      4.593         0.000000   0.000000\n",
       "29     ENST00000496488  457    208.000         0.000000   0.000000\n",
       "30     ENST00000491962  278     34.967        17.701445  23.852217\n",
       "⋮      ⋮               ⋮      ⋮               ⋮         ⋮         \n",
       "199629 ENST00000447528 1279   1030.000        0         0         \n",
       "199630 ENST00000361963 2177   1928.000        0         0         \n",
       "199631 ENST00000431179 1232    983.000        0         0         \n",
       "199632 ENST00000426293  308     59.652        0         0         \n",
       "199633 ENST00000443911  597    348.000        0         0         \n",
       "199634 ENST00000430729  455    206.000        0         0         \n",
       "199635 ENST00000429406  715    466.000        0         0         \n",
       "199636 ENST00000412165  485    236.000        0         0         \n",
       "199637 ENST00000451423 1554   1305.000        0         0         \n",
       "199638 ENST00000414751  326     77.092        0         0         \n",
       "199639 ENST00000420889  959    710.000        0         0         \n",
       "199640 ENST00000421750  331     82.049        0         0         \n",
       "199641 ENST00000419224  558    309.000        0         0         \n",
       "199642 ENST00000420603  432    183.000        0         0         \n",
       "199643 ENST00000440468 1116    867.000        0         0         \n",
       "199644 ENST00000421008  661    412.000        0         0         \n",
       "199645 ENST00000411536 1392   1143.000        0         0         \n",
       "199646 ENST00000439103  200      9.896        0         0         \n",
       "199647 ENST00000426199  223     13.340        0         0         \n",
       "199648 ENST00000367272 1671   1422.000        0         0         \n",
       "199649 ENST00000517139  104      4.593        0         0         \n",
       "199650 ENST00000417124  323     74.133        0         0         \n",
       "199651 ENST00000344424  659    410.000        0         0         \n",
       "199652 ENST00000619329  111      4.777        0         0         \n",
       "199653 ENST00000258589 1605   1356.000        0         0         \n",
       "199654 ENST00000420810  319     70.210        0         0         \n",
       "199655 ENST00000456738  342     93.011        0         0         \n",
       "199656 ENST00000435945 2337   2088.000        0         0         \n",
       "199657 ENST00000435741  640    391.000        0         0         \n",
       "199658 ENST00000431853  245     18.900        0         0         "
      ]
     },
     "metadata": {},
     "output_type": "display_data"
    }
   ],
   "source": [
    "read.delim(files[1])"
   ]
  },
  {
   "cell_type": "markdown",
   "id": "c12000f8",
   "metadata": {
    "deletable": false,
    "editable": false,
    "run_control": {
     "frozen": true
    }
   },
   "source": [
    "#### Create transcript to gene map"
   ]
  },
  {
   "cell_type": "code",
   "execution_count": 21,
   "id": "b4ba95b1",
   "metadata": {
    "scrolled": true
   },
   "outputs": [
    {
     "data": {
      "text/html": [
       "<table class=\"dataframe\">\n",
       "<caption>A data.frame: 227492 × 3</caption>\n",
       "<thead>\n",
       "\t<tr><th scope=col>tx_id</th><th scope=col>ensgene</th><th scope=col>symbol</th></tr>\n",
       "\t<tr><th scope=col>&lt;chr&gt;</th><th scope=col>&lt;chr&gt;</th><th scope=col>&lt;chr&gt;</th></tr>\n",
       "</thead>\n",
       "<tbody>\n",
       "\t<tr><td>ENST00000387314</td><td>ENSG00000210049</td><td>MT-TF     </td></tr>\n",
       "\t<tr><td>ENST00000389680</td><td>ENSG00000211459</td><td>MT-RNR1   </td></tr>\n",
       "\t<tr><td>ENST00000387342</td><td>ENSG00000210077</td><td>MT-TV     </td></tr>\n",
       "\t<tr><td>ENST00000387347</td><td>ENSG00000210082</td><td>MT-RNR2   </td></tr>\n",
       "\t<tr><td>ENST00000612848</td><td>ENSG00000276345</td><td>AC004556.1</td></tr>\n",
       "\t<tr><td>ENST00000386347</td><td>ENSG00000209082</td><td>MT-TL1    </td></tr>\n",
       "\t<tr><td>ENST00000361390</td><td>ENSG00000198888</td><td>MT-ND1    </td></tr>\n",
       "\t<tr><td>ENST00000387365</td><td>ENSG00000210100</td><td>MT-TI     </td></tr>\n",
       "\t<tr><td>ENST00000387372</td><td>ENSG00000210107</td><td>MT-TQ     </td></tr>\n",
       "\t<tr><td>ENST00000387377</td><td>ENSG00000210112</td><td>MT-TM     </td></tr>\n",
       "\t<tr><td>ENST00000361453</td><td>ENSG00000198763</td><td>MT-ND2    </td></tr>\n",
       "\t<tr><td>ENST00000614336</td><td>ENSG00000271254</td><td>AC240274.1</td></tr>\n",
       "\t<tr><td>ENST00000387382</td><td>ENSG00000210117</td><td>MT-TW     </td></tr>\n",
       "\t<tr><td>ENST00000387392</td><td>ENSG00000210127</td><td>MT-TA     </td></tr>\n",
       "\t<tr><td>ENST00000387400</td><td>ENSG00000210135</td><td>MT-TN     </td></tr>\n",
       "\t<tr><td>ENST00000387405</td><td>ENSG00000210140</td><td>MT-TC     </td></tr>\n",
       "\t<tr><td>ENST00000387409</td><td>ENSG00000210144</td><td>MT-TY     </td></tr>\n",
       "\t<tr><td>ENST00000361624</td><td>ENSG00000198804</td><td>MT-CO1    </td></tr>\n",
       "\t<tr><td>ENST00000612640</td><td>ENSG00000271254</td><td>AC240274.1</td></tr>\n",
       "\t<tr><td>ENST00000612721</td><td>ENSG00000271254</td><td>AC240274.1</td></tr>\n",
       "\t<tr><td>ENST00000616361</td><td>ENSG00000271254</td><td>AC240274.1</td></tr>\n",
       "\t<tr><td>ENST00000387416</td><td>ENSG00000210151</td><td>MT-TS1    </td></tr>\n",
       "\t<tr><td>ENST00000387419</td><td>ENSG00000210154</td><td>MT-TD     </td></tr>\n",
       "\t<tr><td>ENST00000361739</td><td>ENSG00000198712</td><td>MT-CO2    </td></tr>\n",
       "\t<tr><td>ENST00000387421</td><td>ENSG00000210156</td><td>MT-TK     </td></tr>\n",
       "\t<tr><td>ENST00000361851</td><td>ENSG00000228253</td><td>MT-ATP8   </td></tr>\n",
       "\t<tr><td>ENST00000361899</td><td>ENSG00000198899</td><td>MT-ATP6   </td></tr>\n",
       "\t<tr><td>ENST00000362079</td><td>ENSG00000198938</td><td>MT-CO3    </td></tr>\n",
       "\t<tr><td>ENST00000387429</td><td>ENSG00000210164</td><td>MT-TG     </td></tr>\n",
       "\t<tr><td>ENST00000361227</td><td>ENSG00000198840</td><td>MT-ND3    </td></tr>\n",
       "\t<tr><td>⋮</td><td>⋮</td><td>⋮</td></tr>\n",
       "\t<tr><td>ENST00000482023</td><td>ENSG00000171163</td><td>ZNF692    </td></tr>\n",
       "\t<tr><td>ENST00000412341</td><td>ENSG00000171163</td><td>ZNF692    </td></tr>\n",
       "\t<tr><td>ENST00000451251</td><td>ENSG00000171163</td><td>ZNF692    </td></tr>\n",
       "\t<tr><td>ENST00000470787</td><td>ENSG00000171163</td><td>ZNF692    </td></tr>\n",
       "\t<tr><td>ENST00000462037</td><td>ENSG00000171163</td><td>ZNF692    </td></tr>\n",
       "\t<tr><td>ENST00000474351</td><td>ENSG00000171163</td><td>ZNF692    </td></tr>\n",
       "\t<tr><td>ENST00000478107</td><td>ENSG00000171163</td><td>ZNF692    </td></tr>\n",
       "\t<tr><td>ENST00000491971</td><td>ENSG00000171163</td><td>ZNF692    </td></tr>\n",
       "\t<tr><td>ENST00000496411</td><td>ENSG00000171163</td><td>ZNF692    </td></tr>\n",
       "\t<tr><td>ENST00000468455</td><td>ENSG00000171163</td><td>ZNF692    </td></tr>\n",
       "\t<tr><td>ENST00000483223</td><td>ENSG00000171163</td><td>ZNF692    </td></tr>\n",
       "\t<tr><td>ENST00000533647</td><td>ENSG00000171163</td><td>ZNF692    </td></tr>\n",
       "\t<tr><td>ENST00000496231</td><td>ENSG00000171163</td><td>ZNF692    </td></tr>\n",
       "\t<tr><td>ENST00000495731</td><td>ENSG00000171163</td><td>ZNF692    </td></tr>\n",
       "\t<tr><td>ENST00000528141</td><td>ENSG00000171163</td><td>ZNF692    </td></tr>\n",
       "\t<tr><td>ENST00000497847</td><td>ENSG00000171163</td><td>ZNF692    </td></tr>\n",
       "\t<tr><td>ENST00000530986</td><td>ENSG00000171163</td><td>ZNF692    </td></tr>\n",
       "\t<tr><td>ENST00000534660</td><td>ENSG00000171163</td><td>ZNF692    </td></tr>\n",
       "\t<tr><td>ENST00000483791</td><td>ENSG00000171163</td><td>ZNF692    </td></tr>\n",
       "\t<tr><td>ENST00000530699</td><td>ENSG00000171163</td><td>ZNF692    </td></tr>\n",
       "\t<tr><td>ENST00000533614</td><td>ENSG00000171163</td><td>ZNF692    </td></tr>\n",
       "\t<tr><td>ENST00000496053</td><td>ENSG00000171163</td><td>ZNF692    </td></tr>\n",
       "\t<tr><td>ENST00000534456</td><td>ENSG00000171163</td><td>ZNF692    </td></tr>\n",
       "\t<tr><td>ENST00000533976</td><td>ENSG00000171163</td><td>ZNF692    </td></tr>\n",
       "\t<tr><td>ENST00000417047</td><td>ENSG00000227237</td><td>AL672291.1</td></tr>\n",
       "\t<tr><td>ENST00000355360</td><td>ENSG00000185220</td><td>PGBD2     </td></tr>\n",
       "\t<tr><td>ENST00000329291</td><td>ENSG00000185220</td><td>PGBD2     </td></tr>\n",
       "\t<tr><td>ENST00000462488</td><td>ENSG00000185220</td><td>PGBD2     </td></tr>\n",
       "\t<tr><td>ENST00000363625</td><td>ENSG00000200495</td><td>RNU6-1205P</td></tr>\n",
       "\t<tr><td>ENST00000430973</td><td>ENSG00000233084</td><td>RPL23AP25 </td></tr>\n",
       "</tbody>\n",
       "</table>\n"
      ],
      "text/latex": [
       "A data.frame: 227492 × 3\n",
       "\\begin{tabular}{lll}\n",
       " tx\\_id & ensgene & symbol\\\\\n",
       " <chr> & <chr> & <chr>\\\\\n",
       "\\hline\n",
       "\t ENST00000387314 & ENSG00000210049 & MT-TF     \\\\\n",
       "\t ENST00000389680 & ENSG00000211459 & MT-RNR1   \\\\\n",
       "\t ENST00000387342 & ENSG00000210077 & MT-TV     \\\\\n",
       "\t ENST00000387347 & ENSG00000210082 & MT-RNR2   \\\\\n",
       "\t ENST00000612848 & ENSG00000276345 & AC004556.1\\\\\n",
       "\t ENST00000386347 & ENSG00000209082 & MT-TL1    \\\\\n",
       "\t ENST00000361390 & ENSG00000198888 & MT-ND1    \\\\\n",
       "\t ENST00000387365 & ENSG00000210100 & MT-TI     \\\\\n",
       "\t ENST00000387372 & ENSG00000210107 & MT-TQ     \\\\\n",
       "\t ENST00000387377 & ENSG00000210112 & MT-TM     \\\\\n",
       "\t ENST00000361453 & ENSG00000198763 & MT-ND2    \\\\\n",
       "\t ENST00000614336 & ENSG00000271254 & AC240274.1\\\\\n",
       "\t ENST00000387382 & ENSG00000210117 & MT-TW     \\\\\n",
       "\t ENST00000387392 & ENSG00000210127 & MT-TA     \\\\\n",
       "\t ENST00000387400 & ENSG00000210135 & MT-TN     \\\\\n",
       "\t ENST00000387405 & ENSG00000210140 & MT-TC     \\\\\n",
       "\t ENST00000387409 & ENSG00000210144 & MT-TY     \\\\\n",
       "\t ENST00000361624 & ENSG00000198804 & MT-CO1    \\\\\n",
       "\t ENST00000612640 & ENSG00000271254 & AC240274.1\\\\\n",
       "\t ENST00000612721 & ENSG00000271254 & AC240274.1\\\\\n",
       "\t ENST00000616361 & ENSG00000271254 & AC240274.1\\\\\n",
       "\t ENST00000387416 & ENSG00000210151 & MT-TS1    \\\\\n",
       "\t ENST00000387419 & ENSG00000210154 & MT-TD     \\\\\n",
       "\t ENST00000361739 & ENSG00000198712 & MT-CO2    \\\\\n",
       "\t ENST00000387421 & ENSG00000210156 & MT-TK     \\\\\n",
       "\t ENST00000361851 & ENSG00000228253 & MT-ATP8   \\\\\n",
       "\t ENST00000361899 & ENSG00000198899 & MT-ATP6   \\\\\n",
       "\t ENST00000362079 & ENSG00000198938 & MT-CO3    \\\\\n",
       "\t ENST00000387429 & ENSG00000210164 & MT-TG     \\\\\n",
       "\t ENST00000361227 & ENSG00000198840 & MT-ND3    \\\\\n",
       "\t ⋮ & ⋮ & ⋮\\\\\n",
       "\t ENST00000482023 & ENSG00000171163 & ZNF692    \\\\\n",
       "\t ENST00000412341 & ENSG00000171163 & ZNF692    \\\\\n",
       "\t ENST00000451251 & ENSG00000171163 & ZNF692    \\\\\n",
       "\t ENST00000470787 & ENSG00000171163 & ZNF692    \\\\\n",
       "\t ENST00000462037 & ENSG00000171163 & ZNF692    \\\\\n",
       "\t ENST00000474351 & ENSG00000171163 & ZNF692    \\\\\n",
       "\t ENST00000478107 & ENSG00000171163 & ZNF692    \\\\\n",
       "\t ENST00000491971 & ENSG00000171163 & ZNF692    \\\\\n",
       "\t ENST00000496411 & ENSG00000171163 & ZNF692    \\\\\n",
       "\t ENST00000468455 & ENSG00000171163 & ZNF692    \\\\\n",
       "\t ENST00000483223 & ENSG00000171163 & ZNF692    \\\\\n",
       "\t ENST00000533647 & ENSG00000171163 & ZNF692    \\\\\n",
       "\t ENST00000496231 & ENSG00000171163 & ZNF692    \\\\\n",
       "\t ENST00000495731 & ENSG00000171163 & ZNF692    \\\\\n",
       "\t ENST00000528141 & ENSG00000171163 & ZNF692    \\\\\n",
       "\t ENST00000497847 & ENSG00000171163 & ZNF692    \\\\\n",
       "\t ENST00000530986 & ENSG00000171163 & ZNF692    \\\\\n",
       "\t ENST00000534660 & ENSG00000171163 & ZNF692    \\\\\n",
       "\t ENST00000483791 & ENSG00000171163 & ZNF692    \\\\\n",
       "\t ENST00000530699 & ENSG00000171163 & ZNF692    \\\\\n",
       "\t ENST00000533614 & ENSG00000171163 & ZNF692    \\\\\n",
       "\t ENST00000496053 & ENSG00000171163 & ZNF692    \\\\\n",
       "\t ENST00000534456 & ENSG00000171163 & ZNF692    \\\\\n",
       "\t ENST00000533976 & ENSG00000171163 & ZNF692    \\\\\n",
       "\t ENST00000417047 & ENSG00000227237 & AL672291.1\\\\\n",
       "\t ENST00000355360 & ENSG00000185220 & PGBD2     \\\\\n",
       "\t ENST00000329291 & ENSG00000185220 & PGBD2     \\\\\n",
       "\t ENST00000462488 & ENSG00000185220 & PGBD2     \\\\\n",
       "\t ENST00000363625 & ENSG00000200495 & RNU6-1205P\\\\\n",
       "\t ENST00000430973 & ENSG00000233084 & RPL23AP25 \\\\\n",
       "\\end{tabular}\n"
      ],
      "text/markdown": [
       "\n",
       "A data.frame: 227492 × 3\n",
       "\n",
       "| tx_id &lt;chr&gt; | ensgene &lt;chr&gt; | symbol &lt;chr&gt; |\n",
       "|---|---|---|\n",
       "| ENST00000387314 | ENSG00000210049 | MT-TF      |\n",
       "| ENST00000389680 | ENSG00000211459 | MT-RNR1    |\n",
       "| ENST00000387342 | ENSG00000210077 | MT-TV      |\n",
       "| ENST00000387347 | ENSG00000210082 | MT-RNR2    |\n",
       "| ENST00000612848 | ENSG00000276345 | AC004556.1 |\n",
       "| ENST00000386347 | ENSG00000209082 | MT-TL1     |\n",
       "| ENST00000361390 | ENSG00000198888 | MT-ND1     |\n",
       "| ENST00000387365 | ENSG00000210100 | MT-TI      |\n",
       "| ENST00000387372 | ENSG00000210107 | MT-TQ      |\n",
       "| ENST00000387377 | ENSG00000210112 | MT-TM      |\n",
       "| ENST00000361453 | ENSG00000198763 | MT-ND2     |\n",
       "| ENST00000614336 | ENSG00000271254 | AC240274.1 |\n",
       "| ENST00000387382 | ENSG00000210117 | MT-TW      |\n",
       "| ENST00000387392 | ENSG00000210127 | MT-TA      |\n",
       "| ENST00000387400 | ENSG00000210135 | MT-TN      |\n",
       "| ENST00000387405 | ENSG00000210140 | MT-TC      |\n",
       "| ENST00000387409 | ENSG00000210144 | MT-TY      |\n",
       "| ENST00000361624 | ENSG00000198804 | MT-CO1     |\n",
       "| ENST00000612640 | ENSG00000271254 | AC240274.1 |\n",
       "| ENST00000612721 | ENSG00000271254 | AC240274.1 |\n",
       "| ENST00000616361 | ENSG00000271254 | AC240274.1 |\n",
       "| ENST00000387416 | ENSG00000210151 | MT-TS1     |\n",
       "| ENST00000387419 | ENSG00000210154 | MT-TD      |\n",
       "| ENST00000361739 | ENSG00000198712 | MT-CO2     |\n",
       "| ENST00000387421 | ENSG00000210156 | MT-TK      |\n",
       "| ENST00000361851 | ENSG00000228253 | MT-ATP8    |\n",
       "| ENST00000361899 | ENSG00000198899 | MT-ATP6    |\n",
       "| ENST00000362079 | ENSG00000198938 | MT-CO3     |\n",
       "| ENST00000387429 | ENSG00000210164 | MT-TG      |\n",
       "| ENST00000361227 | ENSG00000198840 | MT-ND3     |\n",
       "| ⋮ | ⋮ | ⋮ |\n",
       "| ENST00000482023 | ENSG00000171163 | ZNF692     |\n",
       "| ENST00000412341 | ENSG00000171163 | ZNF692     |\n",
       "| ENST00000451251 | ENSG00000171163 | ZNF692     |\n",
       "| ENST00000470787 | ENSG00000171163 | ZNF692     |\n",
       "| ENST00000462037 | ENSG00000171163 | ZNF692     |\n",
       "| ENST00000474351 | ENSG00000171163 | ZNF692     |\n",
       "| ENST00000478107 | ENSG00000171163 | ZNF692     |\n",
       "| ENST00000491971 | ENSG00000171163 | ZNF692     |\n",
       "| ENST00000496411 | ENSG00000171163 | ZNF692     |\n",
       "| ENST00000468455 | ENSG00000171163 | ZNF692     |\n",
       "| ENST00000483223 | ENSG00000171163 | ZNF692     |\n",
       "| ENST00000533647 | ENSG00000171163 | ZNF692     |\n",
       "| ENST00000496231 | ENSG00000171163 | ZNF692     |\n",
       "| ENST00000495731 | ENSG00000171163 | ZNF692     |\n",
       "| ENST00000528141 | ENSG00000171163 | ZNF692     |\n",
       "| ENST00000497847 | ENSG00000171163 | ZNF692     |\n",
       "| ENST00000530986 | ENSG00000171163 | ZNF692     |\n",
       "| ENST00000534660 | ENSG00000171163 | ZNF692     |\n",
       "| ENST00000483791 | ENSG00000171163 | ZNF692     |\n",
       "| ENST00000530699 | ENSG00000171163 | ZNF692     |\n",
       "| ENST00000533614 | ENSG00000171163 | ZNF692     |\n",
       "| ENST00000496053 | ENSG00000171163 | ZNF692     |\n",
       "| ENST00000534456 | ENSG00000171163 | ZNF692     |\n",
       "| ENST00000533976 | ENSG00000171163 | ZNF692     |\n",
       "| ENST00000417047 | ENSG00000227237 | AL672291.1 |\n",
       "| ENST00000355360 | ENSG00000185220 | PGBD2      |\n",
       "| ENST00000329291 | ENSG00000185220 | PGBD2      |\n",
       "| ENST00000462488 | ENSG00000185220 | PGBD2      |\n",
       "| ENST00000363625 | ENSG00000200495 | RNU6-1205P |\n",
       "| ENST00000430973 | ENSG00000233084 | RPL23AP25  |\n",
       "\n"
      ],
      "text/plain": [
       "       tx_id           ensgene         symbol    \n",
       "1      ENST00000387314 ENSG00000210049 MT-TF     \n",
       "2      ENST00000389680 ENSG00000211459 MT-RNR1   \n",
       "3      ENST00000387342 ENSG00000210077 MT-TV     \n",
       "4      ENST00000387347 ENSG00000210082 MT-RNR2   \n",
       "5      ENST00000612848 ENSG00000276345 AC004556.1\n",
       "6      ENST00000386347 ENSG00000209082 MT-TL1    \n",
       "7      ENST00000361390 ENSG00000198888 MT-ND1    \n",
       "8      ENST00000387365 ENSG00000210100 MT-TI     \n",
       "9      ENST00000387372 ENSG00000210107 MT-TQ     \n",
       "10     ENST00000387377 ENSG00000210112 MT-TM     \n",
       "11     ENST00000361453 ENSG00000198763 MT-ND2    \n",
       "12     ENST00000614336 ENSG00000271254 AC240274.1\n",
       "13     ENST00000387382 ENSG00000210117 MT-TW     \n",
       "14     ENST00000387392 ENSG00000210127 MT-TA     \n",
       "15     ENST00000387400 ENSG00000210135 MT-TN     \n",
       "16     ENST00000387405 ENSG00000210140 MT-TC     \n",
       "17     ENST00000387409 ENSG00000210144 MT-TY     \n",
       "18     ENST00000361624 ENSG00000198804 MT-CO1    \n",
       "19     ENST00000612640 ENSG00000271254 AC240274.1\n",
       "20     ENST00000612721 ENSG00000271254 AC240274.1\n",
       "21     ENST00000616361 ENSG00000271254 AC240274.1\n",
       "22     ENST00000387416 ENSG00000210151 MT-TS1    \n",
       "23     ENST00000387419 ENSG00000210154 MT-TD     \n",
       "24     ENST00000361739 ENSG00000198712 MT-CO2    \n",
       "25     ENST00000387421 ENSG00000210156 MT-TK     \n",
       "26     ENST00000361851 ENSG00000228253 MT-ATP8   \n",
       "27     ENST00000361899 ENSG00000198899 MT-ATP6   \n",
       "28     ENST00000362079 ENSG00000198938 MT-CO3    \n",
       "29     ENST00000387429 ENSG00000210164 MT-TG     \n",
       "30     ENST00000361227 ENSG00000198840 MT-ND3    \n",
       "⋮      ⋮               ⋮               ⋮         \n",
       "227463 ENST00000482023 ENSG00000171163 ZNF692    \n",
       "227464 ENST00000412341 ENSG00000171163 ZNF692    \n",
       "227465 ENST00000451251 ENSG00000171163 ZNF692    \n",
       "227466 ENST00000470787 ENSG00000171163 ZNF692    \n",
       "227467 ENST00000462037 ENSG00000171163 ZNF692    \n",
       "227468 ENST00000474351 ENSG00000171163 ZNF692    \n",
       "227469 ENST00000478107 ENSG00000171163 ZNF692    \n",
       "227470 ENST00000491971 ENSG00000171163 ZNF692    \n",
       "227471 ENST00000496411 ENSG00000171163 ZNF692    \n",
       "227472 ENST00000468455 ENSG00000171163 ZNF692    \n",
       "227473 ENST00000483223 ENSG00000171163 ZNF692    \n",
       "227474 ENST00000533647 ENSG00000171163 ZNF692    \n",
       "227475 ENST00000496231 ENSG00000171163 ZNF692    \n",
       "227476 ENST00000495731 ENSG00000171163 ZNF692    \n",
       "227477 ENST00000528141 ENSG00000171163 ZNF692    \n",
       "227478 ENST00000497847 ENSG00000171163 ZNF692    \n",
       "227479 ENST00000530986 ENSG00000171163 ZNF692    \n",
       "227480 ENST00000534660 ENSG00000171163 ZNF692    \n",
       "227481 ENST00000483791 ENSG00000171163 ZNF692    \n",
       "227482 ENST00000530699 ENSG00000171163 ZNF692    \n",
       "227483 ENST00000533614 ENSG00000171163 ZNF692    \n",
       "227484 ENST00000496053 ENSG00000171163 ZNF692    \n",
       "227485 ENST00000534456 ENSG00000171163 ZNF692    \n",
       "227486 ENST00000533976 ENSG00000171163 ZNF692    \n",
       "227487 ENST00000417047 ENSG00000227237 AL672291.1\n",
       "227488 ENST00000355360 ENSG00000185220 PGBD2     \n",
       "227489 ENST00000329291 ENSG00000185220 PGBD2     \n",
       "227490 ENST00000462488 ENSG00000185220 PGBD2     \n",
       "227491 ENST00000363625 ENSG00000200495 RNU6-1205P\n",
       "227492 ENST00000430973 ENSG00000233084 RPL23AP25 "
      ]
     },
     "metadata": {},
     "output_type": "display_data"
    }
   ],
   "source": [
    "tx2gene = read.delim(str_glue(\"{HOME}/scratch/dge/tx2gene_grch38_ens94.txt\"))\n",
    "tx2gene %>% View()"
   ]
  },
  {
   "cell_type": "code",
   "execution_count": 23,
   "id": "01d51dd2",
   "metadata": {},
   "outputs": [
    {
     "name": "stderr",
     "output_type": "stream",
     "text": [
      "reading in files with read_tsv\n",
      "\n",
      "1 \n",
      "2 \n",
      "3 \n",
      "4 \n",
      "5 \n",
      "6 \n",
      "7 \n",
      "8 \n",
      "\n",
      "\n",
      "transcripts missing from tx2gene: 243\n",
      "\n",
      "summarizing abundance\n",
      "\n",
      "summarizing counts\n",
      "\n",
      "summarizing length\n",
      "\n"
     ]
    }
   ],
   "source": [
    "txi = tximport(\n",
    "    files,\n",
    "    type=\"salmon\",\n",
    "    tx2gene=tx2gene[,c(\"tx_id\", \"ensgene\")],\n",
    "    countsFromAbundance=\"lengthScaledTPM\"\n",
    ")"
   ]
  },
  {
   "cell_type": "markdown",
   "id": "70fd0fcc",
   "metadata": {
    "deletable": false,
    "editable": false,
    "run_control": {
     "frozen": true
    }
   },
   "source": [
    "#### Viewing data"
   ]
  },
  {
   "cell_type": "code",
   "execution_count": 24,
   "id": "004d32e2",
   "metadata": {},
   "outputs": [
    {
     "data": {
      "text/html": [
       "<strong>$names</strong> = <style>\n",
       ".list-inline {list-style: none; margin:0; padding: 0}\n",
       ".list-inline>li {display: inline-block}\n",
       ".list-inline>li:not(:last-child)::after {content: \"\\00b7\"; padding: 0 .5ex}\n",
       "</style>\n",
       "<ol class=list-inline><li>'abundance'</li><li>'counts'</li><li>'length'</li><li>'countsFromAbundance'</li></ol>\n"
      ],
      "text/latex": [
       "\\textbf{\\$names} = \\begin{enumerate*}\n",
       "\\item 'abundance'\n",
       "\\item 'counts'\n",
       "\\item 'length'\n",
       "\\item 'countsFromAbundance'\n",
       "\\end{enumerate*}\n"
      ],
      "text/markdown": [
       "**$names** = 1. 'abundance'\n",
       "2. 'counts'\n",
       "3. 'length'\n",
       "4. 'countsFromAbundance'\n",
       "\n",
       "\n"
      ],
      "text/plain": [
       "$names\n",
       "[1] \"abundance\"           \"counts\"              \"length\"             \n",
       "[4] \"countsFromAbundance\"\n"
      ]
     },
     "metadata": {},
     "output_type": "display_data"
    }
   ],
   "source": [
    "attributes(txi)"
   ]
  },
  {
   "cell_type": "code",
   "execution_count": 25,
   "id": "cd351e5d",
   "metadata": {},
   "outputs": [],
   "source": [
    "data = txi$counts %>% round() %>% data.frame()"
   ]
  },
  {
   "cell_type": "code",
   "execution_count": 26,
   "id": "0e87291f",
   "metadata": {
    "scrolled": true
   },
   "outputs": [
    {
     "data": {
      "text/html": [
       "<table class=\"dataframe\">\n",
       "<caption>A data.frame: 57761 × 8</caption>\n",
       "<thead>\n",
       "\t<tr><th></th><th scope=col>Irrel_kd_1</th><th scope=col>Irrel_kd_2</th><th scope=col>Irrel_kd_3</th><th scope=col>Mov10_kd_2</th><th scope=col>Mov10_kd_3</th><th scope=col>Mov10_oe_1</th><th scope=col>Mov10_oe_2</th><th scope=col>Mov10_oe_3</th></tr>\n",
       "\t<tr><th></th><th scope=col>&lt;dbl&gt;</th><th scope=col>&lt;dbl&gt;</th><th scope=col>&lt;dbl&gt;</th><th scope=col>&lt;dbl&gt;</th><th scope=col>&lt;dbl&gt;</th><th scope=col>&lt;dbl&gt;</th><th scope=col>&lt;dbl&gt;</th><th scope=col>&lt;dbl&gt;</th></tr>\n",
       "</thead>\n",
       "<tbody>\n",
       "\t<tr><th scope=row>ENSG00000000003</th><td>4376</td><td>3645</td><td>2968</td><td>6178</td><td>3688</td><td>3343</td><td>3114</td><td>2079</td></tr>\n",
       "\t<tr><th scope=row>ENSG00000000005</th><td>  27</td><td>  29</td><td>  23</td><td>  37</td><td>  13</td><td>  25</td><td>  38</td><td>  22</td></tr>\n",
       "\t<tr><th scope=row>ENSG00000000419</th><td>1478</td><td>1288</td><td> 884</td><td>2369</td><td>1340</td><td>1890</td><td>1766</td><td>1271</td></tr>\n",
       "\t<tr><th scope=row>ENSG00000000457</th><td> 508</td><td> 405</td><td> 357</td><td> 934</td><td> 571</td><td> 646</td><td> 591</td><td> 354</td></tr>\n",
       "\t<tr><th scope=row>ENSG00000000460</th><td>1394</td><td>1164</td><td> 850</td><td>2172</td><td>1217</td><td>1183</td><td>1139</td><td> 673</td></tr>\n",
       "\t<tr><th scope=row>ENSG00000000938</th><td>   1</td><td>   1</td><td>   0</td><td>   2</td><td>   0</td><td>   0</td><td>   0</td><td>   0</td></tr>\n",
       "\t<tr><th scope=row>ENSG00000000971</th><td>  22</td><td>  18</td><td>   7</td><td>  16</td><td>   2</td><td>   9</td><td>  20</td><td>   4</td></tr>\n",
       "\t<tr><th scope=row>ENSG00000001036</th><td>3258</td><td>2599</td><td>1980</td><td>4600</td><td>2781</td><td>2938</td><td>3178</td><td>1664</td></tr>\n",
       "\t<tr><th scope=row>ENSG00000001084</th><td>3001</td><td>2438</td><td>1967</td><td>4703</td><td>3021</td><td>2327</td><td>2415</td><td>1556</td></tr>\n",
       "\t<tr><th scope=row>ENSG00000001167</th><td>3069</td><td>2415</td><td>1949</td><td>4609</td><td>2637</td><td>2634</td><td>2434</td><td>1371</td></tr>\n",
       "\t<tr><th scope=row>ENSG00000001460</th><td> 895</td><td> 683</td><td> 603</td><td>1340</td><td> 827</td><td>1088</td><td> 994</td><td> 543</td></tr>\n",
       "\t<tr><th scope=row>ENSG00000001461</th><td>1954</td><td>1675</td><td>1324</td><td>2876</td><td>1649</td><td>2195</td><td>2019</td><td>1133</td></tr>\n",
       "\t<tr><th scope=row>ENSG00000001497</th><td>2984</td><td>2652</td><td>2009</td><td>4495</td><td>2789</td><td>3247</td><td>2960</td><td>1672</td></tr>\n",
       "\t<tr><th scope=row>ENSG00000001561</th><td>1783</td><td>1514</td><td>1032</td><td>2601</td><td>1583</td><td>2006</td><td>1748</td><td>1244</td></tr>\n",
       "\t<tr><th scope=row>ENSG00000001617</th><td> 445</td><td> 497</td><td> 276</td><td> 545</td><td> 275</td><td> 512</td><td> 556</td><td> 255</td></tr>\n",
       "\t<tr><th scope=row>ENSG00000001626</th><td>   0</td><td> 320</td><td>   4</td><td> 426</td><td> 108</td><td> 324</td><td>   0</td><td>   0</td></tr>\n",
       "\t<tr><th scope=row>ENSG00000001629</th><td>2023</td><td>1307</td><td>1340</td><td>2688</td><td>1678</td><td>1754</td><td>1661</td><td>1107</td></tr>\n",
       "\t<tr><th scope=row>ENSG00000001630</th><td>3161</td><td>2636</td><td>2057</td><td>4398</td><td>2845</td><td>3189</td><td>3109</td><td>1976</td></tr>\n",
       "\t<tr><th scope=row>ENSG00000001631</th><td>1901</td><td>1698</td><td>1362</td><td>2537</td><td>1852</td><td>2385</td><td>1831</td><td>1058</td></tr>\n",
       "\t<tr><th scope=row>ENSG00000002016</th><td>1145</td><td> 856</td><td> 781</td><td>1607</td><td> 950</td><td>1067</td><td> 924</td><td> 447</td></tr>\n",
       "\t<tr><th scope=row>ENSG00000002079</th><td>   2</td><td>  16</td><td>   1</td><td>   2</td><td>   0</td><td>   2</td><td>  14</td><td>   0</td></tr>\n",
       "\t<tr><th scope=row>ENSG00000002330</th><td> 944</td><td> 809</td><td> 664</td><td>1003</td><td> 591</td><td> 661</td><td> 842</td><td> 390</td></tr>\n",
       "\t<tr><th scope=row>ENSG00000002549</th><td>2060</td><td>1584</td><td>1395</td><td>2131</td><td>1150</td><td>1875</td><td>1677</td><td> 909</td></tr>\n",
       "\t<tr><th scope=row>ENSG00000002586</th><td>4412</td><td>3427</td><td>2954</td><td>6576</td><td>3854</td><td>4212</td><td>4368</td><td>2451</td></tr>\n",
       "\t<tr><th scope=row>ENSG00000002587</th><td>  20</td><td>  23</td><td>  22</td><td>  30</td><td>  25</td><td>  26</td><td>  30</td><td>  53</td></tr>\n",
       "\t<tr><th scope=row>ENSG00000002726</th><td>   0</td><td>   3</td><td>   3</td><td>   2</td><td>   0</td><td>   3</td><td>   0</td><td>   2</td></tr>\n",
       "\t<tr><th scope=row>ENSG00000002745</th><td>   8</td><td>   9</td><td>   3</td><td>  10</td><td>   3</td><td>  12</td><td>   8</td><td>   7</td></tr>\n",
       "\t<tr><th scope=row>ENSG00000002746</th><td>  16</td><td>   8</td><td>   3</td><td>  84</td><td>   9</td><td>  12</td><td>   9</td><td>  14</td></tr>\n",
       "\t<tr><th scope=row>ENSG00000002822</th><td> 599</td><td> 565</td><td> 424</td><td>1429</td><td> 817</td><td> 919</td><td> 718</td><td> 244</td></tr>\n",
       "\t<tr><th scope=row>ENSG00000002834</th><td>3136</td><td>2768</td><td>2171</td><td>4321</td><td>2533</td><td>2958</td><td>2801</td><td>1583</td></tr>\n",
       "\t<tr><th scope=row>⋮</th><td>⋮</td><td>⋮</td><td>⋮</td><td>⋮</td><td>⋮</td><td>⋮</td><td>⋮</td><td>⋮</td></tr>\n",
       "\t<tr><th scope=row>ENSG00000285467</th><td>  11</td><td>   2</td><td>   9</td><td>   5</td><td>  15</td><td>   6</td><td>   6</td><td>   0</td></tr>\n",
       "\t<tr><th scope=row>ENSG00000285471</th><td>   0</td><td>   0</td><td>   0</td><td>   2</td><td>   8</td><td>   2</td><td>   2</td><td>   0</td></tr>\n",
       "\t<tr><th scope=row>ENSG00000285472</th><td>   0</td><td>   0</td><td>   0</td><td>   0</td><td>   0</td><td>   0</td><td>   0</td><td>   0</td></tr>\n",
       "\t<tr><th scope=row>ENSG00000285476</th><td>   1</td><td>   0</td><td>   0</td><td>   5</td><td>   0</td><td>   0</td><td>   0</td><td>   1</td></tr>\n",
       "\t<tr><th scope=row>ENSG00000285491</th><td>   0</td><td>   0</td><td>   0</td><td>   0</td><td>   0</td><td>   0</td><td>   0</td><td>   0</td></tr>\n",
       "\t<tr><th scope=row>ENSG00000285492</th><td>   0</td><td>   0</td><td>   0</td><td>   0</td><td>   0</td><td>   0</td><td>   0</td><td>   0</td></tr>\n",
       "\t<tr><th scope=row>ENSG00000285508</th><td> 178</td><td>  90</td><td>  82</td><td>   0</td><td>   0</td><td>  93</td><td> 111</td><td>  96</td></tr>\n",
       "\t<tr><th scope=row>ENSG00000285517</th><td>  20</td><td>  20</td><td>  25</td><td>  16</td><td>  20</td><td>  36</td><td>  22</td><td>  10</td></tr>\n",
       "\t<tr><th scope=row>ENSG00000285537</th><td>   0</td><td>   0</td><td>   0</td><td>   0</td><td>   0</td><td>   0</td><td>   0</td><td>   0</td></tr>\n",
       "\t<tr><th scope=row>ENSG00000285539</th><td>   0</td><td>   0</td><td>   0</td><td>   0</td><td>   0</td><td>   0</td><td>   0</td><td>   2</td></tr>\n",
       "\t<tr><th scope=row>ENSG00000285551</th><td>   0</td><td>   0</td><td>   1</td><td>   0</td><td>   0</td><td>   0</td><td>   0</td><td>   0</td></tr>\n",
       "\t<tr><th scope=row>ENSG00000285576</th><td>   0</td><td>   0</td><td>   0</td><td>   0</td><td>   0</td><td>   0</td><td>   0</td><td>   0</td></tr>\n",
       "\t<tr><th scope=row>ENSG00000285583</th><td>   0</td><td>   0</td><td>   0</td><td>   0</td><td>   7</td><td>   4</td><td>   0</td><td>   0</td></tr>\n",
       "\t<tr><th scope=row>ENSG00000285629</th><td> 493</td><td>   0</td><td> 977</td><td>   0</td><td> 983</td><td> 478</td><td> 837</td><td> 702</td></tr>\n",
       "\t<tr><th scope=row>ENSG00000285635</th><td>   0</td><td>  13</td><td>   5</td><td>  35</td><td>  20</td><td>  23</td><td>  12</td><td>   0</td></tr>\n",
       "\t<tr><th scope=row>ENSG00000285655</th><td>   0</td><td>   0</td><td>   2</td><td>   0</td><td>   0</td><td>   0</td><td>   0</td><td>   0</td></tr>\n",
       "\t<tr><th scope=row>ENSG00000285693</th><td>  34</td><td>  28</td><td>  26</td><td>  33</td><td>  28</td><td>  45</td><td>  47</td><td>  14</td></tr>\n",
       "\t<tr><th scope=row>ENSG00000285749</th><td>   0</td><td>   0</td><td>   0</td><td>   0</td><td>   0</td><td>   0</td><td>   0</td><td>   0</td></tr>\n",
       "\t<tr><th scope=row>ENSG00000285756</th><td>2432</td><td>2177</td><td>1648</td><td>3369</td><td>1946</td><td>2825</td><td>2607</td><td>1529</td></tr>\n",
       "\t<tr><th scope=row>ENSG00000285762</th><td>   0</td><td>   0</td><td>   0</td><td>   0</td><td>   0</td><td>   0</td><td>   0</td><td>   0</td></tr>\n",
       "\t<tr><th scope=row>ENSG00000285772</th><td>  19</td><td>  17</td><td>   5</td><td>  55</td><td>  42</td><td>   6</td><td>   3</td><td>   2</td></tr>\n",
       "\t<tr><th scope=row>ENSG00000285791</th><td>  21</td><td>   0</td><td>  18</td><td>  21</td><td>   1</td><td>   4</td><td>  11</td><td>   1</td></tr>\n",
       "\t<tr><th scope=row>ENSG00000285794</th><td>  79</td><td>  67</td><td>  45</td><td> 106</td><td>  62</td><td>  92</td><td>  85</td><td>  38</td></tr>\n",
       "\t<tr><th scope=row>ENSG00000285799</th><td>   0</td><td>   0</td><td>   1</td><td>   1</td><td>   3</td><td>   0</td><td>   0</td><td>   0</td></tr>\n",
       "\t<tr><th scope=row>ENSG00000285868</th><td>   0</td><td>   0</td><td>   0</td><td>   0</td><td>   0</td><td>   0</td><td>   0</td><td>   0</td></tr>\n",
       "\t<tr><th scope=row>ENSG00000285889</th><td>   0</td><td>  14</td><td>   0</td><td>   0</td><td>   0</td><td>   0</td><td>   0</td><td>   0</td></tr>\n",
       "\t<tr><th scope=row>ENSG00000285950</th><td>   6</td><td>  11</td><td>   8</td><td>   5</td><td>  16</td><td>   5</td><td>  10</td><td>   0</td></tr>\n",
       "\t<tr><th scope=row>ENSG00000285976</th><td>5138</td><td>4293</td><td>3272</td><td>6473</td><td>4155</td><td>6377</td><td>5523</td><td>3495</td></tr>\n",
       "\t<tr><th scope=row>ENSG00000285978</th><td>   0</td><td>   0</td><td>   0</td><td>   4</td><td>   5</td><td>   6</td><td>   6</td><td>   0</td></tr>\n",
       "\t<tr><th scope=row>ENSG00000285980</th><td>   0</td><td>   0</td><td>   0</td><td>   0</td><td>   0</td><td>   0</td><td>   0</td><td>   0</td></tr>\n",
       "</tbody>\n",
       "</table>\n"
      ],
      "text/latex": [
       "A data.frame: 57761 × 8\n",
       "\\begin{tabular}{r|llllllll}\n",
       "  & Irrel\\_kd\\_1 & Irrel\\_kd\\_2 & Irrel\\_kd\\_3 & Mov10\\_kd\\_2 & Mov10\\_kd\\_3 & Mov10\\_oe\\_1 & Mov10\\_oe\\_2 & Mov10\\_oe\\_3\\\\\n",
       "  & <dbl> & <dbl> & <dbl> & <dbl> & <dbl> & <dbl> & <dbl> & <dbl>\\\\\n",
       "\\hline\n",
       "\tENSG00000000003 & 4376 & 3645 & 2968 & 6178 & 3688 & 3343 & 3114 & 2079\\\\\n",
       "\tENSG00000000005 &   27 &   29 &   23 &   37 &   13 &   25 &   38 &   22\\\\\n",
       "\tENSG00000000419 & 1478 & 1288 &  884 & 2369 & 1340 & 1890 & 1766 & 1271\\\\\n",
       "\tENSG00000000457 &  508 &  405 &  357 &  934 &  571 &  646 &  591 &  354\\\\\n",
       "\tENSG00000000460 & 1394 & 1164 &  850 & 2172 & 1217 & 1183 & 1139 &  673\\\\\n",
       "\tENSG00000000938 &    1 &    1 &    0 &    2 &    0 &    0 &    0 &    0\\\\\n",
       "\tENSG00000000971 &   22 &   18 &    7 &   16 &    2 &    9 &   20 &    4\\\\\n",
       "\tENSG00000001036 & 3258 & 2599 & 1980 & 4600 & 2781 & 2938 & 3178 & 1664\\\\\n",
       "\tENSG00000001084 & 3001 & 2438 & 1967 & 4703 & 3021 & 2327 & 2415 & 1556\\\\\n",
       "\tENSG00000001167 & 3069 & 2415 & 1949 & 4609 & 2637 & 2634 & 2434 & 1371\\\\\n",
       "\tENSG00000001460 &  895 &  683 &  603 & 1340 &  827 & 1088 &  994 &  543\\\\\n",
       "\tENSG00000001461 & 1954 & 1675 & 1324 & 2876 & 1649 & 2195 & 2019 & 1133\\\\\n",
       "\tENSG00000001497 & 2984 & 2652 & 2009 & 4495 & 2789 & 3247 & 2960 & 1672\\\\\n",
       "\tENSG00000001561 & 1783 & 1514 & 1032 & 2601 & 1583 & 2006 & 1748 & 1244\\\\\n",
       "\tENSG00000001617 &  445 &  497 &  276 &  545 &  275 &  512 &  556 &  255\\\\\n",
       "\tENSG00000001626 &    0 &  320 &    4 &  426 &  108 &  324 &    0 &    0\\\\\n",
       "\tENSG00000001629 & 2023 & 1307 & 1340 & 2688 & 1678 & 1754 & 1661 & 1107\\\\\n",
       "\tENSG00000001630 & 3161 & 2636 & 2057 & 4398 & 2845 & 3189 & 3109 & 1976\\\\\n",
       "\tENSG00000001631 & 1901 & 1698 & 1362 & 2537 & 1852 & 2385 & 1831 & 1058\\\\\n",
       "\tENSG00000002016 & 1145 &  856 &  781 & 1607 &  950 & 1067 &  924 &  447\\\\\n",
       "\tENSG00000002079 &    2 &   16 &    1 &    2 &    0 &    2 &   14 &    0\\\\\n",
       "\tENSG00000002330 &  944 &  809 &  664 & 1003 &  591 &  661 &  842 &  390\\\\\n",
       "\tENSG00000002549 & 2060 & 1584 & 1395 & 2131 & 1150 & 1875 & 1677 &  909\\\\\n",
       "\tENSG00000002586 & 4412 & 3427 & 2954 & 6576 & 3854 & 4212 & 4368 & 2451\\\\\n",
       "\tENSG00000002587 &   20 &   23 &   22 &   30 &   25 &   26 &   30 &   53\\\\\n",
       "\tENSG00000002726 &    0 &    3 &    3 &    2 &    0 &    3 &    0 &    2\\\\\n",
       "\tENSG00000002745 &    8 &    9 &    3 &   10 &    3 &   12 &    8 &    7\\\\\n",
       "\tENSG00000002746 &   16 &    8 &    3 &   84 &    9 &   12 &    9 &   14\\\\\n",
       "\tENSG00000002822 &  599 &  565 &  424 & 1429 &  817 &  919 &  718 &  244\\\\\n",
       "\tENSG00000002834 & 3136 & 2768 & 2171 & 4321 & 2533 & 2958 & 2801 & 1583\\\\\n",
       "\t⋮ & ⋮ & ⋮ & ⋮ & ⋮ & ⋮ & ⋮ & ⋮ & ⋮\\\\\n",
       "\tENSG00000285467 &   11 &    2 &    9 &    5 &   15 &    6 &    6 &    0\\\\\n",
       "\tENSG00000285471 &    0 &    0 &    0 &    2 &    8 &    2 &    2 &    0\\\\\n",
       "\tENSG00000285472 &    0 &    0 &    0 &    0 &    0 &    0 &    0 &    0\\\\\n",
       "\tENSG00000285476 &    1 &    0 &    0 &    5 &    0 &    0 &    0 &    1\\\\\n",
       "\tENSG00000285491 &    0 &    0 &    0 &    0 &    0 &    0 &    0 &    0\\\\\n",
       "\tENSG00000285492 &    0 &    0 &    0 &    0 &    0 &    0 &    0 &    0\\\\\n",
       "\tENSG00000285508 &  178 &   90 &   82 &    0 &    0 &   93 &  111 &   96\\\\\n",
       "\tENSG00000285517 &   20 &   20 &   25 &   16 &   20 &   36 &   22 &   10\\\\\n",
       "\tENSG00000285537 &    0 &    0 &    0 &    0 &    0 &    0 &    0 &    0\\\\\n",
       "\tENSG00000285539 &    0 &    0 &    0 &    0 &    0 &    0 &    0 &    2\\\\\n",
       "\tENSG00000285551 &    0 &    0 &    1 &    0 &    0 &    0 &    0 &    0\\\\\n",
       "\tENSG00000285576 &    0 &    0 &    0 &    0 &    0 &    0 &    0 &    0\\\\\n",
       "\tENSG00000285583 &    0 &    0 &    0 &    0 &    7 &    4 &    0 &    0\\\\\n",
       "\tENSG00000285629 &  493 &    0 &  977 &    0 &  983 &  478 &  837 &  702\\\\\n",
       "\tENSG00000285635 &    0 &   13 &    5 &   35 &   20 &   23 &   12 &    0\\\\\n",
       "\tENSG00000285655 &    0 &    0 &    2 &    0 &    0 &    0 &    0 &    0\\\\\n",
       "\tENSG00000285693 &   34 &   28 &   26 &   33 &   28 &   45 &   47 &   14\\\\\n",
       "\tENSG00000285749 &    0 &    0 &    0 &    0 &    0 &    0 &    0 &    0\\\\\n",
       "\tENSG00000285756 & 2432 & 2177 & 1648 & 3369 & 1946 & 2825 & 2607 & 1529\\\\\n",
       "\tENSG00000285762 &    0 &    0 &    0 &    0 &    0 &    0 &    0 &    0\\\\\n",
       "\tENSG00000285772 &   19 &   17 &    5 &   55 &   42 &    6 &    3 &    2\\\\\n",
       "\tENSG00000285791 &   21 &    0 &   18 &   21 &    1 &    4 &   11 &    1\\\\\n",
       "\tENSG00000285794 &   79 &   67 &   45 &  106 &   62 &   92 &   85 &   38\\\\\n",
       "\tENSG00000285799 &    0 &    0 &    1 &    1 &    3 &    0 &    0 &    0\\\\\n",
       "\tENSG00000285868 &    0 &    0 &    0 &    0 &    0 &    0 &    0 &    0\\\\\n",
       "\tENSG00000285889 &    0 &   14 &    0 &    0 &    0 &    0 &    0 &    0\\\\\n",
       "\tENSG00000285950 &    6 &   11 &    8 &    5 &   16 &    5 &   10 &    0\\\\\n",
       "\tENSG00000285976 & 5138 & 4293 & 3272 & 6473 & 4155 & 6377 & 5523 & 3495\\\\\n",
       "\tENSG00000285978 &    0 &    0 &    0 &    4 &    5 &    6 &    6 &    0\\\\\n",
       "\tENSG00000285980 &    0 &    0 &    0 &    0 &    0 &    0 &    0 &    0\\\\\n",
       "\\end{tabular}\n"
      ],
      "text/markdown": [
       "\n",
       "A data.frame: 57761 × 8\n",
       "\n",
       "| <!--/--> | Irrel_kd_1 &lt;dbl&gt; | Irrel_kd_2 &lt;dbl&gt; | Irrel_kd_3 &lt;dbl&gt; | Mov10_kd_2 &lt;dbl&gt; | Mov10_kd_3 &lt;dbl&gt; | Mov10_oe_1 &lt;dbl&gt; | Mov10_oe_2 &lt;dbl&gt; | Mov10_oe_3 &lt;dbl&gt; |\n",
       "|---|---|---|---|---|---|---|---|---|\n",
       "| ENSG00000000003 | 4376 | 3645 | 2968 | 6178 | 3688 | 3343 | 3114 | 2079 |\n",
       "| ENSG00000000005 |   27 |   29 |   23 |   37 |   13 |   25 |   38 |   22 |\n",
       "| ENSG00000000419 | 1478 | 1288 |  884 | 2369 | 1340 | 1890 | 1766 | 1271 |\n",
       "| ENSG00000000457 |  508 |  405 |  357 |  934 |  571 |  646 |  591 |  354 |\n",
       "| ENSG00000000460 | 1394 | 1164 |  850 | 2172 | 1217 | 1183 | 1139 |  673 |\n",
       "| ENSG00000000938 |    1 |    1 |    0 |    2 |    0 |    0 |    0 |    0 |\n",
       "| ENSG00000000971 |   22 |   18 |    7 |   16 |    2 |    9 |   20 |    4 |\n",
       "| ENSG00000001036 | 3258 | 2599 | 1980 | 4600 | 2781 | 2938 | 3178 | 1664 |\n",
       "| ENSG00000001084 | 3001 | 2438 | 1967 | 4703 | 3021 | 2327 | 2415 | 1556 |\n",
       "| ENSG00000001167 | 3069 | 2415 | 1949 | 4609 | 2637 | 2634 | 2434 | 1371 |\n",
       "| ENSG00000001460 |  895 |  683 |  603 | 1340 |  827 | 1088 |  994 |  543 |\n",
       "| ENSG00000001461 | 1954 | 1675 | 1324 | 2876 | 1649 | 2195 | 2019 | 1133 |\n",
       "| ENSG00000001497 | 2984 | 2652 | 2009 | 4495 | 2789 | 3247 | 2960 | 1672 |\n",
       "| ENSG00000001561 | 1783 | 1514 | 1032 | 2601 | 1583 | 2006 | 1748 | 1244 |\n",
       "| ENSG00000001617 |  445 |  497 |  276 |  545 |  275 |  512 |  556 |  255 |\n",
       "| ENSG00000001626 |    0 |  320 |    4 |  426 |  108 |  324 |    0 |    0 |\n",
       "| ENSG00000001629 | 2023 | 1307 | 1340 | 2688 | 1678 | 1754 | 1661 | 1107 |\n",
       "| ENSG00000001630 | 3161 | 2636 | 2057 | 4398 | 2845 | 3189 | 3109 | 1976 |\n",
       "| ENSG00000001631 | 1901 | 1698 | 1362 | 2537 | 1852 | 2385 | 1831 | 1058 |\n",
       "| ENSG00000002016 | 1145 |  856 |  781 | 1607 |  950 | 1067 |  924 |  447 |\n",
       "| ENSG00000002079 |    2 |   16 |    1 |    2 |    0 |    2 |   14 |    0 |\n",
       "| ENSG00000002330 |  944 |  809 |  664 | 1003 |  591 |  661 |  842 |  390 |\n",
       "| ENSG00000002549 | 2060 | 1584 | 1395 | 2131 | 1150 | 1875 | 1677 |  909 |\n",
       "| ENSG00000002586 | 4412 | 3427 | 2954 | 6576 | 3854 | 4212 | 4368 | 2451 |\n",
       "| ENSG00000002587 |   20 |   23 |   22 |   30 |   25 |   26 |   30 |   53 |\n",
       "| ENSG00000002726 |    0 |    3 |    3 |    2 |    0 |    3 |    0 |    2 |\n",
       "| ENSG00000002745 |    8 |    9 |    3 |   10 |    3 |   12 |    8 |    7 |\n",
       "| ENSG00000002746 |   16 |    8 |    3 |   84 |    9 |   12 |    9 |   14 |\n",
       "| ENSG00000002822 |  599 |  565 |  424 | 1429 |  817 |  919 |  718 |  244 |\n",
       "| ENSG00000002834 | 3136 | 2768 | 2171 | 4321 | 2533 | 2958 | 2801 | 1583 |\n",
       "| ⋮ | ⋮ | ⋮ | ⋮ | ⋮ | ⋮ | ⋮ | ⋮ | ⋮ |\n",
       "| ENSG00000285467 |   11 |    2 |    9 |    5 |   15 |    6 |    6 |    0 |\n",
       "| ENSG00000285471 |    0 |    0 |    0 |    2 |    8 |    2 |    2 |    0 |\n",
       "| ENSG00000285472 |    0 |    0 |    0 |    0 |    0 |    0 |    0 |    0 |\n",
       "| ENSG00000285476 |    1 |    0 |    0 |    5 |    0 |    0 |    0 |    1 |\n",
       "| ENSG00000285491 |    0 |    0 |    0 |    0 |    0 |    0 |    0 |    0 |\n",
       "| ENSG00000285492 |    0 |    0 |    0 |    0 |    0 |    0 |    0 |    0 |\n",
       "| ENSG00000285508 |  178 |   90 |   82 |    0 |    0 |   93 |  111 |   96 |\n",
       "| ENSG00000285517 |   20 |   20 |   25 |   16 |   20 |   36 |   22 |   10 |\n",
       "| ENSG00000285537 |    0 |    0 |    0 |    0 |    0 |    0 |    0 |    0 |\n",
       "| ENSG00000285539 |    0 |    0 |    0 |    0 |    0 |    0 |    0 |    2 |\n",
       "| ENSG00000285551 |    0 |    0 |    1 |    0 |    0 |    0 |    0 |    0 |\n",
       "| ENSG00000285576 |    0 |    0 |    0 |    0 |    0 |    0 |    0 |    0 |\n",
       "| ENSG00000285583 |    0 |    0 |    0 |    0 |    7 |    4 |    0 |    0 |\n",
       "| ENSG00000285629 |  493 |    0 |  977 |    0 |  983 |  478 |  837 |  702 |\n",
       "| ENSG00000285635 |    0 |   13 |    5 |   35 |   20 |   23 |   12 |    0 |\n",
       "| ENSG00000285655 |    0 |    0 |    2 |    0 |    0 |    0 |    0 |    0 |\n",
       "| ENSG00000285693 |   34 |   28 |   26 |   33 |   28 |   45 |   47 |   14 |\n",
       "| ENSG00000285749 |    0 |    0 |    0 |    0 |    0 |    0 |    0 |    0 |\n",
       "| ENSG00000285756 | 2432 | 2177 | 1648 | 3369 | 1946 | 2825 | 2607 | 1529 |\n",
       "| ENSG00000285762 |    0 |    0 |    0 |    0 |    0 |    0 |    0 |    0 |\n",
       "| ENSG00000285772 |   19 |   17 |    5 |   55 |   42 |    6 |    3 |    2 |\n",
       "| ENSG00000285791 |   21 |    0 |   18 |   21 |    1 |    4 |   11 |    1 |\n",
       "| ENSG00000285794 |   79 |   67 |   45 |  106 |   62 |   92 |   85 |   38 |\n",
       "| ENSG00000285799 |    0 |    0 |    1 |    1 |    3 |    0 |    0 |    0 |\n",
       "| ENSG00000285868 |    0 |    0 |    0 |    0 |    0 |    0 |    0 |    0 |\n",
       "| ENSG00000285889 |    0 |   14 |    0 |    0 |    0 |    0 |    0 |    0 |\n",
       "| ENSG00000285950 |    6 |   11 |    8 |    5 |   16 |    5 |   10 |    0 |\n",
       "| ENSG00000285976 | 5138 | 4293 | 3272 | 6473 | 4155 | 6377 | 5523 | 3495 |\n",
       "| ENSG00000285978 |    0 |    0 |    0 |    4 |    5 |    6 |    6 |    0 |\n",
       "| ENSG00000285980 |    0 |    0 |    0 |    0 |    0 |    0 |    0 |    0 |\n",
       "\n"
      ],
      "text/plain": [
       "                Irrel_kd_1 Irrel_kd_2 Irrel_kd_3 Mov10_kd_2 Mov10_kd_3\n",
       "ENSG00000000003 4376       3645       2968       6178       3688      \n",
       "ENSG00000000005   27         29         23         37         13      \n",
       "ENSG00000000419 1478       1288        884       2369       1340      \n",
       "ENSG00000000457  508        405        357        934        571      \n",
       "ENSG00000000460 1394       1164        850       2172       1217      \n",
       "ENSG00000000938    1          1          0          2          0      \n",
       "ENSG00000000971   22         18          7         16          2      \n",
       "ENSG00000001036 3258       2599       1980       4600       2781      \n",
       "ENSG00000001084 3001       2438       1967       4703       3021      \n",
       "ENSG00000001167 3069       2415       1949       4609       2637      \n",
       "ENSG00000001460  895        683        603       1340        827      \n",
       "ENSG00000001461 1954       1675       1324       2876       1649      \n",
       "ENSG00000001497 2984       2652       2009       4495       2789      \n",
       "ENSG00000001561 1783       1514       1032       2601       1583      \n",
       "ENSG00000001617  445        497        276        545        275      \n",
       "ENSG00000001626    0        320          4        426        108      \n",
       "ENSG00000001629 2023       1307       1340       2688       1678      \n",
       "ENSG00000001630 3161       2636       2057       4398       2845      \n",
       "ENSG00000001631 1901       1698       1362       2537       1852      \n",
       "ENSG00000002016 1145        856        781       1607        950      \n",
       "ENSG00000002079    2         16          1          2          0      \n",
       "ENSG00000002330  944        809        664       1003        591      \n",
       "ENSG00000002549 2060       1584       1395       2131       1150      \n",
       "ENSG00000002586 4412       3427       2954       6576       3854      \n",
       "ENSG00000002587   20         23         22         30         25      \n",
       "ENSG00000002726    0          3          3          2          0      \n",
       "ENSG00000002745    8          9          3         10          3      \n",
       "ENSG00000002746   16          8          3         84          9      \n",
       "ENSG00000002822  599        565        424       1429        817      \n",
       "ENSG00000002834 3136       2768       2171       4321       2533      \n",
       "⋮               ⋮          ⋮          ⋮          ⋮          ⋮         \n",
       "ENSG00000285467   11          2          9          5         15      \n",
       "ENSG00000285471    0          0          0          2          8      \n",
       "ENSG00000285472    0          0          0          0          0      \n",
       "ENSG00000285476    1          0          0          5          0      \n",
       "ENSG00000285491    0          0          0          0          0      \n",
       "ENSG00000285492    0          0          0          0          0      \n",
       "ENSG00000285508  178         90         82          0          0      \n",
       "ENSG00000285517   20         20         25         16         20      \n",
       "ENSG00000285537    0          0          0          0          0      \n",
       "ENSG00000285539    0          0          0          0          0      \n",
       "ENSG00000285551    0          0          1          0          0      \n",
       "ENSG00000285576    0          0          0          0          0      \n",
       "ENSG00000285583    0          0          0          0          7      \n",
       "ENSG00000285629  493          0        977          0        983      \n",
       "ENSG00000285635    0         13          5         35         20      \n",
       "ENSG00000285655    0          0          2          0          0      \n",
       "ENSG00000285693   34         28         26         33         28      \n",
       "ENSG00000285749    0          0          0          0          0      \n",
       "ENSG00000285756 2432       2177       1648       3369       1946      \n",
       "ENSG00000285762    0          0          0          0          0      \n",
       "ENSG00000285772   19         17          5         55         42      \n",
       "ENSG00000285791   21          0         18         21          1      \n",
       "ENSG00000285794   79         67         45        106         62      \n",
       "ENSG00000285799    0          0          1          1          3      \n",
       "ENSG00000285868    0          0          0          0          0      \n",
       "ENSG00000285889    0         14          0          0          0      \n",
       "ENSG00000285950    6         11          8          5         16      \n",
       "ENSG00000285976 5138       4293       3272       6473       4155      \n",
       "ENSG00000285978    0          0          0          4          5      \n",
       "ENSG00000285980    0          0          0          0          0      \n",
       "                Mov10_oe_1 Mov10_oe_2 Mov10_oe_3\n",
       "ENSG00000000003 3343       3114       2079      \n",
       "ENSG00000000005   25         38         22      \n",
       "ENSG00000000419 1890       1766       1271      \n",
       "ENSG00000000457  646        591        354      \n",
       "ENSG00000000460 1183       1139        673      \n",
       "ENSG00000000938    0          0          0      \n",
       "ENSG00000000971    9         20          4      \n",
       "ENSG00000001036 2938       3178       1664      \n",
       "ENSG00000001084 2327       2415       1556      \n",
       "ENSG00000001167 2634       2434       1371      \n",
       "ENSG00000001460 1088        994        543      \n",
       "ENSG00000001461 2195       2019       1133      \n",
       "ENSG00000001497 3247       2960       1672      \n",
       "ENSG00000001561 2006       1748       1244      \n",
       "ENSG00000001617  512        556        255      \n",
       "ENSG00000001626  324          0          0      \n",
       "ENSG00000001629 1754       1661       1107      \n",
       "ENSG00000001630 3189       3109       1976      \n",
       "ENSG00000001631 2385       1831       1058      \n",
       "ENSG00000002016 1067        924        447      \n",
       "ENSG00000002079    2         14          0      \n",
       "ENSG00000002330  661        842        390      \n",
       "ENSG00000002549 1875       1677        909      \n",
       "ENSG00000002586 4212       4368       2451      \n",
       "ENSG00000002587   26         30         53      \n",
       "ENSG00000002726    3          0          2      \n",
       "ENSG00000002745   12          8          7      \n",
       "ENSG00000002746   12          9         14      \n",
       "ENSG00000002822  919        718        244      \n",
       "ENSG00000002834 2958       2801       1583      \n",
       "⋮               ⋮          ⋮          ⋮         \n",
       "ENSG00000285467    6          6          0      \n",
       "ENSG00000285471    2          2          0      \n",
       "ENSG00000285472    0          0          0      \n",
       "ENSG00000285476    0          0          1      \n",
       "ENSG00000285491    0          0          0      \n",
       "ENSG00000285492    0          0          0      \n",
       "ENSG00000285508   93        111         96      \n",
       "ENSG00000285517   36         22         10      \n",
       "ENSG00000285537    0          0          0      \n",
       "ENSG00000285539    0          0          2      \n",
       "ENSG00000285551    0          0          0      \n",
       "ENSG00000285576    0          0          0      \n",
       "ENSG00000285583    4          0          0      \n",
       "ENSG00000285629  478        837        702      \n",
       "ENSG00000285635   23         12          0      \n",
       "ENSG00000285655    0          0          0      \n",
       "ENSG00000285693   45         47         14      \n",
       "ENSG00000285749    0          0          0      \n",
       "ENSG00000285756 2825       2607       1529      \n",
       "ENSG00000285762    0          0          0      \n",
       "ENSG00000285772    6          3          2      \n",
       "ENSG00000285791    4         11          1      \n",
       "ENSG00000285794   92         85         38      \n",
       "ENSG00000285799    0          0          0      \n",
       "ENSG00000285868    0          0          0      \n",
       "ENSG00000285889    0          0          0      \n",
       "ENSG00000285950    5         10          0      \n",
       "ENSG00000285976 6377       5523       3495      \n",
       "ENSG00000285978    6          6          0      \n",
       "ENSG00000285980    0          0          0      "
      ]
     },
     "metadata": {},
     "output_type": "display_data"
    }
   ],
   "source": [
    "data"
   ]
  },
  {
   "cell_type": "markdown",
   "id": "486cca5b",
   "metadata": {
    "deletable": false,
    "editable": false,
    "run_control": {
     "frozen": true
    }
   },
   "source": [
    "#### Creating metadata"
   ]
  },
  {
   "cell_type": "code",
   "execution_count": 27,
   "id": "907f1c0f",
   "metadata": {},
   "outputs": [
    {
     "name": "stdout",
     "output_type": "stream",
     "text": [
      "                     sampletype\n",
      "Irrel_kd_1              control\n",
      "Irrel_kd_2              control\n",
      "Irrel_kd_3              control\n",
      "Mov10_kd_2      MOV10_knockdown\n",
      "Mov10_kd_3      MOV10_knockdown\n",
      "Mov10_oe_1 MOV10_overexpression\n",
      "Mov10_oe_2 MOV10_overexpression\n",
      "Mov10_oe_3 MOV10_overexpression\n"
     ]
    }
   ],
   "source": [
    "sampletype = factor(c(rep(\"control\",3), rep(\"MOV10_knockdown\", 2), rep(\"MOV10_overexpression\", 3)))\n",
    "meta = data.frame(sampletype, row.names = colnames(txi$counts))\n",
    "print(meta)"
   ]
  },
  {
   "cell_type": "markdown",
   "id": "022f5309",
   "metadata": {
    "deletable": false,
    "editable": false,
    "run_control": {
     "frozen": true
    }
   },
   "source": [
    "### 1.2 Differential gene expression analysis overview"
   ]
  },
  {
   "cell_type": "markdown",
   "id": "1603a62b",
   "metadata": {
    "deletable": false,
    "editable": false,
    "run_control": {
     "frozen": true
    }
   },
   "source": [
    "#### RNA-seq count distribution"
   ]
  },
  {
   "cell_type": "code",
   "execution_count": 28,
   "id": "0b393fc0",
   "metadata": {},
   "outputs": [],
   "source": [
    "?aes"
   ]
  },
  {
   "cell_type": "code",
   "execution_count": 30,
   "id": "17ab3576",
   "metadata": {},
   "outputs": [
    {
     "data": {
      "image/png": "[encoded data removed]",
      "text/plain": [
       "plot without title"
      ]
     },
     "metadata": {
      "image/png": {
       "height": 420,
       "width": 420
      }
     },
     "output_type": "display_data"
    }
   ],
   "source": [
    "ggplot(data) +\n",
    "    geom_histogram(aes(x = Mov10_oe_1), stat=\"bin\", bins=200) +\n",
    "    xlab(\"Raw expression counts\") +\n",
    "    ylab(\"Number of genes\")"
   ]
  },
  {
   "cell_type": "markdown",
   "id": "ff69b0f7",
   "metadata": {
    "deletable": false,
    "editable": false,
    "run_control": {
     "frozen": true
    }
   },
   "source": [
    "#### Modeling count data"
   ]
  },
  {
   "cell_type": "code",
   "execution_count": 31,
   "id": "5201976a",
   "metadata": {},
   "outputs": [
    {
     "name": "stderr",
     "output_type": "stream",
     "text": [
      "Warning message:\n",
      "“Transformation introduced infinite values in continuous y-axis”\n",
      "Warning message:\n",
      "“Transformation introduced infinite values in continuous x-axis”\n",
      "Warning message:\n",
      "“Removed 6724 rows containing missing values (geom_point).”\n"
     ]
    },
    {
     "data": {
      "image/png": "[encoded data removed]",
      "text/plain": [
       "plot without title"
      ]
     },
     "metadata": {
      "image/png": {
       "height": 420,
       "width": 420
      }
     },
     "output_type": "display_data"
    }
   ],
   "source": [
    "# The second argument '1' of 'apply' function indicates the function is being applied to rows.\n",
    "# Use '2' if applied to columns \n",
    "mean_counts = apply(data[,6:8], 1, mean)\n",
    "variance_counts = apply(data[,6:8], 1, var)\n",
    "df = data.frame(mean_counts, variance_counts)\n",
    "\n",
    "ggplot(df) +\n",
    "        geom_point(aes(x=mean_counts, y=variance_counts)) + \n",
    "        scale_y_log10(limits = c(1,1e9)) +\n",
    "        scale_x_log10(limits = c(1,1e9)) +\n",
    "        geom_abline(intercept = 0, slope = 1, color=\"red\")"
   ]
  },
  {
   "cell_type": "markdown",
   "id": "1d63611d",
   "metadata": {
    "deletable": false,
    "editable": false,
    "run_control": {
     "frozen": true
    }
   },
   "source": [
    "In RNA-seq data, a large number of RNAs are represented, while the probability of pulling out a particular transcript is very small. This means Poisson and Negative Binomial distributions are well suited to model counts."
   ]
  },
  {
   "cell_type": "markdown",
   "id": "23edf053",
   "metadata": {
    "deletable": false,
    "editable": false,
    "run_control": {
     "frozen": true
    }
   },
   "source": [
    "#### Improving mean estimates with biological replicates"
   ]
  },
  {
   "cell_type": "markdown",
   "id": "9f916f90",
   "metadata": {
    "deletable": false,
    "editable": false,
    "run_control": {
     "frozen": true
    }
   },
   "source": [
    "**Increasing the number of biological replicates** is much more effective at returning more **differentially expressed genes** than increasing the sequecing depth."
   ]
  },
  {
   "cell_type": "markdown",
   "id": "79302ba5",
   "metadata": {
    "deletable": false,
    "editable": false,
    "run_control": {
     "frozen": true
    }
   },
   "source": [
    "#### Differential expression analysis workflow"
   ]
  },
  {
   "cell_type": "markdown",
   "id": "ba04ddae",
   "metadata": {},
   "source": [
    "Current best practice tools for differential gene expression analysis are:\n",
    "1. DESeq2\n",
    "2. EdgeR\n",
    "3. LIMMA-Voom (for datasets with >20 biological replicates)"
   ]
  },
  {
   "cell_type": "markdown",
   "id": "4e4b9e1d",
   "metadata": {
    "deletable": false,
    "editable": false,
    "run_control": {
     "frozen": true
    }
   },
   "source": [
    "## 2. [Count normalization](https://hbctraining.github.io/DGE_workshop_salmon/lessons/02_DGE_count_normalization.html)"
   ]
  },
  {
   "cell_type": "markdown",
   "id": "aa1b200d",
   "metadata": {
    "deletable": false,
    "editable": false,
    "run_control": {
     "frozen": true
    }
   },
   "source": [
    "The main factors considered in normalization are:\n",
    "1. sequencing depth\n",
    "2. gene length\n",
    "3. RNA composition (differences in the number of genes expressed between samples)\n",
    "\n",
    "DESeq2 uses a **median of ratios** method which accounts for sequencing depth and RNA composition. Gene length is not a concern when performing differential gene expression, because we are comparing the _same gene_ between two groups (i.e. the counts in both samples are equally affected by length).\n",
    "\n",
    "**Note**: DESeq2 doesn’t actually use normalized counts, rather it uses the raw counts and models the normalization inside the Generalized Linear Model (GLM). These normalized counts will be useful for downstream visualization of results, but cannot be used as input to DESeq2 or any other tools that peform differential expression analysis which use the negative binomial model."
   ]
  },
  {
   "cell_type": "markdown",
   "id": "3fbdeafc",
   "metadata": {
    "deletable": false,
    "editable": false,
    "run_control": {
     "frozen": true
    }
   },
   "source": [
    "### 2.1 Count normalization of Mov10 dataset using DESeq2"
   ]
  },
  {
   "cell_type": "markdown",
   "id": "99da6e95",
   "metadata": {
    "deletable": false,
    "editable": false,
    "run_control": {
     "frozen": true
    }
   },
   "source": [
    "#### Match the metadata and counts data"
   ]
  },
  {
   "cell_type": "code",
   "execution_count": 34,
   "id": "90f6164f",
   "metadata": {},
   "outputs": [
    {
     "data": {
      "text/html": [
       "TRUE"
      ],
      "text/latex": [
       "TRUE"
      ],
      "text/markdown": [
       "TRUE"
      ],
      "text/plain": [
       "[1] TRUE"
      ]
     },
     "metadata": {},
     "output_type": "display_data"
    }
   ],
   "source": [
    "all(colnames(txi$counts) == rownames(meta))"
   ]
  },
  {
   "cell_type": "markdown",
   "id": "8be9f3ad",
   "metadata": {},
   "source": [
    "#### Create DESeq2 object"
   ]
  },
  {
   "cell_type": "code",
   "execution_count": 36,
   "id": "0d9989d9",
   "metadata": {},
   "outputs": [
    {
     "name": "stderr",
     "output_type": "stream",
     "text": [
      "using just counts from tximport\n",
      "\n"
     ]
    }
   ],
   "source": [
    "dds = DESeqDataSetFromTximport(txi, colData=meta, design=~sampletype)"
   ]
  },
  {
   "cell_type": "code",
   "execution_count": 37,
   "id": "6001a71a",
   "metadata": {},
   "outputs": [
    {
     "data": {
      "text/plain": [
       "class: DESeqDataSet \n",
       "dim: 57761 8 \n",
       "metadata(1): version\n",
       "assays(1): counts\n",
       "rownames(57761): ENSG00000000003 ENSG00000000005 ... ENSG00000285978\n",
       "  ENSG00000285980\n",
       "rowData names(0):\n",
       "colnames(8): Irrel_kd_1 Irrel_kd_2 ... Mov10_oe_2 Mov10_oe_3\n",
       "colData names(1): sampletype"
      ]
     },
     "metadata": {},
     "output_type": "display_data"
    }
   ],
   "source": [
    "dds"
   ]
  },
  {
   "cell_type": "code",
   "execution_count": 38,
   "id": "970d7e2a",
   "metadata": {},
   "outputs": [
    {
     "data": {
      "text/html": [
       "<table class=\"dataframe\">\n",
       "<caption>A matrix: 57761 × 8 of type int</caption>\n",
       "<thead>\n",
       "\t<tr><th></th><th scope=col>Irrel_kd_1</th><th scope=col>Irrel_kd_2</th><th scope=col>Irrel_kd_3</th><th scope=col>Mov10_kd_2</th><th scope=col>Mov10_kd_3</th><th scope=col>Mov10_oe_1</th><th scope=col>Mov10_oe_2</th><th scope=col>Mov10_oe_3</th></tr>\n",
       "</thead>\n",
       "<tbody>\n",
       "\t<tr><th scope=row>ENSG00000000003</th><td>4376</td><td>3645</td><td>2968</td><td>6178</td><td>3688</td><td>3343</td><td>3114</td><td>2079</td></tr>\n",
       "\t<tr><th scope=row>ENSG00000000005</th><td>  27</td><td>  29</td><td>  23</td><td>  37</td><td>  13</td><td>  25</td><td>  38</td><td>  22</td></tr>\n",
       "\t<tr><th scope=row>ENSG00000000419</th><td>1478</td><td>1288</td><td> 884</td><td>2369</td><td>1340</td><td>1890</td><td>1766</td><td>1271</td></tr>\n",
       "\t<tr><th scope=row>ENSG00000000457</th><td> 508</td><td> 405</td><td> 357</td><td> 934</td><td> 571</td><td> 646</td><td> 591</td><td> 354</td></tr>\n",
       "\t<tr><th scope=row>ENSG00000000460</th><td>1394</td><td>1164</td><td> 850</td><td>2172</td><td>1217</td><td>1183</td><td>1139</td><td> 673</td></tr>\n",
       "\t<tr><th scope=row>ENSG00000000938</th><td>   1</td><td>   1</td><td>   0</td><td>   2</td><td>   0</td><td>   0</td><td>   0</td><td>   0</td></tr>\n",
       "\t<tr><th scope=row>ENSG00000000971</th><td>  22</td><td>  18</td><td>   7</td><td>  16</td><td>   2</td><td>   9</td><td>  20</td><td>   4</td></tr>\n",
       "\t<tr><th scope=row>ENSG00000001036</th><td>3258</td><td>2599</td><td>1980</td><td>4600</td><td>2781</td><td>2938</td><td>3178</td><td>1664</td></tr>\n",
       "\t<tr><th scope=row>ENSG00000001084</th><td>3001</td><td>2438</td><td>1967</td><td>4703</td><td>3021</td><td>2327</td><td>2415</td><td>1556</td></tr>\n",
       "\t<tr><th scope=row>ENSG00000001167</th><td>3069</td><td>2415</td><td>1949</td><td>4609</td><td>2637</td><td>2634</td><td>2434</td><td>1371</td></tr>\n",
       "\t<tr><th scope=row>ENSG00000001460</th><td> 895</td><td> 683</td><td> 603</td><td>1340</td><td> 827</td><td>1088</td><td> 994</td><td> 543</td></tr>\n",
       "\t<tr><th scope=row>ENSG00000001461</th><td>1954</td><td>1675</td><td>1324</td><td>2876</td><td>1649</td><td>2195</td><td>2019</td><td>1133</td></tr>\n",
       "\t<tr><th scope=row>ENSG00000001497</th><td>2984</td><td>2652</td><td>2009</td><td>4495</td><td>2789</td><td>3247</td><td>2960</td><td>1672</td></tr>\n",
       "\t<tr><th scope=row>ENSG00000001561</th><td>1783</td><td>1514</td><td>1032</td><td>2601</td><td>1583</td><td>2006</td><td>1748</td><td>1244</td></tr>\n",
       "\t<tr><th scope=row>ENSG00000001617</th><td> 445</td><td> 497</td><td> 276</td><td> 545</td><td> 275</td><td> 512</td><td> 556</td><td> 255</td></tr>\n",
       "\t<tr><th scope=row>ENSG00000001626</th><td>   0</td><td> 320</td><td>   4</td><td> 426</td><td> 108</td><td> 324</td><td>   0</td><td>   0</td></tr>\n",
       "\t<tr><th scope=row>ENSG00000001629</th><td>2023</td><td>1307</td><td>1340</td><td>2688</td><td>1678</td><td>1754</td><td>1661</td><td>1107</td></tr>\n",
       "\t<tr><th scope=row>ENSG00000001630</th><td>3161</td><td>2636</td><td>2057</td><td>4398</td><td>2845</td><td>3189</td><td>3109</td><td>1976</td></tr>\n",
       "\t<tr><th scope=row>ENSG00000001631</th><td>1901</td><td>1698</td><td>1362</td><td>2537</td><td>1852</td><td>2385</td><td>1831</td><td>1058</td></tr>\n",
       "\t<tr><th scope=row>ENSG00000002016</th><td>1145</td><td> 856</td><td> 781</td><td>1607</td><td> 950</td><td>1067</td><td> 924</td><td> 447</td></tr>\n",
       "\t<tr><th scope=row>ENSG00000002079</th><td>   2</td><td>  16</td><td>   1</td><td>   2</td><td>   0</td><td>   2</td><td>  14</td><td>   0</td></tr>\n",
       "\t<tr><th scope=row>ENSG00000002330</th><td> 944</td><td> 809</td><td> 664</td><td>1003</td><td> 591</td><td> 661</td><td> 842</td><td> 390</td></tr>\n",
       "\t<tr><th scope=row>ENSG00000002549</th><td>2060</td><td>1584</td><td>1395</td><td>2131</td><td>1150</td><td>1875</td><td>1677</td><td> 909</td></tr>\n",
       "\t<tr><th scope=row>ENSG00000002586</th><td>4412</td><td>3427</td><td>2954</td><td>6576</td><td>3854</td><td>4212</td><td>4368</td><td>2451</td></tr>\n",
       "\t<tr><th scope=row>ENSG00000002587</th><td>  20</td><td>  23</td><td>  22</td><td>  30</td><td>  25</td><td>  26</td><td>  30</td><td>  53</td></tr>\n",
       "\t<tr><th scope=row>ENSG00000002726</th><td>   0</td><td>   3</td><td>   3</td><td>   2</td><td>   0</td><td>   3</td><td>   0</td><td>   2</td></tr>\n",
       "\t<tr><th scope=row>ENSG00000002745</th><td>   8</td><td>   9</td><td>   3</td><td>  10</td><td>   3</td><td>  12</td><td>   8</td><td>   7</td></tr>\n",
       "\t<tr><th scope=row>ENSG00000002746</th><td>  16</td><td>   8</td><td>   3</td><td>  84</td><td>   9</td><td>  12</td><td>   9</td><td>  14</td></tr>\n",
       "\t<tr><th scope=row>ENSG00000002822</th><td> 599</td><td> 565</td><td> 424</td><td>1429</td><td> 817</td><td> 919</td><td> 718</td><td> 244</td></tr>\n",
       "\t<tr><th scope=row>ENSG00000002834</th><td>3136</td><td>2768</td><td>2171</td><td>4321</td><td>2533</td><td>2958</td><td>2801</td><td>1583</td></tr>\n",
       "\t<tr><th scope=row>⋮</th><td>⋮</td><td>⋮</td><td>⋮</td><td>⋮</td><td>⋮</td><td>⋮</td><td>⋮</td><td>⋮</td></tr>\n",
       "\t<tr><th scope=row>ENSG00000285467</th><td>  11</td><td>   2</td><td>   9</td><td>   5</td><td>  15</td><td>   6</td><td>   6</td><td>   0</td></tr>\n",
       "\t<tr><th scope=row>ENSG00000285471</th><td>   0</td><td>   0</td><td>   0</td><td>   2</td><td>   8</td><td>   2</td><td>   2</td><td>   0</td></tr>\n",
       "\t<tr><th scope=row>ENSG00000285472</th><td>   0</td><td>   0</td><td>   0</td><td>   0</td><td>   0</td><td>   0</td><td>   0</td><td>   0</td></tr>\n",
       "\t<tr><th scope=row>ENSG00000285476</th><td>   1</td><td>   0</td><td>   0</td><td>   5</td><td>   0</td><td>   0</td><td>   0</td><td>   1</td></tr>\n",
       "\t<tr><th scope=row>ENSG00000285491</th><td>   0</td><td>   0</td><td>   0</td><td>   0</td><td>   0</td><td>   0</td><td>   0</td><td>   0</td></tr>\n",
       "\t<tr><th scope=row>ENSG00000285492</th><td>   0</td><td>   0</td><td>   0</td><td>   0</td><td>   0</td><td>   0</td><td>   0</td><td>   0</td></tr>\n",
       "\t<tr><th scope=row>ENSG00000285508</th><td> 178</td><td>  90</td><td>  82</td><td>   0</td><td>   0</td><td>  93</td><td> 111</td><td>  96</td></tr>\n",
       "\t<tr><th scope=row>ENSG00000285517</th><td>  20</td><td>  20</td><td>  25</td><td>  16</td><td>  20</td><td>  36</td><td>  22</td><td>  10</td></tr>\n",
       "\t<tr><th scope=row>ENSG00000285537</th><td>   0</td><td>   0</td><td>   0</td><td>   0</td><td>   0</td><td>   0</td><td>   0</td><td>   0</td></tr>\n",
       "\t<tr><th scope=row>ENSG00000285539</th><td>   0</td><td>   0</td><td>   0</td><td>   0</td><td>   0</td><td>   0</td><td>   0</td><td>   2</td></tr>\n",
       "\t<tr><th scope=row>ENSG00000285551</th><td>   0</td><td>   0</td><td>   1</td><td>   0</td><td>   0</td><td>   0</td><td>   0</td><td>   0</td></tr>\n",
       "\t<tr><th scope=row>ENSG00000285576</th><td>   0</td><td>   0</td><td>   0</td><td>   0</td><td>   0</td><td>   0</td><td>   0</td><td>   0</td></tr>\n",
       "\t<tr><th scope=row>ENSG00000285583</th><td>   0</td><td>   0</td><td>   0</td><td>   0</td><td>   7</td><td>   4</td><td>   0</td><td>   0</td></tr>\n",
       "\t<tr><th scope=row>ENSG00000285629</th><td> 493</td><td>   0</td><td> 977</td><td>   0</td><td> 983</td><td> 478</td><td> 837</td><td> 702</td></tr>\n",
       "\t<tr><th scope=row>ENSG00000285635</th><td>   0</td><td>  13</td><td>   5</td><td>  35</td><td>  20</td><td>  23</td><td>  12</td><td>   0</td></tr>\n",
       "\t<tr><th scope=row>ENSG00000285655</th><td>   0</td><td>   0</td><td>   2</td><td>   0</td><td>   0</td><td>   0</td><td>   0</td><td>   0</td></tr>\n",
       "\t<tr><th scope=row>ENSG00000285693</th><td>  34</td><td>  28</td><td>  26</td><td>  33</td><td>  28</td><td>  45</td><td>  47</td><td>  14</td></tr>\n",
       "\t<tr><th scope=row>ENSG00000285749</th><td>   0</td><td>   0</td><td>   0</td><td>   0</td><td>   0</td><td>   0</td><td>   0</td><td>   0</td></tr>\n",
       "\t<tr><th scope=row>ENSG00000285756</th><td>2432</td><td>2177</td><td>1648</td><td>3369</td><td>1946</td><td>2825</td><td>2607</td><td>1529</td></tr>\n",
       "\t<tr><th scope=row>ENSG00000285762</th><td>   0</td><td>   0</td><td>   0</td><td>   0</td><td>   0</td><td>   0</td><td>   0</td><td>   0</td></tr>\n",
       "\t<tr><th scope=row>ENSG00000285772</th><td>  19</td><td>  17</td><td>   5</td><td>  55</td><td>  42</td><td>   6</td><td>   3</td><td>   2</td></tr>\n",
       "\t<tr><th scope=row>ENSG00000285791</th><td>  21</td><td>   0</td><td>  18</td><td>  21</td><td>   1</td><td>   4</td><td>  11</td><td>   1</td></tr>\n",
       "\t<tr><th scope=row>ENSG00000285794</th><td>  79</td><td>  67</td><td>  45</td><td> 106</td><td>  62</td><td>  92</td><td>  85</td><td>  38</td></tr>\n",
       "\t<tr><th scope=row>ENSG00000285799</th><td>   0</td><td>   0</td><td>   1</td><td>   1</td><td>   3</td><td>   0</td><td>   0</td><td>   0</td></tr>\n",
       "\t<tr><th scope=row>ENSG00000285868</th><td>   0</td><td>   0</td><td>   0</td><td>   0</td><td>   0</td><td>   0</td><td>   0</td><td>   0</td></tr>\n",
       "\t<tr><th scope=row>ENSG00000285889</th><td>   0</td><td>  14</td><td>   0</td><td>   0</td><td>   0</td><td>   0</td><td>   0</td><td>   0</td></tr>\n",
       "\t<tr><th scope=row>ENSG00000285950</th><td>   6</td><td>  11</td><td>   8</td><td>   5</td><td>  16</td><td>   5</td><td>  10</td><td>   0</td></tr>\n",
       "\t<tr><th scope=row>ENSG00000285976</th><td>5138</td><td>4293</td><td>3272</td><td>6473</td><td>4155</td><td>6377</td><td>5523</td><td>3495</td></tr>\n",
       "\t<tr><th scope=row>ENSG00000285978</th><td>   0</td><td>   0</td><td>   0</td><td>   4</td><td>   5</td><td>   6</td><td>   6</td><td>   0</td></tr>\n",
       "\t<tr><th scope=row>ENSG00000285980</th><td>   0</td><td>   0</td><td>   0</td><td>   0</td><td>   0</td><td>   0</td><td>   0</td><td>   0</td></tr>\n",
       "</tbody>\n",
       "</table>\n"
      ],
      "text/latex": [
       "A matrix: 57761 × 8 of type int\n",
       "\\begin{tabular}{r|llllllll}\n",
       "  & Irrel\\_kd\\_1 & Irrel\\_kd\\_2 & Irrel\\_kd\\_3 & Mov10\\_kd\\_2 & Mov10\\_kd\\_3 & Mov10\\_oe\\_1 & Mov10\\_oe\\_2 & Mov10\\_oe\\_3\\\\\n",
       "\\hline\n",
       "\tENSG00000000003 & 4376 & 3645 & 2968 & 6178 & 3688 & 3343 & 3114 & 2079\\\\\n",
       "\tENSG00000000005 &   27 &   29 &   23 &   37 &   13 &   25 &   38 &   22\\\\\n",
       "\tENSG00000000419 & 1478 & 1288 &  884 & 2369 & 1340 & 1890 & 1766 & 1271\\\\\n",
       "\tENSG00000000457 &  508 &  405 &  357 &  934 &  571 &  646 &  591 &  354\\\\\n",
       "\tENSG00000000460 & 1394 & 1164 &  850 & 2172 & 1217 & 1183 & 1139 &  673\\\\\n",
       "\tENSG00000000938 &    1 &    1 &    0 &    2 &    0 &    0 &    0 &    0\\\\\n",
       "\tENSG00000000971 &   22 &   18 &    7 &   16 &    2 &    9 &   20 &    4\\\\\n",
       "\tENSG00000001036 & 3258 & 2599 & 1980 & 4600 & 2781 & 2938 & 3178 & 1664\\\\\n",
       "\tENSG00000001084 & 3001 & 2438 & 1967 & 4703 & 3021 & 2327 & 2415 & 1556\\\\\n",
       "\tENSG00000001167 & 3069 & 2415 & 1949 & 4609 & 2637 & 2634 & 2434 & 1371\\\\\n",
       "\tENSG00000001460 &  895 &  683 &  603 & 1340 &  827 & 1088 &  994 &  543\\\\\n",
       "\tENSG00000001461 & 1954 & 1675 & 1324 & 2876 & 1649 & 2195 & 2019 & 1133\\\\\n",
       "\tENSG00000001497 & 2984 & 2652 & 2009 & 4495 & 2789 & 3247 & 2960 & 1672\\\\\n",
       "\tENSG00000001561 & 1783 & 1514 & 1032 & 2601 & 1583 & 2006 & 1748 & 1244\\\\\n",
       "\tENSG00000001617 &  445 &  497 &  276 &  545 &  275 &  512 &  556 &  255\\\\\n",
       "\tENSG00000001626 &    0 &  320 &    4 &  426 &  108 &  324 &    0 &    0\\\\\n",
       "\tENSG00000001629 & 2023 & 1307 & 1340 & 2688 & 1678 & 1754 & 1661 & 1107\\\\\n",
       "\tENSG00000001630 & 3161 & 2636 & 2057 & 4398 & 2845 & 3189 & 3109 & 1976\\\\\n",
       "\tENSG00000001631 & 1901 & 1698 & 1362 & 2537 & 1852 & 2385 & 1831 & 1058\\\\\n",
       "\tENSG00000002016 & 1145 &  856 &  781 & 1607 &  950 & 1067 &  924 &  447\\\\\n",
       "\tENSG00000002079 &    2 &   16 &    1 &    2 &    0 &    2 &   14 &    0\\\\\n",
       "\tENSG00000002330 &  944 &  809 &  664 & 1003 &  591 &  661 &  842 &  390\\\\\n",
       "\tENSG00000002549 & 2060 & 1584 & 1395 & 2131 & 1150 & 1875 & 1677 &  909\\\\\n",
       "\tENSG00000002586 & 4412 & 3427 & 2954 & 6576 & 3854 & 4212 & 4368 & 2451\\\\\n",
       "\tENSG00000002587 &   20 &   23 &   22 &   30 &   25 &   26 &   30 &   53\\\\\n",
       "\tENSG00000002726 &    0 &    3 &    3 &    2 &    0 &    3 &    0 &    2\\\\\n",
       "\tENSG00000002745 &    8 &    9 &    3 &   10 &    3 &   12 &    8 &    7\\\\\n",
       "\tENSG00000002746 &   16 &    8 &    3 &   84 &    9 &   12 &    9 &   14\\\\\n",
       "\tENSG00000002822 &  599 &  565 &  424 & 1429 &  817 &  919 &  718 &  244\\\\\n",
       "\tENSG00000002834 & 3136 & 2768 & 2171 & 4321 & 2533 & 2958 & 2801 & 1583\\\\\n",
       "\t⋮ & ⋮ & ⋮ & ⋮ & ⋮ & ⋮ & ⋮ & ⋮ & ⋮\\\\\n",
       "\tENSG00000285467 &   11 &    2 &    9 &    5 &   15 &    6 &    6 &    0\\\\\n",
       "\tENSG00000285471 &    0 &    0 &    0 &    2 &    8 &    2 &    2 &    0\\\\\n",
       "\tENSG00000285472 &    0 &    0 &    0 &    0 &    0 &    0 &    0 &    0\\\\\n",
       "\tENSG00000285476 &    1 &    0 &    0 &    5 &    0 &    0 &    0 &    1\\\\\n",
       "\tENSG00000285491 &    0 &    0 &    0 &    0 &    0 &    0 &    0 &    0\\\\\n",
       "\tENSG00000285492 &    0 &    0 &    0 &    0 &    0 &    0 &    0 &    0\\\\\n",
       "\tENSG00000285508 &  178 &   90 &   82 &    0 &    0 &   93 &  111 &   96\\\\\n",
       "\tENSG00000285517 &   20 &   20 &   25 &   16 &   20 &   36 &   22 &   10\\\\\n",
       "\tENSG00000285537 &    0 &    0 &    0 &    0 &    0 &    0 &    0 &    0\\\\\n",
       "\tENSG00000285539 &    0 &    0 &    0 &    0 &    0 &    0 &    0 &    2\\\\\n",
       "\tENSG00000285551 &    0 &    0 &    1 &    0 &    0 &    0 &    0 &    0\\\\\n",
       "\tENSG00000285576 &    0 &    0 &    0 &    0 &    0 &    0 &    0 &    0\\\\\n",
       "\tENSG00000285583 &    0 &    0 &    0 &    0 &    7 &    4 &    0 &    0\\\\\n",
       "\tENSG00000285629 &  493 &    0 &  977 &    0 &  983 &  478 &  837 &  702\\\\\n",
       "\tENSG00000285635 &    0 &   13 &    5 &   35 &   20 &   23 &   12 &    0\\\\\n",
       "\tENSG00000285655 &    0 &    0 &    2 &    0 &    0 &    0 &    0 &    0\\\\\n",
       "\tENSG00000285693 &   34 &   28 &   26 &   33 &   28 &   45 &   47 &   14\\\\\n",
       "\tENSG00000285749 &    0 &    0 &    0 &    0 &    0 &    0 &    0 &    0\\\\\n",
       "\tENSG00000285756 & 2432 & 2177 & 1648 & 3369 & 1946 & 2825 & 2607 & 1529\\\\\n",
       "\tENSG00000285762 &    0 &    0 &    0 &    0 &    0 &    0 &    0 &    0\\\\\n",
       "\tENSG00000285772 &   19 &   17 &    5 &   55 &   42 &    6 &    3 &    2\\\\\n",
       "\tENSG00000285791 &   21 &    0 &   18 &   21 &    1 &    4 &   11 &    1\\\\\n",
       "\tENSG00000285794 &   79 &   67 &   45 &  106 &   62 &   92 &   85 &   38\\\\\n",
       "\tENSG00000285799 &    0 &    0 &    1 &    1 &    3 &    0 &    0 &    0\\\\\n",
       "\tENSG00000285868 &    0 &    0 &    0 &    0 &    0 &    0 &    0 &    0\\\\\n",
       "\tENSG00000285889 &    0 &   14 &    0 &    0 &    0 &    0 &    0 &    0\\\\\n",
       "\tENSG00000285950 &    6 &   11 &    8 &    5 &   16 &    5 &   10 &    0\\\\\n",
       "\tENSG00000285976 & 5138 & 4293 & 3272 & 6473 & 4155 & 6377 & 5523 & 3495\\\\\n",
       "\tENSG00000285978 &    0 &    0 &    0 &    4 &    5 &    6 &    6 &    0\\\\\n",
       "\tENSG00000285980 &    0 &    0 &    0 &    0 &    0 &    0 &    0 &    0\\\\\n",
       "\\end{tabular}\n"
      ],
      "text/markdown": [
       "\n",
       "A matrix: 57761 × 8 of type int\n",
       "\n",
       "| <!--/--> | Irrel_kd_1 | Irrel_kd_2 | Irrel_kd_3 | Mov10_kd_2 | Mov10_kd_3 | Mov10_oe_1 | Mov10_oe_2 | Mov10_oe_3 |\n",
       "|---|---|---|---|---|---|---|---|---|\n",
       "| ENSG00000000003 | 4376 | 3645 | 2968 | 6178 | 3688 | 3343 | 3114 | 2079 |\n",
       "| ENSG00000000005 |   27 |   29 |   23 |   37 |   13 |   25 |   38 |   22 |\n",
       "| ENSG00000000419 | 1478 | 1288 |  884 | 2369 | 1340 | 1890 | 1766 | 1271 |\n",
       "| ENSG00000000457 |  508 |  405 |  357 |  934 |  571 |  646 |  591 |  354 |\n",
       "| ENSG00000000460 | 1394 | 1164 |  850 | 2172 | 1217 | 1183 | 1139 |  673 |\n",
       "| ENSG00000000938 |    1 |    1 |    0 |    2 |    0 |    0 |    0 |    0 |\n",
       "| ENSG00000000971 |   22 |   18 |    7 |   16 |    2 |    9 |   20 |    4 |\n",
       "| ENSG00000001036 | 3258 | 2599 | 1980 | 4600 | 2781 | 2938 | 3178 | 1664 |\n",
       "| ENSG00000001084 | 3001 | 2438 | 1967 | 4703 | 3021 | 2327 | 2415 | 1556 |\n",
       "| ENSG00000001167 | 3069 | 2415 | 1949 | 4609 | 2637 | 2634 | 2434 | 1371 |\n",
       "| ENSG00000001460 |  895 |  683 |  603 | 1340 |  827 | 1088 |  994 |  543 |\n",
       "| ENSG00000001461 | 1954 | 1675 | 1324 | 2876 | 1649 | 2195 | 2019 | 1133 |\n",
       "| ENSG00000001497 | 2984 | 2652 | 2009 | 4495 | 2789 | 3247 | 2960 | 1672 |\n",
       "| ENSG00000001561 | 1783 | 1514 | 1032 | 2601 | 1583 | 2006 | 1748 | 1244 |\n",
       "| ENSG00000001617 |  445 |  497 |  276 |  545 |  275 |  512 |  556 |  255 |\n",
       "| ENSG00000001626 |    0 |  320 |    4 |  426 |  108 |  324 |    0 |    0 |\n",
       "| ENSG00000001629 | 2023 | 1307 | 1340 | 2688 | 1678 | 1754 | 1661 | 1107 |\n",
       "| ENSG00000001630 | 3161 | 2636 | 2057 | 4398 | 2845 | 3189 | 3109 | 1976 |\n",
       "| ENSG00000001631 | 1901 | 1698 | 1362 | 2537 | 1852 | 2385 | 1831 | 1058 |\n",
       "| ENSG00000002016 | 1145 |  856 |  781 | 1607 |  950 | 1067 |  924 |  447 |\n",
       "| ENSG00000002079 |    2 |   16 |    1 |    2 |    0 |    2 |   14 |    0 |\n",
       "| ENSG00000002330 |  944 |  809 |  664 | 1003 |  591 |  661 |  842 |  390 |\n",
       "| ENSG00000002549 | 2060 | 1584 | 1395 | 2131 | 1150 | 1875 | 1677 |  909 |\n",
       "| ENSG00000002586 | 4412 | 3427 | 2954 | 6576 | 3854 | 4212 | 4368 | 2451 |\n",
       "| ENSG00000002587 |   20 |   23 |   22 |   30 |   25 |   26 |   30 |   53 |\n",
       "| ENSG00000002726 |    0 |    3 |    3 |    2 |    0 |    3 |    0 |    2 |\n",
       "| ENSG00000002745 |    8 |    9 |    3 |   10 |    3 |   12 |    8 |    7 |\n",
       "| ENSG00000002746 |   16 |    8 |    3 |   84 |    9 |   12 |    9 |   14 |\n",
       "| ENSG00000002822 |  599 |  565 |  424 | 1429 |  817 |  919 |  718 |  244 |\n",
       "| ENSG00000002834 | 3136 | 2768 | 2171 | 4321 | 2533 | 2958 | 2801 | 1583 |\n",
       "| ⋮ | ⋮ | ⋮ | ⋮ | ⋮ | ⋮ | ⋮ | ⋮ | ⋮ |\n",
       "| ENSG00000285467 |   11 |    2 |    9 |    5 |   15 |    6 |    6 |    0 |\n",
       "| ENSG00000285471 |    0 |    0 |    0 |    2 |    8 |    2 |    2 |    0 |\n",
       "| ENSG00000285472 |    0 |    0 |    0 |    0 |    0 |    0 |    0 |    0 |\n",
       "| ENSG00000285476 |    1 |    0 |    0 |    5 |    0 |    0 |    0 |    1 |\n",
       "| ENSG00000285491 |    0 |    0 |    0 |    0 |    0 |    0 |    0 |    0 |\n",
       "| ENSG00000285492 |    0 |    0 |    0 |    0 |    0 |    0 |    0 |    0 |\n",
       "| ENSG00000285508 |  178 |   90 |   82 |    0 |    0 |   93 |  111 |   96 |\n",
       "| ENSG00000285517 |   20 |   20 |   25 |   16 |   20 |   36 |   22 |   10 |\n",
       "| ENSG00000285537 |    0 |    0 |    0 |    0 |    0 |    0 |    0 |    0 |\n",
       "| ENSG00000285539 |    0 |    0 |    0 |    0 |    0 |    0 |    0 |    2 |\n",
       "| ENSG00000285551 |    0 |    0 |    1 |    0 |    0 |    0 |    0 |    0 |\n",
       "| ENSG00000285576 |    0 |    0 |    0 |    0 |    0 |    0 |    0 |    0 |\n",
       "| ENSG00000285583 |    0 |    0 |    0 |    0 |    7 |    4 |    0 |    0 |\n",
       "| ENSG00000285629 |  493 |    0 |  977 |    0 |  983 |  478 |  837 |  702 |\n",
       "| ENSG00000285635 |    0 |   13 |    5 |   35 |   20 |   23 |   12 |    0 |\n",
       "| ENSG00000285655 |    0 |    0 |    2 |    0 |    0 |    0 |    0 |    0 |\n",
       "| ENSG00000285693 |   34 |   28 |   26 |   33 |   28 |   45 |   47 |   14 |\n",
       "| ENSG00000285749 |    0 |    0 |    0 |    0 |    0 |    0 |    0 |    0 |\n",
       "| ENSG00000285756 | 2432 | 2177 | 1648 | 3369 | 1946 | 2825 | 2607 | 1529 |\n",
       "| ENSG00000285762 |    0 |    0 |    0 |    0 |    0 |    0 |    0 |    0 |\n",
       "| ENSG00000285772 |   19 |   17 |    5 |   55 |   42 |    6 |    3 |    2 |\n",
       "| ENSG00000285791 |   21 |    0 |   18 |   21 |    1 |    4 |   11 |    1 |\n",
       "| ENSG00000285794 |   79 |   67 |   45 |  106 |   62 |   92 |   85 |   38 |\n",
       "| ENSG00000285799 |    0 |    0 |    1 |    1 |    3 |    0 |    0 |    0 |\n",
       "| ENSG00000285868 |    0 |    0 |    0 |    0 |    0 |    0 |    0 |    0 |\n",
       "| ENSG00000285889 |    0 |   14 |    0 |    0 |    0 |    0 |    0 |    0 |\n",
       "| ENSG00000285950 |    6 |   11 |    8 |    5 |   16 |    5 |   10 |    0 |\n",
       "| ENSG00000285976 | 5138 | 4293 | 3272 | 6473 | 4155 | 6377 | 5523 | 3495 |\n",
       "| ENSG00000285978 |    0 |    0 |    0 |    4 |    5 |    6 |    6 |    0 |\n",
       "| ENSG00000285980 |    0 |    0 |    0 |    0 |    0 |    0 |    0 |    0 |\n",
       "\n"
      ],
      "text/plain": [
       "                Irrel_kd_1 Irrel_kd_2 Irrel_kd_3 Mov10_kd_2 Mov10_kd_3\n",
       "ENSG00000000003 4376       3645       2968       6178       3688      \n",
       "ENSG00000000005   27         29         23         37         13      \n",
       "ENSG00000000419 1478       1288        884       2369       1340      \n",
       "ENSG00000000457  508        405        357        934        571      \n",
       "ENSG00000000460 1394       1164        850       2172       1217      \n",
       "ENSG00000000938    1          1          0          2          0      \n",
       "ENSG00000000971   22         18          7         16          2      \n",
       "ENSG00000001036 3258       2599       1980       4600       2781      \n",
       "ENSG00000001084 3001       2438       1967       4703       3021      \n",
       "ENSG00000001167 3069       2415       1949       4609       2637      \n",
       "ENSG00000001460  895        683        603       1340        827      \n",
       "ENSG00000001461 1954       1675       1324       2876       1649      \n",
       "ENSG00000001497 2984       2652       2009       4495       2789      \n",
       "ENSG00000001561 1783       1514       1032       2601       1583      \n",
       "ENSG00000001617  445        497        276        545        275      \n",
       "ENSG00000001626    0        320          4        426        108      \n",
       "ENSG00000001629 2023       1307       1340       2688       1678      \n",
       "ENSG00000001630 3161       2636       2057       4398       2845      \n",
       "ENSG00000001631 1901       1698       1362       2537       1852      \n",
       "ENSG00000002016 1145        856        781       1607        950      \n",
       "ENSG00000002079    2         16          1          2          0      \n",
       "ENSG00000002330  944        809        664       1003        591      \n",
       "ENSG00000002549 2060       1584       1395       2131       1150      \n",
       "ENSG00000002586 4412       3427       2954       6576       3854      \n",
       "ENSG00000002587   20         23         22         30         25      \n",
       "ENSG00000002726    0          3          3          2          0      \n",
       "ENSG00000002745    8          9          3         10          3      \n",
       "ENSG00000002746   16          8          3         84          9      \n",
       "ENSG00000002822  599        565        424       1429        817      \n",
       "ENSG00000002834 3136       2768       2171       4321       2533      \n",
       "⋮               ⋮          ⋮          ⋮          ⋮          ⋮         \n",
       "ENSG00000285467   11          2          9          5         15      \n",
       "ENSG00000285471    0          0          0          2          8      \n",
       "ENSG00000285472    0          0          0          0          0      \n",
       "ENSG00000285476    1          0          0          5          0      \n",
       "ENSG00000285491    0          0          0          0          0      \n",
       "ENSG00000285492    0          0          0          0          0      \n",
       "ENSG00000285508  178         90         82          0          0      \n",
       "ENSG00000285517   20         20         25         16         20      \n",
       "ENSG00000285537    0          0          0          0          0      \n",
       "ENSG00000285539    0          0          0          0          0      \n",
       "ENSG00000285551    0          0          1          0          0      \n",
       "ENSG00000285576    0          0          0          0          0      \n",
       "ENSG00000285583    0          0          0          0          7      \n",
       "ENSG00000285629  493          0        977          0        983      \n",
       "ENSG00000285635    0         13          5         35         20      \n",
       "ENSG00000285655    0          0          2          0          0      \n",
       "ENSG00000285693   34         28         26         33         28      \n",
       "ENSG00000285749    0          0          0          0          0      \n",
       "ENSG00000285756 2432       2177       1648       3369       1946      \n",
       "ENSG00000285762    0          0          0          0          0      \n",
       "ENSG00000285772   19         17          5         55         42      \n",
       "ENSG00000285791   21          0         18         21          1      \n",
       "ENSG00000285794   79         67         45        106         62      \n",
       "ENSG00000285799    0          0          1          1          3      \n",
       "ENSG00000285868    0          0          0          0          0      \n",
       "ENSG00000285889    0         14          0          0          0      \n",
       "ENSG00000285950    6         11          8          5         16      \n",
       "ENSG00000285976 5138       4293       3272       6473       4155      \n",
       "ENSG00000285978    0          0          0          4          5      \n",
       "ENSG00000285980    0          0          0          0          0      \n",
       "                Mov10_oe_1 Mov10_oe_2 Mov10_oe_3\n",
       "ENSG00000000003 3343       3114       2079      \n",
       "ENSG00000000005   25         38         22      \n",
       "ENSG00000000419 1890       1766       1271      \n",
       "ENSG00000000457  646        591        354      \n",
       "ENSG00000000460 1183       1139        673      \n",
       "ENSG00000000938    0          0          0      \n",
       "ENSG00000000971    9         20          4      \n",
       "ENSG00000001036 2938       3178       1664      \n",
       "ENSG00000001084 2327       2415       1556      \n",
       "ENSG00000001167 2634       2434       1371      \n",
       "ENSG00000001460 1088        994        543      \n",
       "ENSG00000001461 2195       2019       1133      \n",
       "ENSG00000001497 3247       2960       1672      \n",
       "ENSG00000001561 2006       1748       1244      \n",
       "ENSG00000001617  512        556        255      \n",
       "ENSG00000001626  324          0          0      \n",
       "ENSG00000001629 1754       1661       1107      \n",
       "ENSG00000001630 3189       3109       1976      \n",
       "ENSG00000001631 2385       1831       1058      \n",
       "ENSG00000002016 1067        924        447      \n",
       "ENSG00000002079    2         14          0      \n",
       "ENSG00000002330  661        842        390      \n",
       "ENSG00000002549 1875       1677        909      \n",
       "ENSG00000002586 4212       4368       2451      \n",
       "ENSG00000002587   26         30         53      \n",
       "ENSG00000002726    3          0          2      \n",
       "ENSG00000002745   12          8          7      \n",
       "ENSG00000002746   12          9         14      \n",
       "ENSG00000002822  919        718        244      \n",
       "ENSG00000002834 2958       2801       1583      \n",
       "⋮               ⋮          ⋮          ⋮         \n",
       "ENSG00000285467    6          6          0      \n",
       "ENSG00000285471    2          2          0      \n",
       "ENSG00000285472    0          0          0      \n",
       "ENSG00000285476    0          0          1      \n",
       "ENSG00000285491    0          0          0      \n",
       "ENSG00000285492    0          0          0      \n",
       "ENSG00000285508   93        111         96      \n",
       "ENSG00000285517   36         22         10      \n",
       "ENSG00000285537    0          0          0      \n",
       "ENSG00000285539    0          0          2      \n",
       "ENSG00000285551    0          0          0      \n",
       "ENSG00000285576    0          0          0      \n",
       "ENSG00000285583    4          0          0      \n",
       "ENSG00000285629  478        837        702      \n",
       "ENSG00000285635   23         12          0      \n",
       "ENSG00000285655    0          0          0      \n",
       "ENSG00000285693   45         47         14      \n",
       "ENSG00000285749    0          0          0      \n",
       "ENSG00000285756 2825       2607       1529      \n",
       "ENSG00000285762    0          0          0      \n",
       "ENSG00000285772    6          3          2      \n",
       "ENSG00000285791    4         11          1      \n",
       "ENSG00000285794   92         85         38      \n",
       "ENSG00000285799    0          0          0      \n",
       "ENSG00000285868    0          0          0      \n",
       "ENSG00000285889    0          0          0      \n",
       "ENSG00000285950    5         10          0      \n",
       "ENSG00000285976 6377       5523       3495      \n",
       "ENSG00000285978    6          6          0      \n",
       "ENSG00000285980    0          0          0      "
      ]
     },
     "metadata": {},
     "output_type": "display_data"
    }
   ],
   "source": [
    "counts(dds)"
   ]
  },
  {
   "cell_type": "markdown",
   "id": "fedbd911",
   "metadata": {
    "deletable": false,
    "editable": false,
    "run_control": {
     "frozen": true
    }
   },
   "source": [
    "#### Generate the Mov10 normalized counts"
   ]
  },
  {
   "cell_type": "code",
   "execution_count": 41,
   "id": "732de3dd",
   "metadata": {},
   "outputs": [],
   "source": [
    "# generate the medians of ratios (the normalization factor)\n",
    "dds = estimateSizeFactors(dds)"
   ]
  },
  {
   "cell_type": "code",
   "execution_count": 42,
   "id": "4005f98d",
   "metadata": {},
   "outputs": [
    {
     "data": {
      "text/html": [
       "<style>\n",
       ".dl-inline {width: auto; margin:0; padding: 0}\n",
       ".dl-inline>dt, .dl-inline>dd {float: none; width: auto; display: inline-block}\n",
       ".dl-inline>dt::after {content: \":\\0020\"; padding-right: .5ex}\n",
       ".dl-inline>dt:not(:first-of-type) {padding-left: .5ex}\n",
       "</style><dl class=dl-inline><dt>Irrel_kd_1</dt><dd>1.11503712247754</dd><dt>Irrel_kd_2</dt><dd>0.96063658907305</dd><dt>Irrel_kd_3</dt><dd>0.749355176272499</dd><dt>Mov10_kd_2</dt><dd>1.56341275486069</dd><dt>Mov10_kd_3</dt><dd>0.935908160089292</dd><dt>Mov10_oe_1</dt><dd>1.22577488464174</dd><dt>Mov10_oe_2</dt><dd>1.14068632682171</dd><dt>Mov10_oe_3</dt><dd>0.654168924229509</dd></dl>\n"
      ],
      "text/latex": [
       "\\begin{description*}\n",
       "\\item[Irrel\\textbackslash{}\\_kd\\textbackslash{}\\_1] 1.11503712247754\n",
       "\\item[Irrel\\textbackslash{}\\_kd\\textbackslash{}\\_2] 0.96063658907305\n",
       "\\item[Irrel\\textbackslash{}\\_kd\\textbackslash{}\\_3] 0.749355176272499\n",
       "\\item[Mov10\\textbackslash{}\\_kd\\textbackslash{}\\_2] 1.56341275486069\n",
       "\\item[Mov10\\textbackslash{}\\_kd\\textbackslash{}\\_3] 0.935908160089292\n",
       "\\item[Mov10\\textbackslash{}\\_oe\\textbackslash{}\\_1] 1.22577488464174\n",
       "\\item[Mov10\\textbackslash{}\\_oe\\textbackslash{}\\_2] 1.14068632682171\n",
       "\\item[Mov10\\textbackslash{}\\_oe\\textbackslash{}\\_3] 0.654168924229509\n",
       "\\end{description*}\n"
      ],
      "text/markdown": [
       "Irrel_kd_1\n",
       ":   1.11503712247754Irrel_kd_2\n",
       ":   0.96063658907305Irrel_kd_3\n",
       ":   0.749355176272499Mov10_kd_2\n",
       ":   1.56341275486069Mov10_kd_3\n",
       ":   0.935908160089292Mov10_oe_1\n",
       ":   1.22577488464174Mov10_oe_2\n",
       ":   1.14068632682171Mov10_oe_3\n",
       ":   0.654168924229509\n",
       "\n"
      ],
      "text/plain": [
       "Irrel_kd_1 Irrel_kd_2 Irrel_kd_3 Mov10_kd_2 Mov10_kd_3 Mov10_oe_1 Mov10_oe_2 \n",
       " 1.1150371  0.9606366  0.7493552  1.5634128  0.9359082  1.2257749  1.1406863 \n",
       "Mov10_oe_3 \n",
       " 0.6541689 "
      ]
     },
     "metadata": {},
     "output_type": "display_data"
    }
   ],
   "source": [
    "sizeFactors(dds)"
   ]
  },
  {
   "cell_type": "code",
   "execution_count": 43,
   "id": "dc24168e",
   "metadata": {},
   "outputs": [],
   "source": [
    "normalized_counts = counts(dds, normalized=TRUE)\n",
    "write.table(\n",
    "    normalized_counts,\n",
    "    file=str_glue(\"{HOME}/scratch/dge/normalized_counts.txt\"),\n",
    "    sep=\"\\t\",\n",
    "    quote=FALSE,\n",
    "    col.names=NA\n",
    ")"
   ]
  },
  {
   "cell_type": "markdown",
   "id": "ec57efd9",
   "metadata": {
    "deletable": false,
    "editable": false,
    "run_control": {
     "frozen": true
    }
   },
   "source": [
    "## 3. [QC methods for DESeq2 Count Data](https://hbctraining.github.io/DGE_workshop_salmon/lessons/03_DGE_QC_analysis.html)"
   ]
  },
  {
   "cell_type": "markdown",
   "id": "fcc91765",
   "metadata": {
    "deletable": false,
    "editable": false,
    "run_control": {
     "frozen": true
    }
   },
   "source": [
    "### 3.1 Sample-level QC\n",
    "\n",
    "Two QC methods: **PCA** and **hierarchical clustering**.\n",
    "\n",
    "Hierarchical clustering is useful in DGE because biological replicates should have similar gene expression and thus cluster together."
   ]
  },
  {
   "cell_type": "markdown",
   "id": "9e280eec",
   "metadata": {
    "deletable": false,
    "editable": false,
    "run_control": {
     "frozen": true
    }
   },
   "source": [
    "### 3.2 Gene-level QC"
   ]
  },
  {
   "cell_type": "markdown",
   "id": "ecb2997d",
   "metadata": {
    "deletable": false,
    "editable": false,
    "run_control": {
     "frozen": true
    }
   },
   "source": [
    "Because DGE conducts a multiple hypothesis test, we can increase the power of the test by removing genes (therefore reducing the number of tests) that are unlikely to be detected as differentially expressed.\n",
    "\n",
    "Genes are unlikely to be detected as differentially expressed if:\n",
    "1. They have zero counts in all samples.\n",
    "2. They have an extreme count outlier.\n",
    "3. They have a low mean normalized count (averaged over samples)."
   ]
  },
  {
   "cell_type": "markdown",
   "id": "2f9d6989",
   "metadata": {
    "deletable": false,
    "editable": false,
    "run_control": {
     "frozen": true
    }
   },
   "source": [
    "### 3.3 Mov10 quality assessment and exploratory analysis using DESeq2"
   ]
  },
  {
   "cell_type": "markdown",
   "id": "5aebb655",
   "metadata": {},
   "source": [
    "#### Transform normalized counts using the `rlog` transformation\n",
    "\n",
    "`rlog` is only used to improve the distances in visualization methods. They are not used later on in the DGE analysis."
   ]
  },
  {
   "cell_type": "code",
   "execution_count": 44,
   "id": "8154d114",
   "metadata": {},
   "outputs": [],
   "source": [
    "# rlog distance\n",
    "# blind is used when performing quality assessments\n",
    "rld = rlog(dds, blind=TRUE)"
   ]
  },
  {
   "cell_type": "markdown",
   "id": "d7824de1",
   "metadata": {
    "deletable": false,
    "editable": false,
    "run_control": {
     "frozen": true
    }
   },
   "source": [
    "#### Principal components analysis (PCA)"
   ]
  },
  {
   "cell_type": "code",
   "execution_count": 45,
   "id": "3665932c",
   "metadata": {},
   "outputs": [
    {
     "data": {
      "image/png": "[encoded data removed]",
      "text/plain": [
       "plot without title"
      ]
     },
     "metadata": {
      "image/png": {
       "height": 420,
       "width": 420
      }
     },
     "output_type": "display_data"
    }
   ],
   "source": [
    "# intgroup = interest group\n",
    "# plotPCA only works for PC1 and PC2\n",
    "plotPCA(rld, intgroup=\"sampletype\")"
   ]
  },
  {
   "cell_type": "code",
   "execution_count": 47,
   "id": "b6bfd932",
   "metadata": {},
   "outputs": [
    {
     "data": {
      "image/png": "[encoded data removed]",
      "text/plain": [
       "plot without title"
      ]
     },
     "metadata": {
      "image/png": {
       "height": 420,
       "width": 420
      }
     },
     "output_type": "display_data"
    }
   ],
   "source": [
    "# PCA for PC3, PC4\n",
    "\n",
    "# Input is a matrix of log transformed values\n",
    "rld_mat = assay(rld)\n",
    "pca = prcomp(t(rld_mat))\n",
    "\n",
    "# Create data frame with metadata and PC3 and PC4 values for input to ggplot\n",
    "df = cbind(meta, pca$x)\n",
    "ggplot(df) + geom_point(aes(x=PC3, y=PC4, color = sampletype))"
   ]
  },
  {
   "cell_type": "markdown",
   "id": "3fef5f8d",
   "metadata": {
    "deletable": false,
    "editable": false,
    "run_control": {
     "frozen": true
    }
   },
   "source": [
    "#### Hierarchical clustering"
   ]
  },
  {
   "cell_type": "markdown",
   "id": "04223689",
   "metadata": {},
   "source": [
    "TODO: explain what an `assay` object is."
   ]
  },
  {
   "cell_type": "code",
   "execution_count": 49,
   "id": "0d3c85e7",
   "metadata": {},
   "outputs": [
    {
     "data": {
      "text/html": [
       "<table class=\"dataframe\">\n",
       "<caption>A matrix: 6 × 8 of type dbl</caption>\n",
       "<thead>\n",
       "\t<tr><th></th><th scope=col>Irrel_kd_1</th><th scope=col>Irrel_kd_2</th><th scope=col>Irrel_kd_3</th><th scope=col>Mov10_kd_2</th><th scope=col>Mov10_kd_3</th><th scope=col>Mov10_oe_1</th><th scope=col>Mov10_oe_2</th><th scope=col>Mov10_oe_3</th></tr>\n",
       "</thead>\n",
       "<tbody>\n",
       "\t<tr><th scope=row>Irrel_kd_1</th><td>1.0000000</td><td>0.9997740</td><td>0.9997525</td><td>0.9996005</td><td>0.9996334</td><td>0.9995372</td><td>0.9995326</td><td>0.9994112</td></tr>\n",
       "\t<tr><th scope=row>Irrel_kd_2</th><td>0.9997740</td><td>1.0000000</td><td>0.9997564</td><td>0.9995701</td><td>0.9996137</td><td>0.9995441</td><td>0.9995407</td><td>0.9994279</td></tr>\n",
       "\t<tr><th scope=row>Irrel_kd_3</th><td>0.9997525</td><td>0.9997564</td><td>1.0000000</td><td>0.9995460</td><td>0.9996014</td><td>0.9995541</td><td>0.9995620</td><td>0.9994254</td></tr>\n",
       "\t<tr><th scope=row>Mov10_kd_2</th><td>0.9996005</td><td>0.9995701</td><td>0.9995460</td><td>1.0000000</td><td>0.9997927</td><td>0.9993895</td><td>0.9993608</td><td>0.9992364</td></tr>\n",
       "\t<tr><th scope=row>Mov10_kd_3</th><td>0.9996334</td><td>0.9996137</td><td>0.9996014</td><td>0.9997927</td><td>1.0000000</td><td>0.9994757</td><td>0.9994457</td><td>0.9993479</td></tr>\n",
       "\t<tr><th scope=row>Mov10_oe_1</th><td>0.9995372</td><td>0.9995441</td><td>0.9995541</td><td>0.9993895</td><td>0.9994757</td><td>1.0000000</td><td>0.9997794</td><td>0.9996902</td></tr>\n",
       "</tbody>\n",
       "</table>\n"
      ],
      "text/latex": [
       "A matrix: 6 × 8 of type dbl\n",
       "\\begin{tabular}{r|llllllll}\n",
       "  & Irrel\\_kd\\_1 & Irrel\\_kd\\_2 & Irrel\\_kd\\_3 & Mov10\\_kd\\_2 & Mov10\\_kd\\_3 & Mov10\\_oe\\_1 & Mov10\\_oe\\_2 & Mov10\\_oe\\_3\\\\\n",
       "\\hline\n",
       "\tIrrel\\_kd\\_1 & 1.0000000 & 0.9997740 & 0.9997525 & 0.9996005 & 0.9996334 & 0.9995372 & 0.9995326 & 0.9994112\\\\\n",
       "\tIrrel\\_kd\\_2 & 0.9997740 & 1.0000000 & 0.9997564 & 0.9995701 & 0.9996137 & 0.9995441 & 0.9995407 & 0.9994279\\\\\n",
       "\tIrrel\\_kd\\_3 & 0.9997525 & 0.9997564 & 1.0000000 & 0.9995460 & 0.9996014 & 0.9995541 & 0.9995620 & 0.9994254\\\\\n",
       "\tMov10\\_kd\\_2 & 0.9996005 & 0.9995701 & 0.9995460 & 1.0000000 & 0.9997927 & 0.9993895 & 0.9993608 & 0.9992364\\\\\n",
       "\tMov10\\_kd\\_3 & 0.9996334 & 0.9996137 & 0.9996014 & 0.9997927 & 1.0000000 & 0.9994757 & 0.9994457 & 0.9993479\\\\\n",
       "\tMov10\\_oe\\_1 & 0.9995372 & 0.9995441 & 0.9995541 & 0.9993895 & 0.9994757 & 1.0000000 & 0.9997794 & 0.9996902\\\\\n",
       "\\end{tabular}\n"
      ],
      "text/markdown": [
       "\n",
       "A matrix: 6 × 8 of type dbl\n",
       "\n",
       "| <!--/--> | Irrel_kd_1 | Irrel_kd_2 | Irrel_kd_3 | Mov10_kd_2 | Mov10_kd_3 | Mov10_oe_1 | Mov10_oe_2 | Mov10_oe_3 |\n",
       "|---|---|---|---|---|---|---|---|---|\n",
       "| Irrel_kd_1 | 1.0000000 | 0.9997740 | 0.9997525 | 0.9996005 | 0.9996334 | 0.9995372 | 0.9995326 | 0.9994112 |\n",
       "| Irrel_kd_2 | 0.9997740 | 1.0000000 | 0.9997564 | 0.9995701 | 0.9996137 | 0.9995441 | 0.9995407 | 0.9994279 |\n",
       "| Irrel_kd_3 | 0.9997525 | 0.9997564 | 1.0000000 | 0.9995460 | 0.9996014 | 0.9995541 | 0.9995620 | 0.9994254 |\n",
       "| Mov10_kd_2 | 0.9996005 | 0.9995701 | 0.9995460 | 1.0000000 | 0.9997927 | 0.9993895 | 0.9993608 | 0.9992364 |\n",
       "| Mov10_kd_3 | 0.9996334 | 0.9996137 | 0.9996014 | 0.9997927 | 1.0000000 | 0.9994757 | 0.9994457 | 0.9993479 |\n",
       "| Mov10_oe_1 | 0.9995372 | 0.9995441 | 0.9995541 | 0.9993895 | 0.9994757 | 1.0000000 | 0.9997794 | 0.9996902 |\n",
       "\n"
      ],
      "text/plain": [
       "           Irrel_kd_1 Irrel_kd_2 Irrel_kd_3 Mov10_kd_2 Mov10_kd_3 Mov10_oe_1\n",
       "Irrel_kd_1 1.0000000  0.9997740  0.9997525  0.9996005  0.9996334  0.9995372 \n",
       "Irrel_kd_2 0.9997740  1.0000000  0.9997564  0.9995701  0.9996137  0.9995441 \n",
       "Irrel_kd_3 0.9997525  0.9997564  1.0000000  0.9995460  0.9996014  0.9995541 \n",
       "Mov10_kd_2 0.9996005  0.9995701  0.9995460  1.0000000  0.9997927  0.9993895 \n",
       "Mov10_kd_3 0.9996334  0.9996137  0.9996014  0.9997927  1.0000000  0.9994757 \n",
       "Mov10_oe_1 0.9995372  0.9995441  0.9995541  0.9993895  0.9994757  1.0000000 \n",
       "           Mov10_oe_2 Mov10_oe_3\n",
       "Irrel_kd_1 0.9995326  0.9994112 \n",
       "Irrel_kd_2 0.9995407  0.9994279 \n",
       "Irrel_kd_3 0.9995620  0.9994254 \n",
       "Mov10_kd_2 0.9993608  0.9992364 \n",
       "Mov10_kd_3 0.9994457  0.9993479 \n",
       "Mov10_oe_1 0.9997794  0.9996902 "
      ]
     },
     "metadata": {},
     "output_type": "display_data"
    }
   ],
   "source": [
    "rld_matrix = assay(rld)\n",
    "rld_cor = cor(rld_matrix)\n",
    "head(rld_cor)"
   ]
  },
  {
   "cell_type": "code",
   "execution_count": 60,
   "id": "bdcbaf3d",
   "metadata": {},
   "outputs": [
    {
     "data": {
      "image/png": "[encoded data removed]",
      "text/plain": [
       "plot without title"
      ]
     },
     "metadata": {
      "image/png": {
       "height": 420,
       "width": 420
      }
     },
     "output_type": "display_data"
    }
   ],
   "source": [
    "pheatmap(rld_cor, annotation=meta, cellheight=20, cellwidth=20, fontsize_row=10, height=20)"
   ]
  },
  {
   "cell_type": "markdown",
   "id": "5e5b0112",
   "metadata": {
    "deletable": false,
    "editable": false,
    "run_control": {
     "frozen": true
    }
   },
   "source": [
    "## 4. [Overview of DESeq2 Methods](https://hbctraining.github.io/DGE_workshop_salmon/lessons/04_DGE_DESeq2_analysis.html)"
   ]
  },
  {
   "cell_type": "markdown",
   "id": "d32c7baa",
   "metadata": {
    "deletable": false,
    "editable": false,
    "run_control": {
     "frozen": true
    }
   },
   "source": [
    "### 4.1 Differential expression analysis with DESeq2\n",
    "\n",
    "The final step in the differential expression analysis workflow is **fitting the raw counts to the NB model** and **performing the statistical test** for differentially expressed genes.\n",
    "\n",
    "DESeq2 performs multiple steps:\n",
    "1. Model the raw counts and use normalization factors to account for differences in sequencing depth.\n",
    "2. Estimate gene-wise dispersions and shrink these estimates to generate more accurate estimates of dispersion to model the cuonts.\n",
    "3. Fit the negative binomial model.\n",
    "4. Perform hypothesis testing using the Wald test or the Likelihood Ratio test."
   ]
  },
  {
   "cell_type": "markdown",
   "id": "4626ea6e",
   "metadata": {
    "deletable": false,
    "editable": false,
    "run_control": {
     "frozen": true
    }
   },
   "source": [
    "### 4.2 Running DESeq2"
   ]
  },
  {
   "cell_type": "markdown",
   "id": "11a8633d",
   "metadata": {
    "deletable": false,
    "editable": false,
    "run_control": {
     "frozen": true
    }
   },
   "source": [
    "#### Design formula\n",
    "\n",
    "The design formula tells DESeq2 what the known sources of variation are, as well as the factor of interest, so that it can control for the known sources of variation."
   ]
  },
  {
   "cell_type": "markdown",
   "id": "e2e6f9aa",
   "metadata": {
    "deletable": false,
    "editable": false,
    "run_control": {
     "frozen": true
    }
   },
   "source": [
    "### 4.3 Mov10 DE Analysis"
   ]
  },
  {
   "cell_type": "code",
   "execution_count": 61,
   "id": "c9859ccd",
   "metadata": {},
   "outputs": [
    {
     "name": "stderr",
     "output_type": "stream",
     "text": [
      "using pre-existing size factors\n",
      "\n",
      "estimating dispersions\n",
      "\n",
      "gene-wise dispersion estimates\n",
      "\n",
      "mean-dispersion relationship\n",
      "\n",
      "final dispersion estimates\n",
      "\n",
      "fitting model and testing\n",
      "\n"
     ]
    }
   ],
   "source": [
    "dds = DESeq(dds)"
   ]
  },
  {
   "cell_type": "markdown",
   "id": "8ebc8cea",
   "metadata": {
    "deletable": false,
    "editable": false,
    "run_control": {
     "frozen": true
    }
   },
   "source": [
    "#### Examining the size factors"
   ]
  },
  {
   "cell_type": "code",
   "execution_count": 64,
   "id": "2cf1f290",
   "metadata": {},
   "outputs": [
    {
     "name": "stdout",
     "output_type": "stream",
     "text": [
      "Irrel_kd_1 Irrel_kd_2 Irrel_kd_3 Mov10_kd_2 Mov10_kd_3 Mov10_oe_1 Mov10_oe_2 \n",
      "  31160785   26504972   20498243   45300696   26745860   32062221   30025690 \n",
      "Mov10_oe_3 \n",
      "  17285401 \n",
      "Irrel_kd_1 Irrel_kd_2 Irrel_kd_3 Mov10_kd_2 Mov10_kd_3 Mov10_oe_1 Mov10_oe_2 \n",
      "  27945962   27591050   27354509   28975519   28577441   26156696   26322477 \n",
      "Mov10_oe_3 \n",
      "  26423452 \n"
     ]
    }
   ],
   "source": [
    "print(colSums(counts(dds)))\n",
    "print(colSums(counts(dds, normalized=TRUE)))"
   ]
  },
  {
   "cell_type": "markdown",
   "id": "ecb50be8",
   "metadata": {
    "deletable": false,
    "editable": false,
    "run_control": {
     "frozen": true
    }
   },
   "source": [
    "#### Estimate gene-wise dispersion"
   ]
  },
  {
   "cell_type": "markdown",
   "id": "330564e5",
   "metadata": {},
   "source": [
    "Dispersion is calculated as $\\mathrm{Var} = \\mu + \\alpha \\mu^2$, where $\\alpha$ is dispersion. Equivalently, $\\alpha = \\frac{\\mathrm{Var} - \\mu}{\\mu^2}$. If variance increases, so does dispersion. But when $\\mu$ increases (the mean), dispersion decreases."
   ]
  },
  {
   "cell_type": "markdown",
   "id": "57d7b54e",
   "metadata": {},
   "source": [
    "With only a few replicates per group, the _estimates of variation for each gene are often unreliable._ DESeq2 attempts to address this problem by sharing information across genes.\n",
    "\n",
    "DESeq2 assumes that **genes with similar expression levels have similar dispersion**."
   ]
  },
  {
   "cell_type": "markdown",
   "id": "0287a1bc",
   "metadata": {},
   "source": [
    "#### Fit curve to gene-wise dispersion estimates"
   ]
  },
  {
   "cell_type": "markdown",
   "id": "02d0d769",
   "metadata": {},
   "source": [
    "#### Shrink gene-wise dispersion estimates toward the values predicted by the curve\n",
    "\n",
    "The shrinkage method reduces false positives in DGE analysis. Under-dispersed genes are boosted towards the curve, and slightly over-dispersed genes are shrunk towards the curve. Extremely over-dispersed genes are left alone, as these may not follow the modeling assumptions.\n",
    "\n",
    "Examining the dispersion plots here is a good way to ensure that your **data is a good fit for the DESeq2 model**."
   ]
  },
  {
   "cell_type": "code",
   "execution_count": 65,
   "id": "3f9a36fc",
   "metadata": {},
   "outputs": [
    {
     "data": {
      "image/png": "[encoded data removed]",
      "text/plain": [
       "plot without title"
      ]
     },
     "metadata": {
      "image/png": {
       "height": 420,
       "width": 420
      }
     },
     "output_type": "display_data"
    }
   ],
   "source": [
    "plotDispEsts(dds)"
   ]
  },
  {
   "cell_type": "markdown",
   "id": "c15212ba",
   "metadata": {
    "deletable": false,
    "editable": false,
    "run_control": {
     "frozen": true
    }
   },
   "source": [
    "## 5. [DGE Analysis: Pairwise Comparisons (Wald Test)](https://hbctraining.github.io/DGE_workshop_salmon/lessons/05_DGE_DESeq2_analysis2.html)"
   ]
  },
  {
   "cell_type": "markdown",
   "id": "2179cdc2",
   "metadata": {},
   "source": [
    "### 5.1 Generalized linear model\n",
    "\n",
    "$$\n",
    "K_{ij} \\sim \\mathrm{NB}(s_{ij}q_{ij}, \\alpha_i)\n",
    "$$\n",
    "\n",
    "$$\n",
    "\\log_2 q_{ij} = \\sum_r x_{jr}\\beta_{ir}\n",
    "$$"
   ]
  },
  {
   "cell_type": "markdown",
   "id": "2378e7d9",
   "metadata": {},
   "source": [
    "### 5.2 Hypothesis testing\n",
    "\n",
    "The coefficients of the model are the estimates of the **$\\log_2$ fold changes (LFC)** for each sample group.\n",
    "\n",
    "The null hypothesis is that **there is no differential expression across the two sample groups, i.e. the LFC is 0**."
   ]
  },
  {
   "cell_type": "markdown",
   "id": "e175e180",
   "metadata": {},
   "source": [
    "### 5.3 Multiple test correction"
   ]
  },
  {
   "cell_type": "code",
   "execution_count": null,
   "id": "d87a4448",
   "metadata": {},
   "outputs": [],
   "source": []
  },
  {
   "cell_type": "markdown",
   "id": "42a11331",
   "metadata": {},
   "source": [
    "### 5.4 Mov10 Differential expression analysis: control vs. overexpression"
   ]
  },
  {
   "cell_type": "code",
   "execution_count": null,
   "id": "be397360",
   "metadata": {},
   "outputs": [],
   "source": []
  },
  {
   "cell_type": "code",
   "execution_count": null,
   "id": "2e792ba7",
   "metadata": {},
   "outputs": [],
   "source": []
  },
  {
   "cell_type": "code",
   "execution_count": null,
   "id": "79b5a1e4",
   "metadata": {},
   "outputs": [],
   "source": []
  },
  {
   "cell_type": "markdown",
   "id": "524bdcf1",
   "metadata": {
    "deletable": false,
    "editable": false,
    "run_control": {
     "frozen": true
    }
   },
   "source": [
    "## 6. [DGE Analysis: Workflow Summarization](https://hbctraining.github.io/DGE_workshop_salmon/lessons/07_DGE_summarizing_workflow.html)"
   ]
  },
  {
   "cell_type": "code",
   "execution_count": null,
   "id": "1d101a7e",
   "metadata": {},
   "outputs": [],
   "source": []
  },
  {
   "cell_type": "code",
   "execution_count": null,
   "id": "09d0ad76",
   "metadata": {},
   "outputs": [],
   "source": []
  },
  {
   "cell_type": "code",
   "execution_count": null,
   "id": "ff27c06a",
   "metadata": {},
   "outputs": [],
   "source": []
  },
  {
   "cell_type": "markdown",
   "id": "e81f3ba4",
   "metadata": {
    "deletable": false,
    "editable": false,
    "run_control": {
     "frozen": true
    }
   },
   "source": [
    "## 7. [DGE Analysis: Visualization](https://hbctraining.github.io/DGE_workshop_salmon/lessons/06_DGE_visualizing_results.html)"
   ]
  },
  {
   "cell_type": "code",
   "execution_count": null,
   "id": "d95bffac",
   "metadata": {},
   "outputs": [],
   "source": []
  },
  {
   "cell_type": "markdown",
   "id": "902a56ca",
   "metadata": {
    "deletable": false,
    "editable": false,
    "run_control": {
     "frozen": true
    }
   },
   "source": [
    "## 8. [DGE Analysis: Likelihood Ratio Test](https://hbctraining.github.io/DGE_workshop_salmon/lessons/08_DGE_LRT.html)"
   ]
  },
  {
   "cell_type": "code",
   "execution_count": null,
   "id": "0151266b",
   "metadata": {},
   "outputs": [],
   "source": []
  },
  {
   "cell_type": "markdown",
   "id": "0aafa9a2",
   "metadata": {
    "deletable": false,
    "editable": false,
    "run_control": {
     "frozen": true
    }
   },
   "source": [
    "## 9. [Gene Annotations](https://hbctraining.github.io/DGE_workshop_salmon/lessons/genomic_annotation.html)"
   ]
  },
  {
   "cell_type": "code",
   "execution_count": null,
   "id": "c2a35619",
   "metadata": {},
   "outputs": [],
   "source": []
  },
  {
   "cell_type": "markdown",
   "id": "bd58e310",
   "metadata": {
    "deletable": false,
    "editable": false,
    "run_control": {
     "frozen": true
    }
   },
   "source": [
    "## 10. [Functional Analysis](https://hbctraining.github.io/DGE_workshop_salmon/lessons/functional_analysis_2019.html)"
   ]
  },
  {
   "cell_type": "code",
   "execution_count": null,
   "id": "f27233dc",
   "metadata": {},
   "outputs": [],
   "source": []
  }
 ],
 "metadata": {
  "kernelspec": {
   "display_name": "R",
   "language": "R",
   "name": "ir"
  },
  "language_info": {
   "codemirror_mode": "r",
   "file_extension": ".r",
   "mimetype": "text/x-r-source",
   "name": "R",
   "pygments_lexer": "r",
   "version": "4.1.2"
  }
 },
 "nbformat": 4,
 "nbformat_minor": 5
}
