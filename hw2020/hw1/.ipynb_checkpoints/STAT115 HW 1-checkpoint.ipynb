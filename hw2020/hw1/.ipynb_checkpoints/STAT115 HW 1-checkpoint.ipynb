{
 "cells": [
  {
   "cell_type": "markdown",
   "id": "133ab23f",
   "metadata": {},
   "source": [
    "# STAT115 Homework 1\n",
    "\n",
    "- Author: Matthew Feng\n",
    "- Date: January 9,  2021"
   ]
  },
  {
   "cell_type": "markdown",
   "id": "9ce1b7dd",
   "metadata": {},
   "source": [
    "# Part 1: Introduction to R"
   ]
  },
  {
   "cell_type": "markdown",
   "id": "6f62e1eb",
   "metadata": {},
   "source": [
    "## Problem 1: Installation"
   ]
  },
  {
   "cell_type": "markdown",
   "id": "6da416d8",
   "metadata": {},
   "source": [
    "### Installing packages"
   ]
  },
  {
   "cell_type": "code",
   "execution_count": null,
   "id": "e70b6a63",
   "metadata": {
    "scrolled": false
   },
   "outputs": [
    {
     "name": "stderr",
     "output_type": "stream",
     "text": [
      "Updating HTML index of packages in '.Library'\n",
      "\n",
      "Making 'packages.html' ...\n",
      " done\n",
      "\n",
      "'getOption(\"repos\")' replaces Bioconductor standard repositories, see\n",
      "'?repositories' for details\n",
      "\n",
      "replacement repositories:\n",
      "    CRAN: https://cran.r-project.org\n",
      "\n",
      "\n",
      "Bioconductor version 3.14 (BiocManager 1.30.16), R 4.1.2 (2021-11-01)\n",
      "\n",
      "Installing package(s) 'BiocVersion'\n",
      "\n",
      "Updating HTML index of packages in '.Library'\n",
      "\n",
      "Making 'packages.html' ...\n",
      " done\n",
      "\n",
      "'getOption(\"repos\")' replaces Bioconductor standard repositories, see\n",
      "'?repositories' for details\n",
      "\n",
      "replacement repositories:\n",
      "    CRAN: https://cran.r-project.org\n",
      "\n",
      "\n",
      "Bioconductor version 3.14 (BiocManager 1.30.16), R 4.1.2 (2021-11-01)\n",
      "\n",
      "Installing package(s) 'sva'\n",
      "\n",
      "also installing the dependencies ‘bitops’, ‘zlibbioc’, ‘RCurl’, ‘GenomeInfoDbData’, ‘sys’, ‘bit’, ‘cachem’, ‘XVector’, ‘GenomeInfoDb’, ‘askpass’, ‘bit64’, ‘blob’, ‘memoise’, ‘pkgconfig’, ‘plogr’, ‘png’, ‘Biostrings’, ‘curl’, ‘mime’, ‘openssl’, ‘R6’, ‘formatR’, ‘IRanges’, ‘DBI’, ‘RSQLite’, ‘S4Vectors’, ‘KEGGREST’, ‘XML’, ‘xtable’, ‘httr’, ‘lambda.r’, ‘futile.options’, ‘BiocGenerics’, ‘AnnotationDbi’, ‘annotate’, ‘Biobase’, ‘futile.logger’, ‘snow’, ‘BH’, ‘locfit’, ‘Rcpp’, ‘genefilter’, ‘BiocParallel’, ‘matrixStats’, ‘limma’, ‘edgeR’\n",
      "\n",
      "\n"
     ]
    }
   ],
   "source": [
    "if (!requireNamespace(\"BiocManager\", quietly=TRUE))\n",
    "    install.packages(\"BiocManager\")\n",
    "BiocManager::install()\n",
    "BiocManager::install(\"sva\")\n",
    "\n",
    "install.packages(c(\"ggplot2\", \"dplyr\", \"tidyr\", \"HistData\", \"mvtnorm\", \"reticulate\"))"
   ]
  },
  {
   "cell_type": "code",
   "execution_count": null,
   "id": "86b788ad",
   "metadata": {},
   "outputs": [],
   "source": [
    "BiocManager::valid()"
   ]
  },
  {
   "cell_type": "markdown",
   "id": "6b4c67bc",
   "metadata": {},
   "source": [
    "### Load packages"
   ]
  },
  {
   "cell_type": "code",
   "execution_count": null,
   "id": "539e47c8",
   "metadata": {},
   "outputs": [],
   "source": [
    "# these packages are needed for HW2\n",
    "# affy and affyPLM are needed to read the microarray data and run RMA\n",
    "library(sva) # for batch effect correction. Contains ComBat and sva.\n",
    "library(ggplot2) # for plotting\n",
    "library(dplyr) # for data manipulation\n",
    "library(reticulate) # needed to run python in Rstudio\n",
    "# these next two are not essential to this course\n",
    "library(mvtnorm) # need this to simulate data from multivariate normal\n",
    "library(HistData) # need this for data"
   ]
  },
  {
   "cell_type": "markdown",
   "id": "9b885d76",
   "metadata": {},
   "source": [
    "## Problem 2: Getting help (0.5 pt)"
   ]
  },
  {
   "cell_type": "markdown",
   "id": "2c8672d4",
   "metadata": {},
   "source": [
    "# Part II: Data Manipulation"
   ]
  },
  {
   "cell_type": "markdown",
   "id": "4449df93",
   "metadata": {},
   "source": [
    "## Problem 3: Basic selection"
   ]
  },
  {
   "cell_type": "markdown",
   "id": "6988f115",
   "metadata": {},
   "source": [
    "In this question, we will practice data manipulation using a dataset\n",
    "collected by Francis Galton in 1886 on the heights of parents and their\n",
    "children. This is a very famous dataset, and Galton used it to come up\n",
    "with regression and correlation.\n",
    "\n",
    "The data is available as `GaltonFamilies` in the `HistData` package.\n",
    "Here, we load the data and show the first few rows. To find out more\n",
    "information about the dataset, use `?GaltonFamilies`."
   ]
  },
  {
   "cell_type": "code",
   "execution_count": null,
   "id": "e2156f61",
   "metadata": {},
   "outputs": [],
   "source": [
    "data(GaltonFamilies)\n",
    "head(GaltonFamilies)"
   ]
  },
  {
   "cell_type": "markdown",
   "id": "e49bc850",
   "metadata": {},
   "source": [
    "a. **Please report the height of the 10th child in the dataset.**"
   ]
  },
  {
   "cell_type": "code",
   "execution_count": null,
   "id": "f10ed9c2",
   "metadata": {},
   "outputs": [],
   "source": []
  },
  {
   "cell_type": "markdown",
   "id": "4c012ec7",
   "metadata": {},
   "source": [
    "b. **What is the breakdown of male and female children in the dataset?**"
   ]
  },
  {
   "cell_type": "code",
   "execution_count": null,
   "id": "59fee33e",
   "metadata": {},
   "outputs": [],
   "source": []
  },
  {
   "cell_type": "markdown",
   "id": "14e8facb",
   "metadata": {},
   "source": [
    "c. **How many observations (number of rows) are in Galton's dataset? Please answer this\n",
    "question without consulting the R help.**"
   ]
  },
  {
   "cell_type": "code",
   "execution_count": null,
   "id": "396ed6a3",
   "metadata": {},
   "outputs": [],
   "source": []
  },
  {
   "cell_type": "markdown",
   "id": "77c12c42",
   "metadata": {},
   "source": []
  },
  {
   "cell_type": "code",
   "execution_count": null,
   "id": "a9153e76",
   "metadata": {},
   "outputs": [],
   "source": []
  },
  {
   "cell_type": "code",
   "execution_count": null,
   "id": "30a44a15",
   "metadata": {},
   "outputs": [],
   "source": []
  }
 ],
 "metadata": {
  "kernelspec": {
   "display_name": "R",
   "language": "R",
   "name": "ir"
  },
  "language_info": {
   "codemirror_mode": "r",
   "file_extension": ".r",
   "mimetype": "text/x-r-source",
   "name": "R",
   "pygments_lexer": "r",
   "version": "4.1.2"
  }
 },
 "nbformat": 4,
 "nbformat_minor": 5
}
