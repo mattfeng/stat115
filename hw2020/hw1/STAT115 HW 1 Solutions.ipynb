{
 "cells": [
  {
   "cell_type": "markdown",
   "id": "e0875b45",
   "metadata": {
    "deletable": false,
    "editable": false,
    "run_control": {
     "frozen": true
    }
   },
   "source": [
    "# STAT115 Homework 1\n",
    "\n",
    "- Author: Matthew Feng\n",
    "- Date: January 9,  2021"
   ]
  },
  {
   "cell_type": "markdown",
   "id": "33b60f63",
   "metadata": {
    "deletable": false,
    "editable": false,
    "run_control": {
     "frozen": true
    }
   },
   "source": [
    "# Part 1: Introduction to R"
   ]
  },
  {
   "cell_type": "markdown",
   "id": "096385a2",
   "metadata": {
    "deletable": false,
    "editable": false,
    "run_control": {
     "frozen": true
    }
   },
   "source": [
    "## Problem 1: Installation"
   ]
  },
  {
   "cell_type": "markdown",
   "id": "ffec4063",
   "metadata": {
    "deletable": false,
    "editable": false,
    "run_control": {
     "frozen": true
    }
   },
   "source": [
    "### Installing packages"
   ]
  },
  {
   "cell_type": "code",
   "execution_count": 1,
   "id": "945bd29f",
   "metadata": {
    "scrolled": false
   },
   "outputs": [
    {
     "name": "stderr",
     "output_type": "stream",
     "text": [
      "Updating HTML index of packages in '.Library'\n",
      "\n",
      "Making 'packages.html' ...\n",
      " done\n",
      "\n",
      "'getOption(\"repos\")' replaces Bioconductor standard repositories, see\n",
      "'?repositories' for details\n",
      "\n",
      "replacement repositories:\n",
      "    CRAN: https://cran.r-project.org\n",
      "\n",
      "\n",
      "Bioconductor version 3.14 (BiocManager 1.30.16), R 4.1.2 (2021-11-01)\n",
      "\n",
      "Installing package(s) 'BiocVersion'\n",
      "\n",
      "Updating HTML index of packages in '.Library'\n",
      "\n",
      "Making 'packages.html' ...\n",
      " done\n",
      "\n",
      "'getOption(\"repos\")' replaces Bioconductor standard repositories, see\n",
      "'?repositories' for details\n",
      "\n",
      "replacement repositories:\n",
      "    CRAN: https://cran.r-project.org\n",
      "\n",
      "\n",
      "Bioconductor version 3.14 (BiocManager 1.30.16), R 4.1.2 (2021-11-01)\n",
      "\n",
      "Installing package(s) 'sva'\n",
      "\n",
      "also installing the dependencies ‘bitops’, ‘zlibbioc’, ‘RCurl’, ‘GenomeInfoDbData’, ‘sys’, ‘bit’, ‘cachem’, ‘XVector’, ‘GenomeInfoDb’, ‘askpass’, ‘bit64’, ‘blob’, ‘memoise’, ‘pkgconfig’, ‘plogr’, ‘png’, ‘Biostrings’, ‘curl’, ‘mime’, ‘openssl’, ‘R6’, ‘formatR’, ‘IRanges’, ‘DBI’, ‘RSQLite’, ‘S4Vectors’, ‘KEGGREST’, ‘XML’, ‘xtable’, ‘httr’, ‘lambda.r’, ‘futile.options’, ‘BiocGenerics’, ‘AnnotationDbi’, ‘annotate’, ‘Biobase’, ‘futile.logger’, ‘snow’, ‘BH’, ‘locfit’, ‘Rcpp’, ‘genefilter’, ‘BiocParallel’, ‘matrixStats’, ‘limma’, ‘edgeR’\n",
      "\n",
      "\n",
      "Updating HTML index of packages in '.Library'\n",
      "\n",
      "Making 'packages.html' ...\n",
      " done\n",
      "\n",
      "also installing the dependencies ‘colorspace’, ‘farver’, ‘labeling’, ‘munsell’, ‘RColorBrewer’, ‘viridisLite’, ‘rprojroot’, ‘gtable’, ‘isoband’, ‘scales’, ‘tibble’, ‘withr’, ‘generics’, ‘magrittr’, ‘tidyselect’, ‘purrr’, ‘cpp11’, ‘here’, ‘rappdirs’\n",
      "\n",
      "\n",
      "Updating HTML index of packages in '.Library'\n",
      "\n",
      "Making 'packages.html' ...\n",
      " done\n",
      "\n"
     ]
    }
   ],
   "source": [
    "if (!requireNamespace(\"BiocManager\", quietly=TRUE))\n",
    "    install.packages(\"BiocManager\")\n",
    "BiocManager::install()\n",
    "BiocManager::install(\"sva\")\n",
    "\n",
    "install.packages(c(\"ggplot2\", \"dplyr\", \"tidyr\", \"HistData\", \"mvtnorm\", \"reticulate\"))"
   ]
  },
  {
   "cell_type": "code",
   "execution_count": 15,
   "id": "94b569c8",
   "metadata": {},
   "outputs": [
    {
     "name": "stderr",
     "output_type": "stream",
     "text": [
      "'getOption(\"repos\")' replaces Bioconductor standard repositories, see\n",
      "'?repositories' for details\n",
      "\n",
      "replacement repositories:\n",
      "    CRAN: https://cran.r-project.org\n",
      "\n",
      "\n"
     ]
    },
    {
     "data": {
      "text/html": [
       "TRUE"
      ],
      "text/latex": [
       "TRUE"
      ],
      "text/markdown": [
       "TRUE"
      ],
      "text/plain": [
       "[1] TRUE"
      ]
     },
     "metadata": {},
     "output_type": "display_data"
    }
   ],
   "source": [
    "BiocManager::valid()"
   ]
  },
  {
   "cell_type": "markdown",
   "id": "7118ba4f",
   "metadata": {
    "deletable": false,
    "editable": false,
    "run_control": {
     "frozen": true
    }
   },
   "source": [
    "### Load packages"
   ]
  },
  {
   "cell_type": "code",
   "execution_count": 13,
   "id": "a7d40b4d",
   "metadata": {},
   "outputs": [],
   "source": [
    "# these packages are needed for HW2\n",
    "# affy and affyPLM are needed to read the microarray data and run RMA\n",
    "\n",
    "library(sva);        # for batch effect correction. Contains ComBat and sva.\n",
    "library(ggplot2);    # for plotting\n",
    "library(dplyr);      # for data manipulation\n",
    "library(reticulate); # needed to run python in Rstudio\n",
    "\n",
    "# these next two are not essential to this course\n",
    "library(mvtnorm);    # need this to simulate data from multivariate normal\n",
    "library(HistData);   # need this for data"
   ]
  },
  {
   "cell_type": "markdown",
   "id": "7b6dcf52",
   "metadata": {
    "deletable": false,
    "editable": false,
    "run_control": {
     "frozen": true
    }
   },
   "source": [
    "## Problem 2: Getting help"
   ]
  },
  {
   "cell_type": "markdown",
   "id": "0b64d1e7",
   "metadata": {
    "deletable": false,
    "editable": false,
    "run_control": {
     "frozen": true
    }
   },
   "source": [
    "# Part II: Data Manipulation"
   ]
  },
  {
   "cell_type": "markdown",
   "id": "b2812f2c",
   "metadata": {
    "deletable": false,
    "editable": false,
    "run_control": {
     "frozen": true
    }
   },
   "source": [
    "## Problem 3: Basic selection"
   ]
  },
  {
   "cell_type": "markdown",
   "id": "dac100f1",
   "metadata": {
    "deletable": false,
    "editable": false,
    "run_control": {
     "frozen": true
    }
   },
   "source": [
    "In this question, we will practice data manipulation using a dataset\n",
    "collected by Francis Galton in 1886 on the heights of parents and their\n",
    "children. This is a very famous dataset, and Galton used it to come up\n",
    "with regression and correlation.\n",
    "\n",
    "The data is available as `GaltonFamilies` in the `HistData` package.\n",
    "Here, we load the data and show the first few rows. To find out more\n",
    "information about the dataset, use `?GaltonFamilies`."
   ]
  },
  {
   "cell_type": "code",
   "execution_count": 5,
   "id": "e143c8fb",
   "metadata": {},
   "outputs": [
    {
     "data": {
      "text/html": [
       "<table class=\"dataframe\">\n",
       "<caption>A data.frame: 6 × 8</caption>\n",
       "<thead>\n",
       "\t<tr><th></th><th scope=col>family</th><th scope=col>father</th><th scope=col>mother</th><th scope=col>midparentHeight</th><th scope=col>children</th><th scope=col>childNum</th><th scope=col>gender</th><th scope=col>childHeight</th></tr>\n",
       "\t<tr><th></th><th scope=col>&lt;fct&gt;</th><th scope=col>&lt;dbl&gt;</th><th scope=col>&lt;dbl&gt;</th><th scope=col>&lt;dbl&gt;</th><th scope=col>&lt;int&gt;</th><th scope=col>&lt;int&gt;</th><th scope=col>&lt;fct&gt;</th><th scope=col>&lt;dbl&gt;</th></tr>\n",
       "</thead>\n",
       "<tbody>\n",
       "\t<tr><th scope=row>1</th><td>001</td><td>78.5</td><td>67.0</td><td>75.43</td><td>4</td><td>1</td><td>male  </td><td>73.2</td></tr>\n",
       "\t<tr><th scope=row>2</th><td>001</td><td>78.5</td><td>67.0</td><td>75.43</td><td>4</td><td>2</td><td>female</td><td>69.2</td></tr>\n",
       "\t<tr><th scope=row>3</th><td>001</td><td>78.5</td><td>67.0</td><td>75.43</td><td>4</td><td>3</td><td>female</td><td>69.0</td></tr>\n",
       "\t<tr><th scope=row>4</th><td>001</td><td>78.5</td><td>67.0</td><td>75.43</td><td>4</td><td>4</td><td>female</td><td>69.0</td></tr>\n",
       "\t<tr><th scope=row>5</th><td>002</td><td>75.5</td><td>66.5</td><td>73.66</td><td>4</td><td>1</td><td>male  </td><td>73.5</td></tr>\n",
       "\t<tr><th scope=row>6</th><td>002</td><td>75.5</td><td>66.5</td><td>73.66</td><td>4</td><td>2</td><td>male  </td><td>72.5</td></tr>\n",
       "</tbody>\n",
       "</table>\n"
      ],
      "text/latex": [
       "A data.frame: 6 × 8\n",
       "\\begin{tabular}{r|llllllll}\n",
       "  & family & father & mother & midparentHeight & children & childNum & gender & childHeight\\\\\n",
       "  & <fct> & <dbl> & <dbl> & <dbl> & <int> & <int> & <fct> & <dbl>\\\\\n",
       "\\hline\n",
       "\t1 & 001 & 78.5 & 67.0 & 75.43 & 4 & 1 & male   & 73.2\\\\\n",
       "\t2 & 001 & 78.5 & 67.0 & 75.43 & 4 & 2 & female & 69.2\\\\\n",
       "\t3 & 001 & 78.5 & 67.0 & 75.43 & 4 & 3 & female & 69.0\\\\\n",
       "\t4 & 001 & 78.5 & 67.0 & 75.43 & 4 & 4 & female & 69.0\\\\\n",
       "\t5 & 002 & 75.5 & 66.5 & 73.66 & 4 & 1 & male   & 73.5\\\\\n",
       "\t6 & 002 & 75.5 & 66.5 & 73.66 & 4 & 2 & male   & 72.5\\\\\n",
       "\\end{tabular}\n"
      ],
      "text/markdown": [
       "\n",
       "A data.frame: 6 × 8\n",
       "\n",
       "| <!--/--> | family &lt;fct&gt; | father &lt;dbl&gt; | mother &lt;dbl&gt; | midparentHeight &lt;dbl&gt; | children &lt;int&gt; | childNum &lt;int&gt; | gender &lt;fct&gt; | childHeight &lt;dbl&gt; |\n",
       "|---|---|---|---|---|---|---|---|---|\n",
       "| 1 | 001 | 78.5 | 67.0 | 75.43 | 4 | 1 | male   | 73.2 |\n",
       "| 2 | 001 | 78.5 | 67.0 | 75.43 | 4 | 2 | female | 69.2 |\n",
       "| 3 | 001 | 78.5 | 67.0 | 75.43 | 4 | 3 | female | 69.0 |\n",
       "| 4 | 001 | 78.5 | 67.0 | 75.43 | 4 | 4 | female | 69.0 |\n",
       "| 5 | 002 | 75.5 | 66.5 | 73.66 | 4 | 1 | male   | 73.5 |\n",
       "| 6 | 002 | 75.5 | 66.5 | 73.66 | 4 | 2 | male   | 72.5 |\n",
       "\n"
      ],
      "text/plain": [
       "  family father mother midparentHeight children childNum gender childHeight\n",
       "1 001    78.5   67.0   75.43           4        1        male   73.2       \n",
       "2 001    78.5   67.0   75.43           4        2        female 69.2       \n",
       "3 001    78.5   67.0   75.43           4        3        female 69.0       \n",
       "4 001    78.5   67.0   75.43           4        4        female 69.0       \n",
       "5 002    75.5   66.5   73.66           4        1        male   73.5       \n",
       "6 002    75.5   66.5   73.66           4        2        male   72.5       "
      ]
     },
     "metadata": {},
     "output_type": "display_data"
    }
   ],
   "source": [
    "data(GaltonFamilies)\n",
    "head(GaltonFamilies)"
   ]
  },
  {
   "cell_type": "markdown",
   "id": "29e5f9a9",
   "metadata": {
    "deletable": false,
    "editable": false,
    "run_control": {
     "frozen": true
    }
   },
   "source": [
    "**a.** Please report the height of the 10th child in the dataset."
   ]
  },
  {
   "cell_type": "code",
   "execution_count": null,
   "id": "9d255f5e",
   "metadata": {},
   "outputs": [],
   "source": [
    "# your R code here"
   ]
  },
  {
   "cell_type": "markdown",
   "id": "5fc8e9ac",
   "metadata": {
    "deletable": false,
    "editable": false,
    "run_control": {
     "frozen": true
    }
   },
   "source": [
    "**b.** What is the breakdown of male and female children in the dataset?"
   ]
  },
  {
   "cell_type": "code",
   "execution_count": null,
   "id": "f18d56a1",
   "metadata": {},
   "outputs": [],
   "source": [
    "# your R code here"
   ]
  },
  {
   "cell_type": "markdown",
   "id": "22430da6",
   "metadata": {
    "deletable": false,
    "editable": false,
    "run_control": {
     "frozen": true
    }
   },
   "source": [
    "**c.** How many observations (number of rows) are in Galton's dataset? Please answer this question without consulting the R help."
   ]
  },
  {
   "cell_type": "code",
   "execution_count": null,
   "id": "a43eb926",
   "metadata": {},
   "outputs": [],
   "source": [
    "# your R code here"
   ]
  },
  {
   "cell_type": "markdown",
   "id": "80750575",
   "metadata": {
    "deletable": false,
    "editable": false,
    "run_control": {
     "frozen": true
    }
   },
   "source": [
    "**d.** What is the mean height for the 1st child in each family?"
   ]
  },
  {
   "cell_type": "code",
   "execution_count": null,
   "id": "c5e87489",
   "metadata": {},
   "outputs": [],
   "source": [
    "# your R code here"
   ]
  },
  {
   "cell_type": "markdown",
   "id": "a165f0bc",
   "metadata": {
    "deletable": false,
    "editable": false,
    "run_control": {
     "frozen": true
    }
   },
   "source": [
    "**e.** Create a table showing the mean height for male and female children."
   ]
  },
  {
   "cell_type": "code",
   "execution_count": null,
   "id": "34707ea4",
   "metadata": {},
   "outputs": [],
   "source": [
    "# your R code here"
   ]
  },
  {
   "cell_type": "markdown",
   "id": "c2b915fb",
   "metadata": {
    "deletable": false,
    "editable": false,
    "run_control": {
     "frozen": true
    }
   },
   "source": [
    "**f.** What was the average number of children each family had?"
   ]
  },
  {
   "cell_type": "code",
   "execution_count": null,
   "id": "19719ee0",
   "metadata": {},
   "outputs": [],
   "source": [
    "# your R code here"
   ]
  },
  {
   "cell_type": "markdown",
   "id": "c57c9ec4",
   "metadata": {
    "deletable": false,
    "editable": false,
    "run_control": {
     "frozen": true
    }
   },
   "source": [
    "**g.** Convert the children's heights from inches to centimeters and store it in a column called `childHeight_cm` in the `GaltonFamilies` dataset. Show the first few rows of this dataset."
   ]
  },
  {
   "cell_type": "code",
   "execution_count": null,
   "id": "d578ea09",
   "metadata": {},
   "outputs": [],
   "source": [
    "# your R code here"
   ]
  },
  {
   "cell_type": "markdown",
   "id": "b61fefa1",
   "metadata": {
    "deletable": false,
    "editable": false,
    "run_control": {
     "frozen": true
    }
   },
   "source": [
    "## Problem 4: Spurious correlation"
   ]
  },
  {
   "cell_type": "code",
   "execution_count": null,
   "id": "1507cf2d",
   "metadata": {},
   "outputs": [],
   "source": [
    "# set seed for reproducibility\n",
    "set.seed(1234)\n",
    "N <- 25\n",
    "ngroups <- 100000\n",
    "sim_data <- data.frame(group = rep(1:ngroups, each = N),\n",
    "                       X = rnorm(N * ngroups),\n",
    "                       Y = rnorm(N * ngroups))"
   ]
  },
  {
   "cell_type": "markdown",
   "id": "4906ae7f",
   "metadata": {
    "deletable": false,
    "editable": false,
    "run_control": {
     "frozen": true
    }
   },
   "source": [
    "In the code above, we generate `ngroups` groups of `N` observations\n",
    "each. In each group, we have X and Y, where X and Y are independent\n",
    "normally distributed data and have 0 correlation."
   ]
  },
  {
   "cell_type": "markdown",
   "id": "72285009",
   "metadata": {
    "deletable": false,
    "editable": false,
    "run_control": {
     "frozen": true
    }
   },
   "source": [
    "**a.** Find the correlation between X and Y for each group, and display\n",
    "the highest correlations.\n",
    "\n",
    "Hint: since the data is quite large and your code might take a few\n",
    "moments to run, you can test your code on a subset of the data first, e.g. you can take the first 100 groups like so:\n",
    "\n",
    "```r\n",
    "# TODO...\n",
    "```\n",
    "\n",
    "In general, this is good practice whenever you have a large dataset:\n",
    "If you are writing new code and it takes a while to run on the whole\n",
    "dataset, get it to work on a subset first. By running on a subset, you\n",
    "can iterate faster.\n",
    "\n",
    "However, please do run your final code on the whole dataset."
   ]
  },
  {
   "cell_type": "code",
   "execution_count": 12,
   "id": "cdcfed75",
   "metadata": {},
   "outputs": [],
   "source": [
    "# your code here"
   ]
  },
  {
   "cell_type": "markdown",
   "id": "c7ea60c1",
   "metadata": {
    "deletable": false,
    "editable": false,
    "run_control": {
     "frozen": true
    }
   },
   "source": [
    "**b.** The highest correlation is around 0.8. Can you explain why we see\n",
    "such a high correlation when X and Y are supposed to be independent and\n",
    "thus uncorrelated?"
   ]
  },
  {
   "cell_type": "raw",
   "id": "c788eb24",
   "metadata": {},
   "source": [
    "your text answer here"
   ]
  },
  {
   "cell_type": "markdown",
   "id": "66091af8",
   "metadata": {
    "deletable": false,
    "editable": false,
    "run_control": {
     "frozen": true
    }
   },
   "source": [
    "# Part III: Plotting"
   ]
  },
  {
   "cell_type": "markdown",
   "id": "55fca592",
   "metadata": {
    "deletable": false,
    "editable": false,
    "run_control": {
     "frozen": true
    }
   },
   "source": [
    "## Problem 5"
   ]
  },
  {
   "cell_type": "markdown",
   "id": "a0131b37",
   "metadata": {
    "deletable": false,
    "editable": false,
    "run_control": {
     "frozen": true
    }
   },
   "source": [
    "**a.** Show a plot of the data for the group that had the highest correlation you found in Problem 4."
   ]
  },
  {
   "cell_type": "code",
   "execution_count": null,
   "id": "feab9bec",
   "metadata": {},
   "outputs": [],
   "source": [
    "# your code here"
   ]
  },
  {
   "cell_type": "markdown",
   "id": "e54c97c3",
   "metadata": {
    "deletable": false,
    "editable": false,
    "run_control": {
     "frozen": true
    }
   },
   "source": [
    "## Problem 6"
   ]
  },
  {
   "cell_type": "markdown",
   "id": "4825db04",
   "metadata": {
    "deletable": false,
    "editable": false,
    "run_control": {
     "frozen": true
    }
   },
   "source": [
    "We generate some sample data below. The data is numeric, and has 3\n",
    "columns: X, Y, Z."
   ]
  },
  {
   "cell_type": "code",
   "execution_count": 6,
   "id": "a847ce33",
   "metadata": {},
   "outputs": [],
   "source": [
    "N <- 100\n",
    "Sigma <- matrix(c(1, 0.75, 0.75, 1), nrow = 2, ncol = 2) * 1.5\n",
    "means <- list(c(11, 3), c(9, 5), c(7, 7), c(5, 9), c(3, 11))\n",
    "dat <- lapply(means, function(mu)\n",
    "  rmvnorm(N, mu, Sigma))\n",
    "dat <- as.data.frame(Reduce(rbind, dat)) %>%\n",
    "  mutate(Z = as.character(rep(seq_along(means), each = N)))\n",
    "names(dat) <- c(\"X\", \"Y\", \"Z\")"
   ]
  },
  {
   "cell_type": "markdown",
   "id": "9b331227",
   "metadata": {
    "deletable": false,
    "editable": false,
    "run_control": {
     "frozen": true
    }
   },
   "source": [
    "**a.** Compute the overall correlation between X and Y."
   ]
  },
  {
   "cell_type": "code",
   "execution_count": null,
   "id": "0eef5e43",
   "metadata": {},
   "outputs": [],
   "source": [
    "# your code here"
   ]
  },
  {
   "cell_type": "markdown",
   "id": "5e12499e",
   "metadata": {
    "deletable": false,
    "editable": false,
    "run_control": {
     "frozen": true
    }
   },
   "source": [
    "**b.** Make a plot showing the relationship between X and Y. Comment on\n",
    "the correlation that you see."
   ]
  },
  {
   "cell_type": "code",
   "execution_count": 7,
   "id": "0e766e42",
   "metadata": {},
   "outputs": [],
   "source": [
    "# your code here"
   ]
  },
  {
   "cell_type": "raw",
   "id": "a7cfbf80",
   "metadata": {},
   "source": [
    "your text answer here"
   ]
  },
  {
   "cell_type": "markdown",
   "id": "a7ce634a",
   "metadata": {
    "deletable": false,
    "editable": false,
    "run_control": {
     "frozen": true
    }
   },
   "source": [
    "**c.** Compute the correlations between X and Y for each level of Z."
   ]
  },
  {
   "cell_type": "code",
   "execution_count": null,
   "id": "b536ec69",
   "metadata": {},
   "outputs": [],
   "source": [
    "# your code here"
   ]
  },
  {
   "cell_type": "markdown",
   "id": "d6b9455e",
   "metadata": {
    "deletable": false,
    "editable": false,
    "run_control": {
     "frozen": true
    }
   },
   "source": [
    "**d.** Make a plot showing the relationship between X and Y, but this time, color the points using the value of Z. Comment on the result, especially any differences between this plot and the previous plot."
   ]
  },
  {
   "cell_type": "code",
   "execution_count": null,
   "id": "8feab0c4",
   "metadata": {},
   "outputs": [],
   "source": [
    "# your code here"
   ]
  },
  {
   "cell_type": "raw",
   "id": "58cef230",
   "metadata": {},
   "source": [
    "your text answer here"
   ]
  },
  {
   "cell_type": "markdown",
   "id": "b7e7cda0",
   "metadata": {
    "deletable": false,
    "editable": false,
    "run_control": {
     "frozen": true
    }
   },
   "source": [
    "# Part IV: Bash practice"
   ]
  },
  {
   "cell_type": "markdown",
   "id": "e700ba91",
   "metadata": {
    "deletable": false,
    "editable": false,
    "run_control": {
     "frozen": true
    }
   },
   "source": [
    "## Problem 7: Bash practice on Odyssey"
   ]
  },
  {
   "cell_type": "markdown",
   "id": "2194fbe9",
   "metadata": {
    "deletable": false,
    "editable": false,
    "run_control": {
     "frozen": true
    }
   },
   "source": [
    "Please answer the following question using bash commands and include those in \n",
    "your answer. Data are available at `/n/stat115/2020/HW1/public_MC3.maf`\n",
    "\n",
    "Mutation Annotation Format ([MAF](https://docs.gdc.cancer.gov/Data/File_Formats/MAF_Format/)) \n",
    "is a tab-delimited text file with aggregated mutation information. \n",
    "MC3.maf `/n/stat115/2020/HW1/public_MC3.maf` is a curated list of [somatic mutation](https://www.britannica.com/science/somatic-mutation) \n",
    "occured in many patients with different types of cancers from TCGA.\n",
    "\n",
    "Since a complete MAF file contains far more information than we need, \n",
    "in this problem we will focus on part of it.\n",
    "\n",
    "```\n",
    "Chromosome  Start_Position  Hugo_Symbol Variant_Classification\n",
    "10          123810032       TACC2       Missense_Mutation\n",
    "10          133967449       JAKMIP3     Silent\n",
    "11          124489539       PANX3       Missense_Mutation\n",
    "11          47380512        SPI1        Missense_Mutation\n",
    "11          89868837        NAALAD2     Missense_Mutation\n",
    "11          92570936        FAT3        Silent\n",
    "12          107371855       MTERFD3     Missense_Mutation\n",
    "12          108012011       BTBD11      Missense_Mutation\n",
    "12          117768962       NOS1        5'Flank\n",
    "```\n",
    "\n",
    "In  `/n/stats115/2020/HW1/MC3/public_MC3.maf`, `Chromosome` and `Start_Position` \n",
    "together specifies the genomics location where a location has happened. \n",
    "`Hogo_symbol` is the overlapping gene of that location, and \n",
    "`Variant_Classification` specifies how it influences downstream biological \n",
    "processes, e.g. transcription and translation.\n",
    "\n",
    "Please include your bash commands and the full output from bash console \n",
    "with text answer to the questions."
   ]
  },
  {
   "cell_type": "markdown",
   "id": "758b3f91",
   "metadata": {
    "deletable": false,
    "editable": false,
    "run_control": {
     "frozen": true
    }
   },
   "source": [
    "**a.** How many lines are there in this file? How many times does the \"KRAS\" gene emerge?"
   ]
  },
  {
   "cell_type": "raw",
   "id": "8f709f7e",
   "metadata": {},
   "source": [
    "your bash code here"
   ]
  },
  {
   "cell_type": "raw",
   "id": "403da047",
   "metadata": {},
   "source": [
    "your bash output here"
   ]
  },
  {
   "cell_type": "raw",
   "id": "f326ef60",
   "metadata": {},
   "source": [
    "your text answer here"
   ]
  },
  {
   "cell_type": "markdown",
   "id": "c977698d",
   "metadata": {
    "deletable": false,
    "editable": false,
    "run_control": {
     "frozen": true
    }
   },
   "source": [
    "**b.** How many unique `Variant_Classification` are there in the MAF? Please count occurence of each type and sort them. Which one is the most frequent?"
   ]
  },
  {
   "cell_type": "raw",
   "id": "3f4f1271",
   "metadata": {},
   "source": [
    "your bash code here"
   ]
  },
  {
   "cell_type": "raw",
   "id": "9956741b",
   "metadata": {},
   "source": [
    "your bash output here"
   ]
  },
  {
   "cell_type": "markdown",
   "id": "e245547f",
   "metadata": {
    "deletable": false,
    "editable": false,
    "run_control": {
     "frozen": true
    }
   },
   "source": [
    "**c.** What are the top FIVE most frequent genes? Please provide the bash command and equivalent Python command. If you are a PI looking for a gene to investigate (you need to find a gene with potentially better biological significance), which gene out of the top 5 would you choose? Why?"
   ]
  },
  {
   "cell_type": "raw",
   "id": "7231b822",
   "metadata": {},
   "source": [
    "your bash code here"
   ]
  },
  {
   "cell_type": "raw",
   "id": "ad4f7c4b",
   "metadata": {},
   "source": [
    "your bash output here"
   ]
  },
  {
   "cell_type": "raw",
   "id": "496c0655",
   "metadata": {},
   "source": [
    "your python command here"
   ]
  },
  {
   "cell_type": "raw",
   "id": "71122a5c",
   "metadata": {},
   "source": [
    "your python output here"
   ]
  },
  {
   "cell_type": "markdown",
   "id": "6aba8b80",
   "metadata": {
    "deletable": false,
    "editable": false,
    "run_control": {
     "frozen": true
    }
   },
   "source": [
    "**d.** Write a bash program that determines whether a user-input year ([YYYY]) is a leap year or not (all years that are multiples of four. If the year is centennial and not divisible by 400, then it is not a leap year). The user input can be either positional or interactive. Please include the content of your shell script here and test on 1900/2000/2002, does your code run as expected?"
   ]
  },
  {
   "cell_type": "raw",
   "id": "21cfae71",
   "metadata": {},
   "source": [
    "your bash code here"
   ]
  },
  {
   "cell_type": "markdown",
   "id": "f2ea2396",
   "metadata": {
    "deletable": false,
    "editable": false,
    "run_control": {
     "frozen": true
    }
   },
   "source": [
    "# Part V. High throughput sequencing read mapping"
   ]
  },
  {
   "cell_type": "markdown",
   "id": "24920f2b",
   "metadata": {},
   "source": [
    "We will give you a simple example to test high throughput sequencing\n",
    "alignment for RNA-seq data. Normally for paired-end sequencing data,\n",
    "each sample will have two separate FASTQ files, with line-by-line\n",
    "correspondence to the two reads from the same fragment. Read mapping\n",
    "could take a long time, so we have created just two FASTQ files of one\n",
    "RNA-seq sample with only 3M fragments (2 * 3M reads) for you to run STAR\n",
    "instead of the full data. The files are located at\n",
    "`/n/stat115/2020/HW1`. The mapping will generate one single output\n",
    "file. Make sure to use the right parameters for single-end (SE) vs\n",
    "paired-end (PE) modes in BWA and STAR.\n",
    "\n",
    "Please include the commands that you used to run BWA and STAR in your\n",
    "answers."
   ]
  },
  {
   "cell_type": "markdown",
   "id": "0373a924",
   "metadata": {},
   "source": [
    "## Problem 8: BWA"
   ]
  },
  {
   "cell_type": "markdown",
   "id": "037ffd06",
   "metadata": {},
   "source": [
    "**a.** Use BWA (Li & Durbin, Bioinformatics 2009) to map the reads to the Hg38 version of the reference genome, available on Odyssey at `/n/stat115/HW2_2019/bwa_hg38_index/hg38.fasta`.\n",
    "\n",
    "In `/n/stat115/HW1_2020/BWA/loop`, you are provided with three `.fastq` files with following structure (`A_l` and `A_r` are paired sequencing reads from sample_A). Write a for loop in bash to align reads to the reference using BWA PE mode and geneterate output in SAM format.\n",
    "\n",
    "How many rows are in each output `.sam` files? Use SAMTools on the output to find out how many reads are mappable and uniquely mappable (please also calculate the ratio). Please include full samtools output and text answer."
   ]
  },
  {
   "cell_type": "raw",
   "id": "e70fadaa",
   "metadata": {},
   "source": [
    "please provide the content of your sbatch script (including the header)"
   ]
  },
  {
   "cell_type": "raw",
   "id": "4318c277",
   "metadata": {},
   "source": [
    "samtools output"
   ]
  },
  {
   "cell_type": "markdown",
   "id": "c63a2d19",
   "metadata": {},
   "source": [
    "## Problem 9: STAR Alignment"
   ]
  },
  {
   "cell_type": "markdown",
   "id": "d1fffd63",
   "metadata": {},
   "source": [
    "**a.** Use STAR (Dobin et al, Bioinformatics 2012) to map the reads to the\n",
    "reference genome, available on Odyssey at\n",
    "`/n/stat115/HW1_2020/STARIndex`. Use the paired-end alignment mode and\n",
    "generate the output in SAM format. Please include full STAR report.  \n",
    "\n",
    "How many reads are mappable and how many are uniquely mappable?"
   ]
  },
  {
   "cell_type": "raw",
   "id": "ffcc62e0",
   "metadata": {},
   "source": [
    "please provide the content of your sbatch script (including the header)"
   ]
  },
  {
   "cell_type": "raw",
   "id": "30533b94",
   "metadata": {},
   "source": [
    "log file from STAR"
   ]
  },
  {
   "cell_type": "markdown",
   "id": "1e9cb4e9",
   "metadata": {
    "deletable": false,
    "editable": false,
    "run_control": {
     "frozen": true
    }
   },
   "source": [
    "**b.** If you are getting a different number of mappable fragments between BWA and STAR on the same data, why?"
   ]
  },
  {
   "cell_type": "raw",
   "id": "4af77045",
   "metadata": {},
   "source": [
    "your text answer here"
   ]
  },
  {
   "cell_type": "markdown",
   "id": "34a7d3d1",
   "metadata": {
    "deletable": false,
    "editable": false,
    "run_control": {
     "frozen": true
    }
   },
   "source": [
    "# Part VII: Dynamic programming with Python"
   ]
  },
  {
   "cell_type": "markdown",
   "id": "15c878bd",
   "metadata": {
    "deletable": false,
    "editable": false,
    "run_control": {
     "frozen": true
    }
   },
   "source": [
    "## Problem 10"
   ]
  },
  {
   "cell_type": "markdown",
   "id": "cbe43332",
   "metadata": {
    "deletable": false,
    "editable": false,
    "run_control": {
     "frozen": true
    }
   },
   "source": [
    "Given a list of finite integer numbers, write a python script to maximize $Z$, where $Z$ is the sum of the numbers from location $X$ to location $Y$ on this list. Be aware, your algorithm should look at each number ONLY ONCE from left to right. Your script should return three values: the starting index location $X$, the ending index location $Y$, and $Z$, the sum of numbers between index $X$ and $Y$ (inclusive).\n",
    "\n",
    "For example, if `A=[-2, 1, 7, -4, 5, 2, -3, -6, 4, 3, -8, -1, 6, -7, -9, -5]`, your program should return (`start_index = 1`, `end_index = 5`, `sum = 11`) corresponding to `[1, 7, -4, 5, 2]`.\n",
    "\n",
    "Please test your program with this example and see if you can get the correct numbers.\n",
    "\n",
    "Hint: Consider dynamic programming."
   ]
  },
  {
   "cell_type": "raw",
   "id": "97589055",
   "metadata": {},
   "source": [
    "your python code here"
   ]
  }
 ],
 "metadata": {
  "kernelspec": {
   "display_name": "R",
   "language": "R",
   "name": "ir"
  },
  "language_info": {
   "codemirror_mode": "r",
   "file_extension": ".r",
   "mimetype": "text/x-r-source",
   "name": "R",
   "pygments_lexer": "r",
   "version": "4.1.2"
  }
 },
 "nbformat": 4,
 "nbformat_minor": 5
}
