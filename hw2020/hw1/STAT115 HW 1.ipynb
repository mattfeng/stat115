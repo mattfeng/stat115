{
 "cells": [
  {
   "cell_type": "markdown",
   "id": "e0875b45",
   "metadata": {},
   "source": [
    "# STAT115 Homework 1\n",
    "\n",
    "- Author: Matthew Feng\n",
    "- Date: January 9,  2021"
   ]
  },
  {
   "cell_type": "markdown",
   "id": "33b60f63",
   "metadata": {},
   "source": [
    "# Part 1: Introduction to R"
   ]
  },
  {
   "cell_type": "markdown",
   "id": "096385a2",
   "metadata": {},
   "source": [
    "## Problem 1: Installation"
   ]
  },
  {
   "cell_type": "markdown",
   "id": "ffec4063",
   "metadata": {},
   "source": [
    "### Installing packages"
   ]
  },
  {
   "cell_type": "code",
   "execution_count": 1,
   "id": "945bd29f",
   "metadata": {
    "scrolled": false
   },
   "outputs": [
    {
     "name": "stderr",
     "output_type": "stream",
     "text": [
      "Updating HTML index of packages in '.Library'\n",
      "\n",
      "Making 'packages.html' ...\n",
      " done\n",
      "\n",
      "'getOption(\"repos\")' replaces Bioconductor standard repositories, see\n",
      "'?repositories' for details\n",
      "\n",
      "replacement repositories:\n",
      "    CRAN: https://cran.r-project.org\n",
      "\n",
      "\n",
      "Bioconductor version 3.14 (BiocManager 1.30.16), R 4.1.2 (2021-11-01)\n",
      "\n",
      "Installing package(s) 'BiocVersion'\n",
      "\n",
      "Updating HTML index of packages in '.Library'\n",
      "\n",
      "Making 'packages.html' ...\n",
      " done\n",
      "\n",
      "'getOption(\"repos\")' replaces Bioconductor standard repositories, see\n",
      "'?repositories' for details\n",
      "\n",
      "replacement repositories:\n",
      "    CRAN: https://cran.r-project.org\n",
      "\n",
      "\n",
      "Bioconductor version 3.14 (BiocManager 1.30.16), R 4.1.2 (2021-11-01)\n",
      "\n",
      "Installing package(s) 'sva'\n",
      "\n",
      "also installing the dependencies ‘bitops’, ‘zlibbioc’, ‘RCurl’, ‘GenomeInfoDbData’, ‘sys’, ‘bit’, ‘cachem’, ‘XVector’, ‘GenomeInfoDb’, ‘askpass’, ‘bit64’, ‘blob’, ‘memoise’, ‘pkgconfig’, ‘plogr’, ‘png’, ‘Biostrings’, ‘curl’, ‘mime’, ‘openssl’, ‘R6’, ‘formatR’, ‘IRanges’, ‘DBI’, ‘RSQLite’, ‘S4Vectors’, ‘KEGGREST’, ‘XML’, ‘xtable’, ‘httr’, ‘lambda.r’, ‘futile.options’, ‘BiocGenerics’, ‘AnnotationDbi’, ‘annotate’, ‘Biobase’, ‘futile.logger’, ‘snow’, ‘BH’, ‘locfit’, ‘Rcpp’, ‘genefilter’, ‘BiocParallel’, ‘matrixStats’, ‘limma’, ‘edgeR’\n",
      "\n",
      "\n",
      "Updating HTML index of packages in '.Library'\n",
      "\n",
      "Making 'packages.html' ...\n",
      " done\n",
      "\n",
      "also installing the dependencies ‘colorspace’, ‘farver’, ‘labeling’, ‘munsell’, ‘RColorBrewer’, ‘viridisLite’, ‘rprojroot’, ‘gtable’, ‘isoband’, ‘scales’, ‘tibble’, ‘withr’, ‘generics’, ‘magrittr’, ‘tidyselect’, ‘purrr’, ‘cpp11’, ‘here’, ‘rappdirs’\n",
      "\n",
      "\n",
      "Updating HTML index of packages in '.Library'\n",
      "\n",
      "Making 'packages.html' ...\n",
      " done\n",
      "\n"
     ]
    }
   ],
   "source": [
    "if (!requireNamespace(\"BiocManager\", quietly=TRUE))\n",
    "    install.packages(\"BiocManager\")\n",
    "BiocManager::install()\n",
    "BiocManager::install(\"sva\")\n",
    "\n",
    "install.packages(c(\"ggplot2\", \"dplyr\", \"tidyr\", \"HistData\", \"mvtnorm\", \"reticulate\"))"
   ]
  },
  {
   "cell_type": "code",
   "execution_count": 2,
   "id": "94b569c8",
   "metadata": {},
   "outputs": [
    {
     "name": "stderr",
     "output_type": "stream",
     "text": [
      "'getOption(\"repos\")' replaces Bioconductor standard repositories, see\n",
      "'?repositories' for details\n",
      "\n",
      "replacement repositories:\n",
      "    CRAN: https://cran.r-project.org\n",
      "\n",
      "\n"
     ]
    },
    {
     "data": {
      "text/html": [
       "TRUE"
      ],
      "text/latex": [
       "TRUE"
      ],
      "text/markdown": [
       "TRUE"
      ],
      "text/plain": [
       "[1] TRUE"
      ]
     },
     "metadata": {},
     "output_type": "display_data"
    }
   ],
   "source": [
    "BiocManager::valid()"
   ]
  },
  {
   "cell_type": "markdown",
   "id": "7118ba4f",
   "metadata": {},
   "source": [
    "### Load packages"
   ]
  },
  {
   "cell_type": "code",
   "execution_count": 4,
   "id": "a7d40b4d",
   "metadata": {},
   "outputs": [
    {
     "name": "stderr",
     "output_type": "stream",
     "text": [
      "Loading required package: mgcv\n",
      "\n",
      "Loading required package: nlme\n",
      "\n",
      "This is mgcv 1.8-38. For overview type 'help(\"mgcv-package\")'.\n",
      "\n",
      "Loading required package: genefilter\n",
      "\n",
      "Loading required package: BiocParallel\n",
      "\n",
      "\n",
      "Attaching package: ‘dplyr’\n",
      "\n",
      "\n",
      "The following object is masked from ‘package:nlme’:\n",
      "\n",
      "    collapse\n",
      "\n",
      "\n",
      "The following objects are masked from ‘package:stats’:\n",
      "\n",
      "    filter, lag\n",
      "\n",
      "\n",
      "The following objects are masked from ‘package:base’:\n",
      "\n",
      "    intersect, setdiff, setequal, union\n",
      "\n",
      "\n",
      "\n",
      "Attaching package: ‘HistData’\n",
      "\n",
      "\n",
      "The following object is masked from ‘package:nlme’:\n",
      "\n",
      "    Wheat\n",
      "\n",
      "\n"
     ]
    }
   ],
   "source": [
    "# these packages are needed for HW2\n",
    "# affy and affyPLM are needed to read the microarray data and run RMA\n",
    "library(sva) # for batch effect correction. Contains ComBat and sva.\n",
    "library(ggplot2) # for plotting\n",
    "library(dplyr) # for data manipulation\n",
    "library(reticulate) # needed to run python in Rstudio\n",
    "# these next two are not essential to this course\n",
    "library(mvtnorm) # need this to simulate data from multivariate normal\n",
    "library(HistData) # need this for data"
   ]
  },
  {
   "cell_type": "markdown",
   "id": "7b6dcf52",
   "metadata": {},
   "source": [
    "## Problem 2: Getting help (0.5 pt)"
   ]
  },
  {
   "cell_type": "markdown",
   "id": "0b64d1e7",
   "metadata": {},
   "source": [
    "# Part II: Data Manipulation"
   ]
  },
  {
   "cell_type": "markdown",
   "id": "b2812f2c",
   "metadata": {},
   "source": [
    "## Problem 3: Basic selection"
   ]
  },
  {
   "cell_type": "markdown",
   "id": "dac100f1",
   "metadata": {},
   "source": [
    "In this question, we will practice data manipulation using a dataset\n",
    "collected by Francis Galton in 1886 on the heights of parents and their\n",
    "children. This is a very famous dataset, and Galton used it to come up\n",
    "with regression and correlation.\n",
    "\n",
    "The data is available as `GaltonFamilies` in the `HistData` package.\n",
    "Here, we load the data and show the first few rows. To find out more\n",
    "information about the dataset, use `?GaltonFamilies`."
   ]
  },
  {
   "cell_type": "code",
   "execution_count": 5,
   "id": "e143c8fb",
   "metadata": {},
   "outputs": [
    {
     "data": {
      "text/html": [
       "<table class=\"dataframe\">\n",
       "<caption>A data.frame: 6 × 8</caption>\n",
       "<thead>\n",
       "\t<tr><th></th><th scope=col>family</th><th scope=col>father</th><th scope=col>mother</th><th scope=col>midparentHeight</th><th scope=col>children</th><th scope=col>childNum</th><th scope=col>gender</th><th scope=col>childHeight</th></tr>\n",
       "\t<tr><th></th><th scope=col>&lt;fct&gt;</th><th scope=col>&lt;dbl&gt;</th><th scope=col>&lt;dbl&gt;</th><th scope=col>&lt;dbl&gt;</th><th scope=col>&lt;int&gt;</th><th scope=col>&lt;int&gt;</th><th scope=col>&lt;fct&gt;</th><th scope=col>&lt;dbl&gt;</th></tr>\n",
       "</thead>\n",
       "<tbody>\n",
       "\t<tr><th scope=row>1</th><td>001</td><td>78.5</td><td>67.0</td><td>75.43</td><td>4</td><td>1</td><td>male  </td><td>73.2</td></tr>\n",
       "\t<tr><th scope=row>2</th><td>001</td><td>78.5</td><td>67.0</td><td>75.43</td><td>4</td><td>2</td><td>female</td><td>69.2</td></tr>\n",
       "\t<tr><th scope=row>3</th><td>001</td><td>78.5</td><td>67.0</td><td>75.43</td><td>4</td><td>3</td><td>female</td><td>69.0</td></tr>\n",
       "\t<tr><th scope=row>4</th><td>001</td><td>78.5</td><td>67.0</td><td>75.43</td><td>4</td><td>4</td><td>female</td><td>69.0</td></tr>\n",
       "\t<tr><th scope=row>5</th><td>002</td><td>75.5</td><td>66.5</td><td>73.66</td><td>4</td><td>1</td><td>male  </td><td>73.5</td></tr>\n",
       "\t<tr><th scope=row>6</th><td>002</td><td>75.5</td><td>66.5</td><td>73.66</td><td>4</td><td>2</td><td>male  </td><td>72.5</td></tr>\n",
       "</tbody>\n",
       "</table>\n"
      ],
      "text/latex": [
       "A data.frame: 6 × 8\n",
       "\\begin{tabular}{r|llllllll}\n",
       "  & family & father & mother & midparentHeight & children & childNum & gender & childHeight\\\\\n",
       "  & <fct> & <dbl> & <dbl> & <dbl> & <int> & <int> & <fct> & <dbl>\\\\\n",
       "\\hline\n",
       "\t1 & 001 & 78.5 & 67.0 & 75.43 & 4 & 1 & male   & 73.2\\\\\n",
       "\t2 & 001 & 78.5 & 67.0 & 75.43 & 4 & 2 & female & 69.2\\\\\n",
       "\t3 & 001 & 78.5 & 67.0 & 75.43 & 4 & 3 & female & 69.0\\\\\n",
       "\t4 & 001 & 78.5 & 67.0 & 75.43 & 4 & 4 & female & 69.0\\\\\n",
       "\t5 & 002 & 75.5 & 66.5 & 73.66 & 4 & 1 & male   & 73.5\\\\\n",
       "\t6 & 002 & 75.5 & 66.5 & 73.66 & 4 & 2 & male   & 72.5\\\\\n",
       "\\end{tabular}\n"
      ],
      "text/markdown": [
       "\n",
       "A data.frame: 6 × 8\n",
       "\n",
       "| <!--/--> | family &lt;fct&gt; | father &lt;dbl&gt; | mother &lt;dbl&gt; | midparentHeight &lt;dbl&gt; | children &lt;int&gt; | childNum &lt;int&gt; | gender &lt;fct&gt; | childHeight &lt;dbl&gt; |\n",
       "|---|---|---|---|---|---|---|---|---|\n",
       "| 1 | 001 | 78.5 | 67.0 | 75.43 | 4 | 1 | male   | 73.2 |\n",
       "| 2 | 001 | 78.5 | 67.0 | 75.43 | 4 | 2 | female | 69.2 |\n",
       "| 3 | 001 | 78.5 | 67.0 | 75.43 | 4 | 3 | female | 69.0 |\n",
       "| 4 | 001 | 78.5 | 67.0 | 75.43 | 4 | 4 | female | 69.0 |\n",
       "| 5 | 002 | 75.5 | 66.5 | 73.66 | 4 | 1 | male   | 73.5 |\n",
       "| 6 | 002 | 75.5 | 66.5 | 73.66 | 4 | 2 | male   | 72.5 |\n",
       "\n"
      ],
      "text/plain": [
       "  family father mother midparentHeight children childNum gender childHeight\n",
       "1 001    78.5   67.0   75.43           4        1        male   73.2       \n",
       "2 001    78.5   67.0   75.43           4        2        female 69.2       \n",
       "3 001    78.5   67.0   75.43           4        3        female 69.0       \n",
       "4 001    78.5   67.0   75.43           4        4        female 69.0       \n",
       "5 002    75.5   66.5   73.66           4        1        male   73.5       \n",
       "6 002    75.5   66.5   73.66           4        2        male   72.5       "
      ]
     },
     "metadata": {},
     "output_type": "display_data"
    }
   ],
   "source": [
    "data(GaltonFamilies)\n",
    "head(GaltonFamilies)"
   ]
  },
  {
   "cell_type": "markdown",
   "id": "29e5f9a9",
   "metadata": {},
   "source": [
    "a. **Please report the height of the 10th child in the dataset.**"
   ]
  },
  {
   "cell_type": "code",
   "execution_count": null,
   "id": "9d255f5e",
   "metadata": {},
   "outputs": [],
   "source": []
  },
  {
   "cell_type": "markdown",
   "id": "5fc8e9ac",
   "metadata": {},
   "source": [
    "b. **What is the breakdown of male and female children in the dataset?**"
   ]
  },
  {
   "cell_type": "code",
   "execution_count": null,
   "id": "f18d56a1",
   "metadata": {},
   "outputs": [],
   "source": []
  },
  {
   "cell_type": "markdown",
   "id": "22430da6",
   "metadata": {},
   "source": [
    "c. **How many observations (number of rows) are in Galton's dataset? Please answer this\n",
    "question without consulting the R help.**"
   ]
  },
  {
   "cell_type": "code",
   "execution_count": null,
   "id": "a43eb926",
   "metadata": {},
   "outputs": [],
   "source": []
  },
  {
   "cell_type": "markdown",
   "id": "80750575",
   "metadata": {},
   "source": [
    "d. **What is the mean height for the 1st child in each family?**"
   ]
  },
  {
   "cell_type": "code",
   "execution_count": null,
   "id": "c5e87489",
   "metadata": {},
   "outputs": [],
   "source": []
  },
  {
   "cell_type": "markdown",
   "id": "a165f0bc",
   "metadata": {},
   "source": [
    "e. **Create a table showing the mean height for male and female children.**"
   ]
  },
  {
   "cell_type": "code",
   "execution_count": null,
   "id": "34707ea4",
   "metadata": {},
   "outputs": [],
   "source": []
  },
  {
   "cell_type": "markdown",
   "id": "c2b915fb",
   "metadata": {},
   "source": [
    "f. **What was the average number of children each family had?**"
   ]
  },
  {
   "cell_type": "code",
   "execution_count": null,
   "id": "19719ee0",
   "metadata": {},
   "outputs": [],
   "source": []
  },
  {
   "cell_type": "markdown",
   "id": "c57c9ec4",
   "metadata": {},
   "source": [
    "g. **Convert the children's heights from inches to centimeters and store\n",
    "it in a column called `childHeight_cm` in the `GaltonFamilies` dataset.\n",
    "Show the first few rows of this dataset.**"
   ]
  },
  {
   "cell_type": "markdown",
   "id": "b61fefa1",
   "metadata": {},
   "source": [
    "## Problem 4: Spurious correlation"
   ]
  },
  {
   "cell_type": "code",
   "execution_count": null,
   "id": "eead1f17",
   "metadata": {},
   "outputs": [],
   "source": []
  },
  {
   "cell_type": "code",
   "execution_count": null,
   "id": "cecfa0c8",
   "metadata": {},
   "outputs": [],
   "source": []
  },
  {
   "cell_type": "code",
   "execution_count": null,
   "id": "5fb03beb",
   "metadata": {},
   "outputs": [],
   "source": []
  },
  {
   "cell_type": "code",
   "execution_count": null,
   "id": "a77b8165",
   "metadata": {},
   "outputs": [],
   "source": []
  },
  {
   "cell_type": "code",
   "execution_count": null,
   "id": "feab9bec",
   "metadata": {},
   "outputs": [],
   "source": []
  }
 ],
 "metadata": {
  "kernelspec": {
   "display_name": "R",
   "language": "R",
   "name": "ir"
  },
  "language_info": {
   "codemirror_mode": "r",
   "file_extension": ".r",
   "mimetype": "text/x-r-source",
   "name": "R",
   "pygments_lexer": "r",
   "version": "4.1.2"
  }
 },
 "nbformat": 4,
 "nbformat_minor": 5
}
