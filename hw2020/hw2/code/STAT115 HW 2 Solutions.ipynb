{
 "cells": [
  {
   "cell_type": "markdown",
   "id": "66fbefa5",
   "metadata": {
    "deletable": false,
    "editable": false,
    "run_control": {
     "frozen": true
    }
   },
   "source": [
    "# STAT115 Homework 2"
   ]
  },
  {
   "cell_type": "markdown",
   "id": "952723fa",
   "metadata": {
    "deletable": false,
    "editable": false,
    "run_control": {
     "frozen": true
    }
   },
   "source": [
    "- Author: Matthew Feng\n",
    "- Date: January 12, 2022"
   ]
  },
  {
   "cell_type": "markdown",
   "id": "60c1f65b",
   "metadata": {
    "deletable": false,
    "editable": false,
    "run_control": {
     "frozen": true
    }
   },
   "source": [
    "## Part I: RNA-seq quality control"
   ]
  },
  {
   "cell_type": "markdown",
   "id": "200438ce",
   "metadata": {
    "deletable": false,
    "editable": false,
    "run_control": {
     "frozen": true
    }
   },
   "source": [
    "For this question, we will examine a series of tools used to perform essential quality-control analyses for high-throughput RNA sequencing data."
   ]
  },
  {
   "cell_type": "markdown",
   "id": "ba0d429b",
   "metadata": {
    "deletable": false,
    "editable": false,
    "run_control": {
     "frozen": true
    }
   },
   "source": [
    "### Problem 1"
   ]
  },
  {
   "cell_type": "markdown",
   "id": "644a66a2",
   "metadata": {
    "deletable": false,
    "editable": false,
    "run_control": {
     "frozen": true
    }
   },
   "source": [
    "**a. (3 pts)** You are asked by a collaborator to analyze _four_ RNA-seq libraries. She suspects that the libraries are generally of high-quality but is concerned that a sample may have been switched with her benchmates during processing. Execute FastQC, STAR, and RSeQC (`tin.py`) to determine whether any of the samples exhibit unusual quality control metrics. Overall, identify the best and worst libraries. Your answer should provide evidence from all three tools. Include screenshots and tables as necessary as if you were delivering a report to the collaborator.\n",
    "\n",
    "```\n",
    "Sequencing data:\n",
    "/n/stat115/2020/HW2/raw_data\n",
    "\n",
    "modules: fastqc/0.11.8-fasrc01, STAR/2.6.0c-fasrc01\n",
    "index: /n/stat115/2020/HW2/star_hg38_index\n",
    "bed: /n/stat115/2020/HW2/hg38_RefSeq.bed \n",
    "```\n",
    "\n",
    "Hint: it is not required, but may be helpful to run STAR with these parameters:\n",
    "```\n",
    "--outSAMtype BAM SortedByCoordinate \n",
    "--readFilesCommand zcat\n",
    "```"
   ]
  },
  {
   "cell_type": "markdown",
   "id": "b1b6d8e6",
   "metadata": {},
   "source": [
    "> your text response here"
   ]
  },
  {
   "cell_type": "markdown",
   "id": "9fa6910d",
   "metadata": {
    "deletable": false,
    "editable": false,
    "run_control": {
     "frozen": true
    }
   },
   "source": [
    "**b. (0.5 pts)** Your collaborator recalls that one of her samples was left on the bench for a couple of days before the full RNA-seq library was processed. Using the metrics from the question above, can you identify this sample? Provide your rationale."
   ]
  },
  {
   "cell_type": "markdown",
   "id": "cbf7d8db",
   "metadata": {},
   "source": [
    "> your text response here"
   ]
  },
  {
   "cell_type": "markdown",
   "id": "b867aced",
   "metadata": {
    "deletable": false,
    "editable": false,
    "run_control": {
     "frozen": true
    }
   },
   "source": [
    "## Part II: Pseudoalignment"
   ]
  },
  {
   "cell_type": "markdown",
   "id": "899323a8",
   "metadata": {
    "deletable": false,
    "editable": false,
    "run_control": {
     "frozen": true
    }
   },
   "source": [
    "### Problem 2"
   ]
  },
  {
   "cell_type": "markdown",
   "id": "ef46dfc8",
   "metadata": {
    "deletable": false,
    "editable": false,
    "run_control": {
     "frozen": true
    }
   },
   "source": [
    "**a. (1 pt)** Process the 4 sequencing libraries with Salmon introduced in the previous question. Identify the transcript and gene with the highest expression in each library from the Salmon output."
   ]
  },
  {
   "cell_type": "markdown",
   "id": "7c5f5b37",
   "metadata": {},
   "source": [
    "> your text response here"
   ]
  },
  {
   "cell_type": "markdown",
   "id": "cb6f2b6f",
   "metadata": {
    "deletable": false,
    "editable": false,
    "run_control": {
     "frozen": true
    }
   },
   "source": [
    "**b. (1 pt)** Report the relative speed of Salmon and STAR for the analyses of these four samples. Comment on your results based on the lecture material.\n",
    "\n",
    "Hint: You can parse the times from log files or use the `time` tool in the command line."
   ]
  },
  {
   "cell_type": "markdown",
   "id": "30764131",
   "metadata": {},
   "source": [
    "> your text response here"
   ]
  },
  {
   "cell_type": "markdown",
   "id": "f269604c",
   "metadata": {},
   "source": [
    "**c. (1 pt)** Plot the relationship between effective length, normalized read counts, TPM, and FPKM for runX from the Salmon output. Comment on the relative utility of each metric when analyzing gene expression data."
   ]
  },
  {
   "cell_type": "code",
   "execution_count": null,
   "id": "71bd2380",
   "metadata": {},
   "outputs": [],
   "source": [
    "# your code here (generate plots)"
   ]
  },
  {
   "cell_type": "markdown",
   "id": "86db0bc5",
   "metadata": {},
   "source": [
    "> your text response here"
   ]
  },
  {
   "cell_type": "markdown",
   "id": "d4d0da47",
   "metadata": {
    "deletable": false,
    "editable": false,
    "run_control": {
     "frozen": true
    }
   },
   "source": [
    "## Part III: Differential expression"
   ]
  },
  {
   "cell_type": "markdown",
   "id": "146d0bb1",
   "metadata": {
    "deletable": false,
    "editable": false,
    "run_control": {
     "frozen": true
    }
   },
   "source": [
    "### Problem 3"
   ]
  },
  {
   "cell_type": "markdown",
   "id": "4d640dd7",
   "metadata": {
    "deletable": false,
    "editable": false,
    "run_control": {
     "frozen": true
    }
   },
   "source": [
    "In 2014, a controversial manuscript from Lin et al. argued that, based on RNA-seq of several tissues from both mouse and human, fundamental physiological differences existed between these two organisms. Here, we will investigate these claims for a subset of the data analyzed. \n",
    "\n",
    "Note: a copy of this manuscript is included as the `part3_4-manuscript.pdf` file associated with this homework.\n",
    "\n",
    "The provided data is a counts matrix of the samples with the following conventions:\n",
    "\n",
    "```\n",
    "row: <mouse>_<human> gene name (e.g. Stag2_STAG2)\n",
    "column: <organism>_<tissue>_<batch> sample identifier (e.g. human_adipose_3)\n",
    "```"
   ]
  },
  {
   "cell_type": "markdown",
   "id": "e512e668",
   "metadata": {
    "deletable": false,
    "editable": false,
    "run_control": {
     "frozen": true
    }
   },
   "source": [
    "**a. (1 pt)** Perform a principle component analysis of the samples using the top 5,000 most variable genes as features. Indicate the species, tissue, and batch per sample plot. Do the results support the conclusions of the original paper? Do the results suggest the presence of a batch effect?"
   ]
  },
  {
   "cell_type": "code",
   "execution_count": 1,
   "id": "d343bd6c",
   "metadata": {
    "deletable": false,
    "editable": false
   },
   "outputs": [],
   "source": [
    "# Import processed raw counts\n",
    "counts <- readRDS(\"../data/part3_counts.rds\")\n",
    "\n",
    "# Perform a log TPM normalization\n",
    "log2tpm <- sapply(1:dim(counts)[2], function(idx){\n",
    "  log2((counts[,idx]/sum(counts[,idx]) * 1000000) + 1)\n",
    "})\n",
    "colnames(log2tpm) <- colnames(counts)"
   ]
  },
  {
   "cell_type": "code",
   "execution_count": null,
   "id": "70417ea6",
   "metadata": {},
   "outputs": [],
   "source": [
    "# continue analysis with your code here"
   ]
  },
  {
   "cell_type": "markdown",
   "id": "420938fc",
   "metadata": {},
   "source": [
    "> your text response here"
   ]
  },
  {
   "cell_type": "markdown",
   "id": "19eb5826",
   "metadata": {
    "deletable": false,
    "editable": false,
    "run_control": {
     "frozen": true
    }
   },
   "source": [
    "**b. (1 pt)** Run COMBAT on the samples to remove the batch effect. Visualize the results using a similar principle component analysis as the question above. Provide evidence that the batch effects are successfully adjusted. Do these results change the primary interpretation of the results?"
   ]
  },
  {
   "cell_type": "code",
   "execution_count": null,
   "id": "61e94b6b",
   "metadata": {},
   "outputs": [],
   "source": [
    "# your code here"
   ]
  },
  {
   "cell_type": "markdown",
   "id": "607b8d6a",
   "metadata": {},
   "source": [
    "> your text response here"
   ]
  },
  {
   "cell_type": "markdown",
   "id": "ee4804bb",
   "metadata": {
    "deletable": false,
    "editable": false,
    "run_control": {
     "frozen": true
    }
   },
   "source": [
    "**c. (1 pt)** Run DESeq2 adjusting for the batch effect to identify differentially-expressed genes between the lung and adipose tissue. Report the number of statistically-significant genes as well as whether they are more highly expressed in either adipose tissue or lung tissue."
   ]
  },
  {
   "cell_type": "markdown",
   "id": "d4ef1470",
   "metadata": {},
   "source": [
    "> your text response here"
   ]
  },
  {
   "cell_type": "markdown",
   "id": "d4b971f9",
   "metadata": {
    "deletable": false,
    "editable": false,
    "run_control": {
     "frozen": true
    }
   },
   "source": [
    "**d. (1 pt)** Identify the top 5 most differentially expressed genes that are overexpressed in each of the tissues. Comment on the biological relevance of these. It may be useful to use data from the GTEx consortium when interpreting your result.\n",
    "\n",
    "GTEx link: [https://www.gtexportal.org/home](https://www.gtexportal.org/home)."
   ]
  },
  {
   "cell_type": "code",
   "execution_count": 2,
   "id": "e865334d",
   "metadata": {},
   "outputs": [],
   "source": [
    "# your code here"
   ]
  },
  {
   "cell_type": "markdown",
   "id": "190b08d2",
   "metadata": {},
   "source": [
    "> your text response here"
   ]
  },
  {
   "cell_type": "markdown",
   "id": "8b6fca37",
   "metadata": {
    "deletable": false,
    "editable": false,
    "run_control": {
     "frozen": true
    }
   },
   "source": [
    "**e. (1 pt)** Visualize the differential gene expression values by making a volcano and an MA plot to summarize the differences between the two tissues. Be sure to use the `lfcShrink` function to get more robust estimates of the fold-changes for genes."
   ]
  },
  {
   "cell_type": "code",
   "execution_count": null,
   "id": "4a57d685",
   "metadata": {},
   "outputs": [],
   "source": [
    "# your code here"
   ]
  },
  {
   "cell_type": "markdown",
   "id": "ae4eef8d",
   "metadata": {},
   "source": [
    "> your text response here"
   ]
  },
  {
   "cell_type": "markdown",
   "id": "8b87279f",
   "metadata": {
    "deletable": false,
    "editable": false,
    "run_control": {
     "frozen": true
    }
   },
   "source": [
    "**f. (1 pt)** Rerun differential gene expression analyses without accounting for the batch effect. Compare the number of differentially expressed genes and anecdotes of top differentially expressed genes. Are the numbers of differentially expressed genes before/after the batch effect consistent with what you would have expected? Comment on the biological relevance of the top genes."
   ]
  },
  {
   "cell_type": "markdown",
   "id": "905aeaf4",
   "metadata": {},
   "source": [
    "> your text response here"
   ]
  },
  {
   "cell_type": "markdown",
   "id": "d5f67efb",
   "metadata": {
    "deletable": false,
    "editable": false,
    "run_control": {
     "frozen": true
    }
   },
   "source": [
    "## Part IV: Gene ontology"
   ]
  },
  {
   "cell_type": "markdown",
   "id": "e40460e4",
   "metadata": {
    "deletable": false,
    "editable": false,
    "run_control": {
     "frozen": true
    }
   },
   "source": [
    "### Problem 4"
   ]
  },
  {
   "cell_type": "markdown",
   "id": "34b60b64",
   "metadata": {
    "deletable": false,
    "editable": false,
    "run_control": {
     "frozen": true
    }
   },
   "source": [
    "While the previous question identified genes that were differentially expressed between tissues and specific anecdotes were used for interpretation, we often want to assesss the differences between samples using a more wholistic approach. Pathway enrichment analyses provide a statistically principled way of examining many differentially expressed genes in an effort to identify biological patterns that explain the results. These patterns are defined using prior biological knowledge."
   ]
  },
  {
   "cell_type": "markdown",
   "id": "5331775f",
   "metadata": {
    "deletable": false,
    "editable": false,
    "run_control": {
     "frozen": true
    }
   },
   "source": [
    "**a. (1.5 pts)** Run the up and down regulated genes computed in Problem 3c separately on DAVID (http://david.abcc.ncifcrf.gov/) to see whether these genes are enriched in specific biological process, pathways, etc. For example, consider reporting the enrichments for the top 100 genes in the KEGG pathways. If you were to summarize the results in a paper, how would you describe the systematic biologial features that are different between these tissues? Your analysis should comment on the stability of enriched pathways (with at least 2 different input gene list sizes) and attempt to interpret the results in the differential physiological properties of the tissues."
   ]
  },
  {
   "cell_type": "markdown",
   "id": "31ebd380",
   "metadata": {},
   "source": [
    "> your text response here"
   ]
  },
  {
   "cell_type": "markdown",
   "id": "2e348bc3",
   "metadata": {
    "deletable": false,
    "editable": false,
    "run_control": {
     "frozen": true
    }
   },
   "source": [
    "**b. (0.5 pts)** Describe in at least 3 but no more than 7 sentences the methodological differences between how approaches like DAVID and approaches like GSEA work in identifying enriched pathways from RNA-seq data."
   ]
  },
  {
   "cell_type": "markdown",
   "id": "c676fd14",
   "metadata": {},
   "source": [
    "> your text response here"
   ]
  },
  {
   "cell_type": "markdown",
   "id": "3758d945",
   "metadata": {
    "deletable": false,
    "editable": false,
    "run_control": {
     "frozen": true
    }
   },
   "source": [
    "**c. (1 pt)** Run Gene Set Enrichment analysis (http://www.broadinstitute.org/gsea/index.jsp) using the summary statistics from Problem 3c. What are the gene sets or experiments that best capture the differential expression data between these two cell types? Comment on the biological relevance of the results and compare them to the results produced from the DAVID analysis.\n",
    "\n",
    "Hint: The [fgsea package](https://bioconductor.org/packages/release/bioc/html/fgsea.html) may be easier to use than the original Java distribution of GSEA."
   ]
  },
  {
   "cell_type": "markdown",
   "id": "562ca7ee",
   "metadata": {},
   "source": [
    "> your text response here"
   ]
  },
  {
   "cell_type": "markdown",
   "id": "64fc1fce",
   "metadata": {
    "deletable": false,
    "editable": false,
    "run_control": {
     "frozen": true
    }
   },
   "source": [
    "## Part V: Python programming"
   ]
  },
  {
   "cell_type": "markdown",
   "id": "03e40047",
   "metadata": {
    "deletable": false,
    "editable": false,
    "run_control": {
     "frozen": true
    }
   },
   "source": [
    "### Problem 5 (2 pts)"
   ]
  },
  {
   "cell_type": "markdown",
   "id": "66fb6f64",
   "metadata": {
    "deletable": false,
    "editable": false,
    "run_control": {
     "frozen": true
    }
   },
   "source": [
    "RSeQC on RNA-seq generates many output files. One such file is called `geneBodyCoverage.r` which contains normalized reads mapped to each % of gene / transcript body.\n",
    "\n",
    "Suppose that we want to visualize all 12 samples from a recent RNA-seq library together to quickly perform quality control. These data files are present in the `part5` folder. Write a Python program to extract the values and name from each file. The same script should then draw the gene body coverage for all the samples (3 rows x 4 cols) in one figure. We provide an example with 3 x 2 samples in one figure. Include your code and final figure in your report."
   ]
  },
  {
   "cell_type": "markdown",
   "id": "afd0ab1b",
   "metadata": {},
   "source": [
    "```python\n",
    "#!/usr/bin/env python\n",
    "# your python code here\n",
    "```"
   ]
  },
  {
   "cell_type": "markdown",
   "id": "ab60e477",
   "metadata": {},
   "source": [
    "> your text response here"
   ]
  },
  {
   "cell_type": "markdown",
   "id": "c1b506c8",
   "metadata": {
    "deletable": false,
    "editable": false,
    "run_control": {
     "frozen": true
    }
   },
   "source": [
    "## Part VI: Batch effects and classification in the literature"
   ]
  },
  {
   "cell_type": "markdown",
   "id": "582a6c31",
   "metadata": {
    "deletable": false,
    "editable": false,
    "run_control": {
     "frozen": true
    }
   },
   "source": [
    "### Problem 6"
   ]
  },
  {
   "cell_type": "markdown",
   "id": "0486a5ab",
   "metadata": {
    "deletable": false,
    "editable": false,
    "run_control": {
     "frozen": true
    }
   },
   "source": [
    "In a recent manuscript (published September 2019), Zhou et al. describe a modified version of RNA-seq called **SILVER-seq** that enables profiling of extracellular RNAs (exRNAs). The manuscript reports impressive performance in classifying patients with breast cancer compared to healthy controls as well as whether the cancer was recurrent. About three weeks ago, the original findings were challenged by Hartl and Gao where they argued that a batch effect confounded the interpretation of the work. The authors then rebutted the challenge.\n",
    "\n",
    "If you are curious, you can access the raw SILVER-seq data from this study here: https://www.ncbi.nlm.nih.gov/geo/query/acc.cgi?acc=GSE131512."
   ]
  },
  {
   "cell_type": "markdown",
   "id": "9bcb1c3c",
   "metadata": {
    "deletable": false,
    "editable": false,
    "run_control": {
     "frozen": true
    }
   },
   "source": [
    "**a. (1 pt)** In the main manuscript (see `1_original.pdf`), what bioinformatics methods were used in conjuction with the SILVER-seq protocol to predict patient status? Name the methods and describe their purpose (list at least 3)."
   ]
  },
  {
   "cell_type": "markdown",
   "id": "6c23584f",
   "metadata": {},
   "source": [
    "> your text response here"
   ]
  },
  {
   "cell_type": "markdown",
   "id": "795c20ac",
   "metadata": {
    "deletable": false,
    "editable": false,
    "run_control": {
     "frozen": true
    }
   },
   "source": [
    "**b. (0.5 pts)** Briefly summarize the Hartl and Gao response (see `2_Hartl_response.pdf`). Specifically, what evidence do Hartl and Gao offer that the interpretation of the original manuscript may be confounded by a batch effect? If you were the bioinformatician analyzing the original data, what steps, if any, could you take to eliminate the batch effect?"
   ]
  },
  {
   "cell_type": "markdown",
   "id": "c58e0c18",
   "metadata": {},
   "source": [
    "> your text response here"
   ]
  },
  {
   "cell_type": "markdown",
   "id": "bcb09cb8",
   "metadata": {
    "deletable": false,
    "editable": false,
    "run_control": {
     "frozen": true
    }
   },
   "source": [
    "**c. (0.5 pts)** Summarize the response to Hartl (see `3_response_to_Hartl.pdf`). Specifically, how do the original authors argue that there is “a lack of between batch differences”? Do you find their rebuttal convincing?"
   ]
  },
  {
   "cell_type": "markdown",
   "id": "8593ee62",
   "metadata": {},
   "source": [
    "> your text response here"
   ]
  },
  {
   "cell_type": "markdown",
   "id": "cb295c01",
   "metadata": {
    "deletable": false,
    "editable": false,
    "run_control": {
     "frozen": true
    }
   },
   "source": [
    "**d. (0.5 pts)** Design a modified version of the study that utilizes both proper experimental setup and computational tools discussed in this lab/homework that would ameloirate the potential batch effect in assessing the efficacy of SILVER-seq. Comment specifically on batch design and analytical methods. Assume that you want to test the same number of samples (~130) but no more than 10 samples can be processed per batch."
   ]
  },
  {
   "cell_type": "markdown",
   "id": "c760a559",
   "metadata": {},
   "source": [
    "> your text response here"
   ]
  },
  {
   "cell_type": "markdown",
   "id": "a68b6f3a",
   "metadata": {
    "deletable": false,
    "editable": false,
    "run_control": {
     "frozen": true
    }
   },
   "source": [
    "**e. (Optional)** After reading the primary manuscript and both responses, how do you interpret the efficacy of SILVER-seq as a tool for cancer diagnostics/prediction? What remaining questions do you think need to be answered before this technology could be confidently used with patients?"
   ]
  },
  {
   "cell_type": "markdown",
   "id": "3fd2c3ee",
   "metadata": {},
   "source": [
    "> your text response here"
   ]
  }
 ],
 "metadata": {
  "kernelspec": {
   "display_name": "R",
   "language": "R",
   "name": "ir"
  },
  "language_info": {
   "codemirror_mode": "r",
   "file_extension": ".r",
   "mimetype": "text/x-r-source",
   "name": "R",
   "pygments_lexer": "r",
   "version": "4.1.2"
  }
 },
 "nbformat": 4,
 "nbformat_minor": 5
}
