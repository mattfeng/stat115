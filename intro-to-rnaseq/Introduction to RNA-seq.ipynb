{
 "cells": [
  {
   "cell_type": "markdown",
   "id": "5f9b5f17",
   "metadata": {
    "deletable": false,
    "editable": false,
    "run_control": {
     "frozen": true
    }
   },
   "source": [
    "# Introduction to bulk RNA-seq"
   ]
  },
  {
   "cell_type": "markdown",
   "id": "e29eded7",
   "metadata": {
    "deletable": false,
    "editable": false,
    "run_control": {
     "frozen": true
    }
   },
   "source": [
    "## Terminology"
   ]
  },
  {
   "cell_type": "markdown",
   "id": "ac7fc8f9",
   "metadata": {},
   "source": [
    "- **replicate.** same thing as sample\n"
   ]
  },
  {
   "cell_type": "markdown",
   "id": "673695f5",
   "metadata": {
    "deletable": false,
    "editable": false,
    "run_control": {
     "frozen": true
    }
   },
   "source": [
    "## Raw data"
   ]
  },
  {
   "cell_type": "markdown",
   "id": "f635a0ef",
   "metadata": {},
   "source": [
    "### Metadata\n",
    "\n",
    "- The RNA was extracted from [HEK293F (human embryonic kidney 293 freestyle)](https://en.wikipedia.org/wiki/HEK_293_cells) cells that were transfected with a **MOV10 transgene**, **MOV10 siRNA**, or an **irrelevant siRNA**.\n",
    "- Sequencing was carried out on the **Illumina HiSeq-2500**, and **100bp single-end** reads were generated.\n",
    "- The full dataset sequenced **40 million reads per sample**, but we are using a subset only on chromosome 1, which had around **300,000 reads per sample**."
   ]
  },
  {
   "cell_type": "code",
   "execution_count": null,
   "id": "790b25cf",
   "metadata": {},
   "outputs": [],
   "source": []
  }
 ],
 "metadata": {
  "kernelspec": {
   "display_name": "R",
   "language": "R",
   "name": "ir"
  },
  "language_info": {
   "codemirror_mode": "r",
   "file_extension": ".r",
   "mimetype": "text/x-r-source",
   "name": "R",
   "pygments_lexer": "r",
   "version": "4.1.2"
  }
 },
 "nbformat": 4,
 "nbformat_minor": 5
}
