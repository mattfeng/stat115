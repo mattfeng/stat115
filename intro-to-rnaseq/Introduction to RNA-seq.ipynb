{
 "cells": [
  {
   "cell_type": "markdown",
   "id": "33e9d656",
   "metadata": {},
   "source": [
    "# Introduction to bulk RNA-seq"
   ]
  },
  {
   "cell_type": "markdown",
   "id": "eb08a798",
   "metadata": {},
   "source": [
    "## Raw data"
   ]
  },
  {
   "cell_type": "markdown",
   "id": "a857d681",
   "metadata": {},
   "source": [
    "### Metadata\n",
    "\n",
    "- The RNA was extracted from [HEK293F (human embryonic kidney 293 freestyle)](https://en.wikipedia.org/wiki/HEK_293_cells) cells that were transfected with a **MOV10 transgene**, **MOV10 siRNA**, or an **irrelevant siRNA**."
   ]
  },
  {
   "cell_type": "code",
   "execution_count": null,
   "id": "dcd37ce5",
   "metadata": {},
   "outputs": [],
   "source": []
  }
 ],
 "metadata": {
  "kernelspec": {
   "display_name": "R",
   "language": "R",
   "name": "ir"
  },
  "language_info": {
   "codemirror_mode": "r",
   "file_extension": ".r",
   "mimetype": "text/x-r-source",
   "name": "R",
   "pygments_lexer": "r",
   "version": "4.1.2"
  }
 },
 "nbformat": 4,
 "nbformat_minor": 5
}
